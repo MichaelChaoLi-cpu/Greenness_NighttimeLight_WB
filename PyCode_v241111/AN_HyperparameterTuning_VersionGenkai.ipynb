{
 "cells": [
  {
   "cell_type": "markdown",
   "id": "5f0321dd-e479-42f0-bf34-07d102bfc94a",
   "metadata": {},
   "source": [
    "# Hyperparameter Search"
   ]
  },
  {
   "cell_type": "code",
   "execution_count": 1,
   "id": "248d6cba-921a-45c2-9ca5-2aa807e6f122",
   "metadata": {},
   "outputs": [
    {
     "data": {
      "text/plain": [
       "'D:\\\\15_Article\\\\PyCode_v241111'"
      ]
     },
     "execution_count": 1,
     "metadata": {},
     "output_type": "execute_result"
    }
   ],
   "source": [
    "%pwd"
   ]
  },
  {
   "cell_type": "code",
   "execution_count": 2,
   "id": "3a9bcc67-10fb-4426-aea2-a23996ee60db",
   "metadata": {},
   "outputs": [
    {
     "name": "stdout",
     "output_type": "stream",
     "text": [
      "D:\\15_Article\n"
     ]
    }
   ],
   "source": [
    "%cd .."
   ]
  },
  {
   "cell_type": "code",
   "execution_count": 4,
   "id": "3db65262-f3df-482a-94f5-7f3a5e6a6c5a",
   "metadata": {},
   "outputs": [
    {
     "name": "stdout",
     "output_type": "stream",
     "text": [
      " Volume in drive D has no label.\n",
      " Volume Serial Number is 0E99-E4FB\n",
      "\n",
      " Directory of D:\\15_Article\n",
      "\n",
      "11/12/2024  11:04 AM    <DIR>          .\n",
      "11/12/2024  11:04 AM    <DIR>          ..\n",
      "11/11/2024  05:55 PM               364 .gitignore\n",
      "11/12/2024  11:04 AM    <DIR>          .virtual_documents\n",
      "11/12/2024  10:40 AM    <DIR>          01_Data\n",
      "11/11/2024  05:55 PM    <DIR>          02_RCode\n",
      "11/11/2024  05:55 PM               218 03_RStudio.Rproj\n",
      "11/11/2024  05:55 PM    <DIR>          04_Figure\n",
      "11/11/2024  05:55 PM    <DIR>          05_Manuscript\n",
      "11/12/2024  11:02 AM    <DIR>          06_PyCode\n",
      "11/11/2024  05:55 PM    <DIR>          08_ShScript\n",
      "11/11/2024  05:55 PM            11,558 LICENSE\n",
      "11/12/2024  11:02 AM    <DIR>          PyCode_v241111\n",
      "11/11/2024  05:55 PM             4,122 README.md\n",
      "               4 File(s)         16,262 bytes\n",
      "              10 Dir(s)  372,871,139,328 bytes free\n"
     ]
    }
   ],
   "source": [
    "!dir"
   ]
  },
  {
   "cell_type": "markdown",
   "id": "407d1397-cd18-482e-ad4a-4b8ddeb94c81",
   "metadata": {},
   "source": [
    "## Import Package "
   ]
  },
  {
   "cell_type": "code",
   "execution_count": 24,
   "id": "0ae92017-ce27-440a-a135-b37f9afca9f7",
   "metadata": {},
   "outputs": [],
   "source": [
    "from glob import glob\n",
    "import numpy as np\n",
    "import pandas as pd\n",
    "import random\n",
    "from sklearn.ensemble import RandomForestRegressor\n",
    "from sklearn.metrics import mean_squared_error, r2_score\n",
    "from sklearn.model_selection import train_test_split, KFold\n",
    "from skopt import BayesSearchCV\n",
    "from skopt.space import Real, Integer"
   ]
  },
  {
   "cell_type": "code",
   "execution_count": null,
   "id": "d69640cd-1a96-4a8a-adbb-b8773d231f0f",
   "metadata": {},
   "outputs": [],
   "source": []
  },
  {
   "cell_type": "markdown",
   "id": "a828e436-ea4b-4853-a4b8-7a4071805c63",
   "metadata": {},
   "source": [
    "### Function"
   ]
  },
  {
   "cell_type": "code",
   "execution_count": 6,
   "id": "63ea44dc-7fa2-4380-80a9-ae39992e9c58",
   "metadata": {},
   "outputs": [],
   "source": [
    "### X and y\n",
    "def getXandY(Output_Vari):\n",
    "    y_list = glob(\"01_Data/*_y_\" + Output_Vari + \"*.csv\")\n",
    "    y = pd.read_csv(y_list[0], index_col=0)\n",
    "    y = y.iloc[:,0].to_numpy()\n",
    "    X_list = glob(\"01_Data/*_X_\" + Output_Vari + \"*.csv\")\n",
    "    X = pd.read_csv(X_list[0], index_col=0)\n",
    "    X_train, X_test, y_train, y_test = train_test_split(X, y, test_size=0.1, \n",
    "                                                        random_state=1)\n",
    "    return X_train, X_test, y_train, y_test"
   ]
  },
  {
   "cell_type": "code",
   "execution_count": null,
   "id": "0a044639-eaaf-4997-b0ad-89a02a5ceabb",
   "metadata": {},
   "outputs": [],
   "source": []
  },
  {
   "cell_type": "markdown",
   "id": "ce522d6e-00c4-4184-ba19-a8d64d251e53",
   "metadata": {},
   "source": [
    "## Experiment for Happiness"
   ]
  },
  {
   "cell_type": "markdown",
   "id": "110ac070-2ef8-469c-bff1-983f2ad4726e",
   "metadata": {},
   "source": [
    "### Load Data"
   ]
  },
  {
   "cell_type": "code",
   "execution_count": 7,
   "id": "ebbb2391-1e21-4a1a-84dc-bab5fc13dbd0",
   "metadata": {},
   "outputs": [],
   "source": [
    "Output_Vari = \"Happinessoverall\""
   ]
  },
  {
   "cell_type": "code",
   "execution_count": 8,
   "id": "9c4bb916-b4e2-4884-a663-10208597d51d",
   "metadata": {},
   "outputs": [],
   "source": [
    "X_train, X_test, y_train, y_test = getXandY(Output_Vari)"
   ]
  },
  {
   "cell_type": "code",
   "execution_count": 9,
   "id": "ea3e0f58-8578-4468-a58b-e1554a68e4f8",
   "metadata": {},
   "outputs": [
    {
     "data": {
      "text/html": [
       "<div>\n",
       "<style scoped>\n",
       "    .dataframe tbody tr th:only-of-type {\n",
       "        vertical-align: middle;\n",
       "    }\n",
       "\n",
       "    .dataframe tbody tr th {\n",
       "        vertical-align: top;\n",
       "    }\n",
       "\n",
       "    .dataframe thead th {\n",
       "        text-align: right;\n",
       "    }\n",
       "</style>\n",
       "<table border=\"1\" class=\"dataframe\">\n",
       "  <thead>\n",
       "    <tr style=\"text-align: right;\">\n",
       "      <th></th>\n",
       "      <th>year</th>\n",
       "      <th>lat</th>\n",
       "      <th>lon</th>\n",
       "      <th>female</th>\n",
       "      <th>age</th>\n",
       "      <th>high_stress</th>\n",
       "      <th>low_stress</th>\n",
       "      <th>easy_to_relax</th>\n",
       "      <th>good_for_living</th>\n",
       "      <th>live_environment_satefy</th>\n",
       "      <th>...</th>\n",
       "      <th>housewife</th>\n",
       "      <th>retired</th>\n",
       "      <th>unemployed</th>\n",
       "      <th>college_no_diploma</th>\n",
       "      <th>bachelor</th>\n",
       "      <th>master</th>\n",
       "      <th>phd</th>\n",
       "      <th>income_indiv</th>\n",
       "      <th>NDVI</th>\n",
       "      <th>NTL</th>\n",
       "    </tr>\n",
       "  </thead>\n",
       "  <tbody>\n",
       "    <tr>\n",
       "      <th>329671</th>\n",
       "      <td>2016</td>\n",
       "      <td>37.183964</td>\n",
       "      <td>138.256897</td>\n",
       "      <td>1</td>\n",
       "      <td>51</td>\n",
       "      <td>4</td>\n",
       "      <td>5</td>\n",
       "      <td>3</td>\n",
       "      <td>4</td>\n",
       "      <td>3</td>\n",
       "      <td>...</td>\n",
       "      <td>0</td>\n",
       "      <td>0</td>\n",
       "      <td>0</td>\n",
       "      <td>0</td>\n",
       "      <td>0</td>\n",
       "      <td>0</td>\n",
       "      <td>0</td>\n",
       "      <td>3.5</td>\n",
       "      <td>29.553186</td>\n",
       "      <td>4.315041</td>\n",
       "    </tr>\n",
       "    <tr>\n",
       "      <th>24633</th>\n",
       "      <td>2015</td>\n",
       "      <td>37.239090</td>\n",
       "      <td>140.353348</td>\n",
       "      <td>1</td>\n",
       "      <td>26</td>\n",
       "      <td>5</td>\n",
       "      <td>5</td>\n",
       "      <td>3</td>\n",
       "      <td>3</td>\n",
       "      <td>4</td>\n",
       "      <td>...</td>\n",
       "      <td>0</td>\n",
       "      <td>0</td>\n",
       "      <td>0</td>\n",
       "      <td>1</td>\n",
       "      <td>0</td>\n",
       "      <td>0</td>\n",
       "      <td>0</td>\n",
       "      <td>1.0</td>\n",
       "      <td>40.441441</td>\n",
       "      <td>2.005019</td>\n",
       "    </tr>\n",
       "    <tr>\n",
       "      <th>279845</th>\n",
       "      <td>2016</td>\n",
       "      <td>35.528252</td>\n",
       "      <td>140.185822</td>\n",
       "      <td>0</td>\n",
       "      <td>67</td>\n",
       "      <td>2</td>\n",
       "      <td>1</td>\n",
       "      <td>4</td>\n",
       "      <td>4</td>\n",
       "      <td>3</td>\n",
       "      <td>...</td>\n",
       "      <td>0</td>\n",
       "      <td>0</td>\n",
       "      <td>0</td>\n",
       "      <td>0</td>\n",
       "      <td>1</td>\n",
       "      <td>0</td>\n",
       "      <td>0</td>\n",
       "      <td>1.0</td>\n",
       "      <td>53.940829</td>\n",
       "      <td>7.728996</td>\n",
       "    </tr>\n",
       "    <tr>\n",
       "      <th>269295</th>\n",
       "      <td>2016</td>\n",
       "      <td>33.566044</td>\n",
       "      <td>130.342041</td>\n",
       "      <td>1</td>\n",
       "      <td>35</td>\n",
       "      <td>1</td>\n",
       "      <td>3</td>\n",
       "      <td>4</td>\n",
       "      <td>4</td>\n",
       "      <td>3</td>\n",
       "      <td>...</td>\n",
       "      <td>1</td>\n",
       "      <td>0</td>\n",
       "      <td>0</td>\n",
       "      <td>1</td>\n",
       "      <td>0</td>\n",
       "      <td>0</td>\n",
       "      <td>0</td>\n",
       "      <td>1.0</td>\n",
       "      <td>30.014896</td>\n",
       "      <td>17.481237</td>\n",
       "    </tr>\n",
       "    <tr>\n",
       "      <th>232515</th>\n",
       "      <td>2015</td>\n",
       "      <td>33.619823</td>\n",
       "      <td>130.515259</td>\n",
       "      <td>1</td>\n",
       "      <td>32</td>\n",
       "      <td>4</td>\n",
       "      <td>4</td>\n",
       "      <td>2</td>\n",
       "      <td>4</td>\n",
       "      <td>3</td>\n",
       "      <td>...</td>\n",
       "      <td>1</td>\n",
       "      <td>0</td>\n",
       "      <td>0</td>\n",
       "      <td>0</td>\n",
       "      <td>1</td>\n",
       "      <td>0</td>\n",
       "      <td>0</td>\n",
       "      <td>2.5</td>\n",
       "      <td>55.156878</td>\n",
       "      <td>5.779940</td>\n",
       "    </tr>\n",
       "  </tbody>\n",
       "</table>\n",
       "<p>5 rows × 29 columns</p>\n",
       "</div>"
      ],
      "text/plain": [
       "        year        lat         lon  female  age  high_stress  low_stress  \\\n",
       "329671  2016  37.183964  138.256897       1   51            4           5   \n",
       "24633   2015  37.239090  140.353348       1   26            5           5   \n",
       "279845  2016  35.528252  140.185822       0   67            2           1   \n",
       "269295  2016  33.566044  130.342041       1   35            1           3   \n",
       "232515  2015  33.619823  130.515259       1   32            4           4   \n",
       "\n",
       "        easy_to_relax  good_for_living  live_environment_satefy  ...  \\\n",
       "329671              3                4                        3  ...   \n",
       "24633               3                3                        4  ...   \n",
       "279845              4                4                        3  ...   \n",
       "269295              4                4                        3  ...   \n",
       "232515              2                4                        3  ...   \n",
       "\n",
       "        housewife  retired  unemployed  college_no_diploma  bachelor  master  \\\n",
       "329671          0        0           0                   0         0       0   \n",
       "24633           0        0           0                   1         0       0   \n",
       "279845          0        0           0                   0         1       0   \n",
       "269295          1        0           0                   1         0       0   \n",
       "232515          1        0           0                   0         1       0   \n",
       "\n",
       "        phd  income_indiv       NDVI        NTL  \n",
       "329671    0           3.5  29.553186   4.315041  \n",
       "24633     0           1.0  40.441441   2.005019  \n",
       "279845    0           1.0  53.940829   7.728996  \n",
       "269295    0           1.0  30.014896  17.481237  \n",
       "232515    0           2.5  55.156878   5.779940  \n",
       "\n",
       "[5 rows x 29 columns]"
      ]
     },
     "execution_count": 9,
     "metadata": {},
     "output_type": "execute_result"
    }
   ],
   "source": [
    "X_train.head()"
   ]
  },
  {
   "cell_type": "code",
   "execution_count": 10,
   "id": "685197c1-d79b-4370-88d0-2610d32629ad",
   "metadata": {},
   "outputs": [
    {
     "data": {
      "text/plain": [
       "Index(['year', 'lat', 'lon', 'female', 'age', 'high_stress', 'low_stress',\n",
       "       'easy_to_relax', 'good_for_living', 'live_environment_satefy',\n",
       "       'community_attachment', 'income', 'self_reported_health', 'student',\n",
       "       'worker', 'company_owner', 'government_officer', 'self_employed',\n",
       "       'professional', 'housewife', 'retired', 'unemployed',\n",
       "       'college_no_diploma', 'bachelor', 'master', 'phd', 'income_indiv',\n",
       "       'NDVI', 'NTL'],\n",
       "      dtype='object')"
      ]
     },
     "execution_count": 10,
     "metadata": {},
     "output_type": "execute_result"
    }
   ],
   "source": [
    "X_train.columns"
   ]
  },
  {
   "cell_type": "code",
   "execution_count": 11,
   "id": "a4ad32f6-d9f9-4777-9824-4b7060a3bac5",
   "metadata": {},
   "outputs": [
    {
     "data": {
      "text/plain": [
       "(344855, 29)"
      ]
     },
     "execution_count": 11,
     "metadata": {},
     "output_type": "execute_result"
    }
   ],
   "source": [
    "X_train.shape"
   ]
  },
  {
   "cell_type": "code",
   "execution_count": 12,
   "id": "1edda5da-390d-4fb6-8266-a90c4b2f224f",
   "metadata": {},
   "outputs": [
    {
     "data": {
      "text/plain": [
       "(38318, 29)"
      ]
     },
     "execution_count": 12,
     "metadata": {},
     "output_type": "execute_result"
    }
   ],
   "source": [
    "X_test.shape"
   ]
  },
  {
   "cell_type": "code",
   "execution_count": 13,
   "id": "27517f01-7148-4ace-86dc-b6c5ccb320cc",
   "metadata": {},
   "outputs": [],
   "source": [
    "X = pd.concat([X_train, X_test])"
   ]
  },
  {
   "cell_type": "code",
   "execution_count": 14,
   "id": "68492610-9ea7-4f1f-9345-5a04063dd408",
   "metadata": {},
   "outputs": [
    {
     "data": {
      "text/plain": [
       "(383173, 29)"
      ]
     },
     "execution_count": 14,
     "metadata": {},
     "output_type": "execute_result"
    }
   ],
   "source": [
    "X.shape"
   ]
  },
  {
   "cell_type": "code",
   "execution_count": 15,
   "id": "8eb12c26-1ad5-4d78-94d1-0a1d38332f9e",
   "metadata": {},
   "outputs": [],
   "source": [
    "y = np.concatenate([y_train, y_test])"
   ]
  },
  {
   "cell_type": "code",
   "execution_count": 16,
   "id": "be9bdb6e-d5c5-4f3f-9c34-ebbaa91a5926",
   "metadata": {},
   "outputs": [
    {
     "data": {
      "text/plain": [
       "(383173,)"
      ]
     },
     "execution_count": 16,
     "metadata": {},
     "output_type": "execute_result"
    }
   ],
   "source": [
    "y.shape"
   ]
  },
  {
   "cell_type": "code",
   "execution_count": null,
   "id": "8cb72982-1924-45b1-843e-704ee4abf0be",
   "metadata": {},
   "outputs": [],
   "source": []
  },
  {
   "cell_type": "markdown",
   "id": "2337754f-7f61-487c-8d1c-ac6452d1b1ff",
   "metadata": {},
   "source": [
    "### Run Test Model"
   ]
  },
  {
   "cell_type": "code",
   "execution_count": 26,
   "id": "f6e15e0a-b4f0-4f28-94d2-699c161c49a6",
   "metadata": {},
   "outputs": [],
   "source": [
    "param_space = {\n",
    "    'n_estimators': Integer(100, 5000),\n",
    "    'max_depth': Integer(3, 16),\n",
    "    'max_samples': Real(0.5, 1.0),\n",
    "    'min_samples_split':  Integer(2, 32)\n",
    "}"
   ]
  },
  {
   "cell_type": "code",
   "execution_count": 28,
   "id": "f7f7a39d-304b-455d-972b-3a99703ce099",
   "metadata": {},
   "outputs": [],
   "source": [
    "rf_reg =RandomForestRegressor(n_jobs = 4)"
   ]
  },
  {
   "cell_type": "code",
   "execution_count": 29,
   "id": "7f5f6627-b145-4ed0-a95d-30b999364912",
   "metadata": {},
   "outputs": [],
   "source": [
    "class RandomRunNFoldsKFold(KFold):\n",
    "    def __init__(self, n_splits=10, random_state=None, run_splits=3, **kwargs):\n",
    "        super().__init__(n_splits=n_splits, shuffle=True, random_state=random_state, **kwargs)\n",
    "        self.random_state = random_state\n",
    "        self.actual_splits = run_splits  # Number of actual splits to use\n",
    "\n",
    "    def split(self, X, y=None, groups=None):\n",
    "        folds = list(super().split(X, y, groups))\n",
    "        if self.random_state is not None:\n",
    "            random.seed(self.random_state)\n",
    "        selected_folds = random.sample(folds, self.actual_splits)\n",
    "        for train_index, test_index in selected_folds:\n",
    "            yield train_index, test_index\n",
    "\n",
    "    def get_n_splits(self, X=None, y=None, groups=None):\n",
    "        return self.actual_splits"
   ]
  },
  {
   "cell_type": "code",
   "execution_count": 30,
   "id": "7edfbf35-e8da-4828-9459-6a766ae42fe7",
   "metadata": {},
   "outputs": [],
   "source": [
    "rkfcv = RandomRunNFoldsKFold(n_splits=10, run_splits=3, random_state=42)"
   ]
  },
  {
   "cell_type": "code",
   "execution_count": 31,
   "id": "aea1bcc4-6b98-4e49-8263-14f81c87324e",
   "metadata": {},
   "outputs": [],
   "source": [
    "bayes_search = BayesSearchCV(\n",
    "    estimator=rf_reg,\n",
    "    search_spaces=param_space,\n",
    "    n_iter=50,\n",
    "    scoring='r2',\n",
    "    cv=rkfcv,\n",
    "    n_jobs = 1,\n",
    "    n_points = 1,\n",
    "    verbose=2,\n",
    "    random_state=42,\n",
    "    return_train_score = True\n",
    ")"
   ]
  },
  {
   "cell_type": "code",
   "execution_count": null,
   "id": "d44bbead-5124-4ec3-9cc9-cb2e7ae78c88",
   "metadata": {},
   "outputs": [
    {
     "name": "stdout",
     "output_type": "stream",
     "text": [
      "Fitting 3 folds for each of 1 candidates, totalling 3 fits\n",
      "[CV] END max_depth=8, max_samples=0.8638628715886625, min_samples_split=30, n_estimators=1647; total time=10.3min\n",
      "[CV] END max_depth=8, max_samples=0.8638628715886625, min_samples_split=30, n_estimators=1647; total time=10.2min\n",
      "[CV] END max_depth=8, max_samples=0.8638628715886625, min_samples_split=30, n_estimators=1647; total time=10.3min\n",
      "Fitting 3 folds for each of 1 candidates, totalling 3 fits\n",
      "[CV] END max_depth=14, max_samples=0.9416576386904312, min_samples_split=11, n_estimators=4761; total time=50.4min\n",
      "[CV] END max_depth=14, max_samples=0.9416576386904312, min_samples_split=11, n_estimators=4761; total time=49.7min\n",
      "[CV] END max_depth=14, max_samples=0.9416576386904312, min_samples_split=11, n_estimators=4761; total time=49.6min\n",
      "Fitting 3 folds for each of 1 candidates, totalling 3 fits\n",
      "[CV] END max_depth=9, max_samples=0.9593612608346885, min_samples_split=5, n_estimators=2223; total time=16.3min\n"
     ]
    }
   ],
   "source": [
    "bayes_search.fit(X, y)"
   ]
  },
  {
   "cell_type": "code",
   "execution_count": null,
   "id": "cb954b6a-579c-4800-8b0e-0ab9be51065f",
   "metadata": {},
   "outputs": [],
   "source": []
  },
  {
   "cell_type": "code",
   "execution_count": null,
   "id": "074e9147-478f-44af-8354-64f6610c1255",
   "metadata": {},
   "outputs": [],
   "source": []
  }
 ],
 "metadata": {
  "kernelspec": {
   "display_name": "Python 3 (ipykernel)",
   "language": "python",
   "name": "python3"
  },
  "language_info": {
   "codemirror_mode": {
    "name": "ipython",
    "version": 3
   },
   "file_extension": ".py",
   "mimetype": "text/x-python",
   "name": "python",
   "nbconvert_exporter": "python",
   "pygments_lexer": "ipython3",
   "version": "3.9.19"
  }
 },
 "nbformat": 4,
 "nbformat_minor": 5
}
