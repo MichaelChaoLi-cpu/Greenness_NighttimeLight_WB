{
 "cells": [
  {
   "cell_type": "markdown",
   "id": "7436392b-382f-413c-8f23-cd8c169ac5f1",
   "metadata": {},
   "source": [
    "# Compute Shap of RF"
   ]
  },
  {
   "cell_type": "code",
   "execution_count": 1,
   "id": "6f05c1e6-8d4f-4507-b2f9-5b5b3105cc76",
   "metadata": {},
   "outputs": [
    {
     "data": {
      "text/plain": [
       "'/home/rapids/notebooks/DP15/03_RStudio/PyCode_v241111'"
      ]
     },
     "execution_count": 1,
     "metadata": {},
     "output_type": "execute_result"
    }
   ],
   "source": [
    "%pwd"
   ]
  },
  {
   "cell_type": "code",
   "execution_count": 2,
   "id": "be81b470-d88e-4409-8913-0f78fcc31d1c",
   "metadata": {},
   "outputs": [
    {
     "name": "stdout",
     "output_type": "stream",
     "text": [
      "/home/rapids/notebooks/DP15/03_RStudio\n"
     ]
    }
   ],
   "source": [
    "%cd .."
   ]
  },
  {
   "cell_type": "code",
   "execution_count": null,
   "id": "bfcce524-f6eb-4382-9e8c-132b2dad04c8",
   "metadata": {},
   "outputs": [],
   "source": []
  },
  {
   "cell_type": "markdown",
   "id": "d99d8550-1a43-4221-91bf-b90025fc9e53",
   "metadata": {},
   "source": [
    "## Import Package"
   ]
  },
  {
   "cell_type": "code",
   "execution_count": 3,
   "id": "76f96a44-0944-4d49-ba7b-742e05883366",
   "metadata": {},
   "outputs": [],
   "source": [
    "import cudf\n",
    "from cuml.ensemble import RandomForestRegressor\n",
    "from cuml.explainer import KernelExplainer\n",
    "from glob import glob\n",
    "from joblib import dump, load\n",
    "import numpy as np\n",
    "import pandas as pd\n",
    "import random\n",
    "from sklearn.model_selection import KFold"
   ]
  },
  {
   "cell_type": "code",
   "execution_count": 4,
   "id": "9171ffe9-0aa0-4aab-9618-19772f69fe36",
   "metadata": {},
   "outputs": [],
   "source": [
    "import warnings\n",
    "\n",
    "warnings.filterwarnings('ignore', category=UserWarning)"
   ]
  },
  {
   "cell_type": "code",
   "execution_count": null,
   "id": "7a2b971e-250f-41ea-9354-64f961965386",
   "metadata": {},
   "outputs": [],
   "source": []
  },
  {
   "cell_type": "markdown",
   "id": "f13290fe-cc69-4f75-978c-ea46a1dc57bb",
   "metadata": {},
   "source": [
    "## Load Data"
   ]
  },
  {
   "cell_type": "code",
   "execution_count": 5,
   "id": "4525900b-6883-448c-a104-d751e7d870fe",
   "metadata": {},
   "outputs": [],
   "source": [
    "### X and y\n",
    "def getXandY(Output_Vari):\n",
    "    y_list = glob(\"01_Data/*_y_\" + Output_Vari + \"*.csv\")\n",
    "    y = pd.read_csv(y_list[0], index_col=0)\n",
    "    y = y.iloc[:,0].to_numpy()\n",
    "    X_list = glob(\"01_Data/*_X_\" + Output_Vari + \"*.csv\")\n",
    "    X = pd.read_csv(X_list[0], index_col=0)\n",
    "    return X, y"
   ]
  },
  {
   "cell_type": "code",
   "execution_count": 6,
   "id": "7b804abf-4b80-4203-84fe-228c41e19789",
   "metadata": {},
   "outputs": [],
   "source": [
    "Output_Vari = \"Happinessoverall\""
   ]
  },
  {
   "cell_type": "code",
   "execution_count": 7,
   "id": "9e0b91b7-b477-4803-a326-f7e01fc7014a",
   "metadata": {},
   "outputs": [],
   "source": [
    "X, y = getXandY(Output_Vari)"
   ]
  },
  {
   "cell_type": "code",
   "execution_count": null,
   "id": "011aa0d1-9401-49af-9c39-d32dbb556cb7",
   "metadata": {},
   "outputs": [],
   "source": []
  },
  {
   "cell_type": "markdown",
   "id": "d0d635a8-3a28-458f-851e-1ef29d571c30",
   "metadata": {},
   "source": [
    "## Shap"
   ]
  },
  {
   "cell_type": "code",
   "execution_count": 8,
   "id": "729c14ea-04fb-4f86-b426-93b5d3085484",
   "metadata": {},
   "outputs": [],
   "source": [
    "kf = KFold(n_splits=10, shuffle=True, random_state=42)"
   ]
  },
  {
   "cell_type": "code",
   "execution_count": 9,
   "id": "1cd6ee78-28a4-4ff5-aa4a-ef9b23974f3c",
   "metadata": {},
   "outputs": [
    {
     "data": {
      "text/plain": [
       "(383173, 29)"
      ]
     },
     "execution_count": 9,
     "metadata": {},
     "output_type": "execute_result"
    }
   ],
   "source": [
    "X.shape"
   ]
  },
  {
   "cell_type": "code",
   "execution_count": null,
   "id": "5f479a6d-13a9-4df7-b024-ee5ee26781e0",
   "metadata": {},
   "outputs": [
    {
     "name": "stdout",
     "output_type": "stream",
     "text": [
      "This is 1 fold\n",
      "here0:1000\n"
     ]
    }
   ],
   "source": [
    "Shap_df = []\n",
    "\n",
    "i = 1\n",
    "for train_index, test_index in kf.split(X):\n",
    "    print(f\"This is {i} fold\")\n",
    "    X_train, X_test = X.iloc[train_index, :], X.iloc[test_index, :]\n",
    "    y_train, y_test = y[train_index], y[test_index]\n",
    "\n",
    "    cX_train = cudf.from_pandas(X_train)\n",
    "    cX_test = cudf.from_pandas(X_test)\n",
    "    cy_train = cudf.Series(y_train)\n",
    "    cy_test = cudf.Series(y_test)\n",
    "    \n",
    "    # Train the model\n",
    "    model = RandomForestRegressor(n_estimators = 3800, min_samples_split = 6, max_features = 0.5, max_depth = 14, split_criterion=2)\n",
    "    model.fit(cX_train, cy_train)\n",
    "\n",
    "    colnames = X_test.columns + '_shap'\n",
    "\n",
    "    background = cudf.from_pandas(X_train.iloc[:20,:])\n",
    "    cu_explainer = KernelExplainer(model=model.predict,\n",
    "                                   data=background,\n",
    "                                   is_gpu_model=True, random_state=42,\n",
    "                                   nsamples = 1_000)\n",
    "    \n",
    "    interval = 1000\n",
    "    for row in list(range(0, X_test.shape[0], interval)):\n",
    "        print(f'here{row}:{row + interval}')\n",
    "        %time cu_shap_value_merge = cu_explainer.shap_values(X_test.iloc[row:row + interval,:])\n",
    "        X_test_shap = pd.DataFrame(cu_shap_value_merge, columns=colnames, index=X_test.index[row:row + interval])\n",
    "        X_test_merge = pd.concat([X_test.iloc[row:row + interval,:], X_test_shap], axis=1)\n",
    "        X_test_merge['y'] = y_test[row:row + interval]\n",
    "\n",
    "        X_test_merge.to_parquet(f'03_Results/ShapAll/X_test_Fold_{i}_{row}_{row + interval}.parquet')\n",
    "        Shap_df.append(X_test_merge)\n",
    "\n",
    "    dump(Shap_df, f\"03_Results/Shap_fold_{i}_Dataset.joblib\")\n",
    "\n",
    "    i = i + 1"
   ]
  },
  {
   "cell_type": "code",
   "execution_count": null,
   "id": "1126e065-2ad8-4841-a2af-384e771bf178",
   "metadata": {},
   "outputs": [],
   "source": []
  }
 ],
 "metadata": {
  "kernelspec": {
   "display_name": "Python 3 (ipykernel)",
   "language": "python",
   "name": "python3"
  },
  "language_info": {
   "codemirror_mode": {
    "name": "ipython",
    "version": 3
   },
   "file_extension": ".py",
   "mimetype": "text/x-python",
   "name": "python",
   "nbconvert_exporter": "python",
   "pygments_lexer": "ipython3",
   "version": "3.10.15"
  }
 },
 "nbformat": 4,
 "nbformat_minor": 5
}
