{
 "cells": [
  {
   "cell_type": "markdown",
   "id": "5f0321dd-e479-42f0-bf34-07d102bfc94a",
   "metadata": {},
   "source": [
    "# Hyperparameter Search"
   ]
  },
  {
   "cell_type": "markdown",
   "id": "2db4db4a-7c2f-4668-bc34-096636ce6d58",
   "metadata": {},
   "source": [
    "In V2 more hyperparameters are considered and larger range"
   ]
  },
  {
   "cell_type": "code",
   "execution_count": 1,
   "id": "248d6cba-921a-45c2-9ca5-2aa807e6f122",
   "metadata": {},
   "outputs": [
    {
     "data": {
      "text/plain": [
       "'/home/pj24001881/ku40001335/Greenness_NighttimeLight_WB/PyCode_v241111'"
      ]
     },
     "execution_count": 1,
     "metadata": {},
     "output_type": "execute_result"
    }
   ],
   "source": [
    "%pwd"
   ]
  },
  {
   "cell_type": "code",
   "execution_count": 2,
   "id": "3a9bcc67-10fb-4426-aea2-a23996ee60db",
   "metadata": {},
   "outputs": [
    {
     "name": "stdout",
     "output_type": "stream",
     "text": [
      "/home/pj24001881/ku40001335/Greenness_NighttimeLight_WB\n"
     ]
    }
   ],
   "source": [
    "%cd .."
   ]
  },
  {
   "cell_type": "code",
   "execution_count": 28,
   "id": "04076f5d-66d2-4e6c-8847-f1296598e1ab",
   "metadata": {},
   "outputs": [],
   "source": [
    "import warnings\n",
    "warnings.filterwarnings(\"ignore\", category=UserWarning)"
   ]
  },
  {
   "cell_type": "code",
   "execution_count": 3,
   "id": "1c3d3c99-5c19-4bf7-8f4e-297c6a4ff8ad",
   "metadata": {},
   "outputs": [],
   "source": [
    "from dask_cuda import LocalCUDACluster\n",
    "from dask.distributed import Client\n",
    "\n",
    "cluster = LocalCUDACluster()  # Automatically detects all GPUs on the node\n",
    "client = Client(cluster)"
   ]
  },
  {
   "cell_type": "code",
   "execution_count": 4,
   "id": "8a9baf70-b0c8-42dd-ab89-e7134ad8a445",
   "metadata": {},
   "outputs": [],
   "source": [
    "from cuml.dask.ensemble import RandomForestRegressor as DaskRandomForestRegressor"
   ]
  },
  {
   "cell_type": "code",
   "execution_count": 8,
   "id": "cee32476-5c39-415d-9ad9-80b4d0a05e99",
   "metadata": {},
   "outputs": [],
   "source": [
    "from glob import glob\n",
    "import numpy as np\n",
    "import pandas as pd\n",
    "from sklearn.model_selection import train_test_split, KFold, RandomizedSearchCV\n",
    "\n",
    "### X and y\n",
    "def getXandY(Output_Vari):\n",
    "    y_list = glob(\"01_Data/*_y_\" + Output_Vari + \"*.csv\")\n",
    "    y = pd.read_csv(y_list[0], index_col=0)\n",
    "    y = y.iloc[:,0].to_numpy()\n",
    "    X_list = glob(\"01_Data/*_X_\" + Output_Vari + \"*.csv\")\n",
    "    X = pd.read_csv(X_list[0], index_col=0)\n",
    "    return X, y"
   ]
  },
  {
   "cell_type": "code",
   "execution_count": 9,
   "id": "277394c7-cd7b-420d-9b81-40c9958b7922",
   "metadata": {},
   "outputs": [],
   "source": [
    "Output_Vari = \"Happinessoverall\"\n",
    "X, y = getXandY(Output_Vari)"
   ]
  },
  {
   "cell_type": "code",
   "execution_count": 10,
   "id": "39b8deee-7f83-497a-8f28-59894493479c",
   "metadata": {},
   "outputs": [],
   "source": [
    "X_train_1, X_test_1, y_train_1, y_test_1 = train_test_split(X, y, test_size=0.1, random_state=1)"
   ]
  },
  {
   "cell_type": "code",
   "execution_count": 11,
   "id": "ec2a6304-573d-4ab9-8c6d-a770177fe251",
   "metadata": {},
   "outputs": [],
   "source": [
    "X_train_2, X_test_2, y_train_2, y_test_2 = train_test_split(X, y, test_size=0.1, random_state=326)"
   ]
  },
  {
   "cell_type": "code",
   "execution_count": 12,
   "id": "5853faef-ee3f-4f3f-b0c8-8f221d956bf7",
   "metadata": {},
   "outputs": [],
   "source": [
    "X_train_3, X_test_3, y_train_3, y_test_3 = train_test_split(X, y, test_size=0.1, random_state=326)"
   ]
  },
  {
   "cell_type": "code",
   "execution_count": 30,
   "id": "0b43f59c-2f3c-4095-b9d5-77fc566fabd2",
   "metadata": {},
   "outputs": [],
   "source": [
    "import cudf\n",
    "import dask_cudf\n",
    "from sklearn.metrics import r2_score\n",
    "\n",
    "def toDaskCudf(X_train, X_test, y_train, y_test):\n",
    "    X_cudf = cudf.from_pandas(X_train)\n",
    "    y_cudf = cudf.Series(y_train)\n",
    "    \n",
    "    X_cudf = X_cudf.astype('float32')\n",
    "    y_cudf = y_cudf.astype('float32')\n",
    "    \n",
    "    X_train_d = dask_cudf.from_cudf(X_cudf, npartitions=20)\n",
    "    y_train_d = dask_cudf.from_cudf(y_cudf, npartitions=02)\n",
    "\n",
    "    X_cudf = cudf.from_pandas(X_test)\n",
    "    y_cudf = cudf.Series(y_test)\n",
    "    \n",
    "    X_cudf = X_cudf.astype('float32')\n",
    "    y_cudf = y_cudf.astype('float32')\n",
    "    \n",
    "    X_test_d = dask_cudf.from_cudf(X_cudf, npartitions=20)\n",
    "    y_test_d = dask_cudf.from_cudf(y_cudf, npartitions=20)\n",
    "    \n",
    "\n",
    "    return X_train_d, X_test_d, y_train_d, y_test_d"
   ]
  },
  {
   "cell_type": "code",
   "execution_count": 31,
   "id": "e2be36cd-e9ea-4119-8e3b-c881b60ccb0a",
   "metadata": {},
   "outputs": [],
   "source": [
    "dX_train_1, dX_test_1, dy_train_1, dy_test_1 = toDaskCudf(X_train_1, X_test_1, y_train_1, y_test_1)\n",
    "dX_train_2, dX_test_2, dy_train_2, dy_test_2 = toDaskCudf(X_train_2, X_test_2, y_train_2, y_test_2)\n",
    "dX_train_3, dX_test_3, dy_train_3, dy_test_3 = toDaskCudf(X_train_3, X_test_3, y_train_3, y_test_3)"
   ]
  },
  {
   "cell_type": "code",
   "execution_count": 15,
   "id": "b682437d-1bdb-4f55-87fe-1fc920d8e4c5",
   "metadata": {},
   "outputs": [
    {
     "name": "stderr",
     "output_type": "stream",
     "text": [
      "/home/pj24001881/ku40001335/miniconda3/envs/rapids-24.10/lib/python3.10/site-packages/cuml/internals/api_decorators.py:344: UserWarning: For reproducible results in Random Forest Classifier or for almost reproducible results in Random Forest Regressor, n_streams=1 is recommended. If n_streams is > 1, results may vary due to stream/thread timing differences, even when random_state is set\n",
      "  return func(**kwargs)\n",
      "/home/pj24001881/ku40001335/miniconda3/envs/rapids-24.10/lib/python3.10/site-packages/cuml/internals/api_decorators.py:344: UserWarning: For reproducible results in Random Forest Classifier or for almost reproducible results in Random Forest Regressor, n_streams=1 is recommended. If n_streams is > 1, results may vary due to stream/thread timing differences, even when random_state is set\n",
      "  return func(**kwargs)\n"
     ]
    }
   ],
   "source": [
    "rf_reg = DaskRandomForestRegressor(\n",
    "    n_bins=256,\n",
    "    # other hyperparameters as needed\n",
    ")"
   ]
  },
  {
   "cell_type": "code",
   "execution_count": 16,
   "id": "487d3ab5-94e2-4f7a-8859-1e8544ad5665",
   "metadata": {},
   "outputs": [],
   "source": [
    "param_lists = {\n",
    "    \"n_estimators\": list(range(1000, 5100, 200)),\n",
    "    \"max_depth\": [8, 12, 16, 20, 24],\n",
    "    \"max_features\": [0.2, 0.3, 0.4, 0.5, 0.6, 0.7, 0.8, 0.9, 1.0],\n",
    "    \"min_samples_split\": [2, 4, 8, 16, 32],\n",
    "    \"max_samples\": [0.2, 0.3, 0.4, 0.5, 0.6, 0.7, 0.8, 0.9, 1.0],\n",
    "}\n",
    "\n",
    "# Randomly sample parameter sets\n",
    "param_combinations = [\n",
    "    {k: np.random.choice(v) for k, v in param_lists.items()} \n",
    "    for _ in range(500)\n",
    "]"
   ]
  },
  {
   "cell_type": "code",
   "execution_count": 32,
   "id": "9daa9700-05c5-4190-8f49-ac3e25cfb7d3",
   "metadata": {},
   "outputs": [
    {
     "name": "stderr",
     "output_type": "stream",
     "text": [
      "/home/pj24001881/ku40001335/miniconda3/envs/rapids-24.10/lib/python3.10/site-packages/cuml/internals/api_decorators.py:344: UserWarning: For reproducible results in Random Forest Classifier or for almost reproducible results in Random Forest Regressor, n_streams=1 is recommended. If n_streams is > 1, results may vary due to stream/thread timing differences, even when random_state is set\n",
      "  return func(**kwargs)\n",
      "/home/pj24001881/ku40001335/miniconda3/envs/rapids-24.10/lib/python3.10/site-packages/cuml/internals/api_decorators.py:344: UserWarning: For reproducible results in Random Forest Classifier or for almost reproducible results in Random Forest Regressor, n_streams=1 is recommended. If n_streams is > 1, results may vary due to stream/thread timing differences, even when random_state is set\n",
      "  return func(**kwargs)\n",
      "2024-12-13 15:05:16,781 - distributed.worker.state_machine - WARNING - Async instruction for <Task cancelled name=\"execute(('group-stage-0-taskshuffle-828d45fc1db67671f3f7a755886539de', (15, 18)))\" coro=<Worker.execute() done, defined at /home/pj24001881/ku40001335/miniconda3/envs/rapids-24.10/lib/python3.10/site-packages/distributed/worker_state_machine.py:3609>> ended with CancelledError\n"
     ]
    },
    {
     "ename": "KeyboardInterrupt",
     "evalue": "",
     "output_type": "error",
     "traceback": [
      "\u001b[0;31m---------------------------------------------------------------------------\u001b[0m",
      "\u001b[0;31mKeyboardInterrupt\u001b[0m                         Traceback (most recent call last)",
      "Cell \u001b[0;32mIn[32], line 7\u001b[0m\n\u001b[1;32m      5\u001b[0m \u001b[38;5;28;01mfor\u001b[39;00m params \u001b[38;5;129;01min\u001b[39;00m param_combinations:\n\u001b[1;32m      6\u001b[0m     rf_reg_1 \u001b[38;5;241m=\u001b[39m DaskRandomForestRegressor(\u001b[38;5;241m*\u001b[39m\u001b[38;5;241m*\u001b[39mparams)\n\u001b[0;32m----> 7\u001b[0m     \u001b[43mrf_reg_1\u001b[49m\u001b[38;5;241;43m.\u001b[39;49m\u001b[43mfit\u001b[49m\u001b[43m(\u001b[49m\u001b[43mdX_train_1\u001b[49m\u001b[43m,\u001b[49m\u001b[43m \u001b[49m\u001b[43mdy_train_1\u001b[49m\u001b[43m)\u001b[49m\n\u001b[1;32m      8\u001b[0m     y_pred \u001b[38;5;241m=\u001b[39m rf_reg_1\u001b[38;5;241m.\u001b[39mpredict(dX_test_1)\u001b[38;5;241m.\u001b[39mcompute()  \u001b[38;5;66;03m# y_pred as NumPy array\u001b[39;00m\n\u001b[1;32m      9\u001b[0m     current_score_1 \u001b[38;5;241m=\u001b[39m r2_score(y_test_1, y_pred\u001b[38;5;241m.\u001b[39mto_numpy())\n",
      "File \u001b[0;32m~/miniconda3/envs/rapids-24.10/lib/python3.10/site-packages/cuml/dask/ensemble/randomforestregressor.py:246\u001b[0m, in \u001b[0;36mRandomForestRegressor.fit\u001b[0;34m(self, X, y, convert_dtype, broadcast_data)\u001b[0m\n\u001b[1;32m    199\u001b[0m \u001b[38;5;250m\u001b[39m\u001b[38;5;124;03m\"\"\"\u001b[39;00m\n\u001b[1;32m    200\u001b[0m \u001b[38;5;124;03mFit the input data with a Random Forest regression model\u001b[39;00m\n\u001b[1;32m    201\u001b[0m \n\u001b[0;32m   (...)\u001b[0m\n\u001b[1;32m    243\u001b[0m \n\u001b[1;32m    244\u001b[0m \u001b[38;5;124;03m\"\"\"\u001b[39;00m\n\u001b[1;32m    245\u001b[0m \u001b[38;5;28mself\u001b[39m\u001b[38;5;241m.\u001b[39minternal_model \u001b[38;5;241m=\u001b[39m \u001b[38;5;28;01mNone\u001b[39;00m\n\u001b[0;32m--> 246\u001b[0m \u001b[38;5;28;43mself\u001b[39;49m\u001b[38;5;241;43m.\u001b[39;49m\u001b[43m_fit\u001b[49m\u001b[43m(\u001b[49m\n\u001b[1;32m    247\u001b[0m \u001b[43m    \u001b[49m\u001b[43mmodel\u001b[49m\u001b[38;5;241;43m=\u001b[39;49m\u001b[38;5;28;43mself\u001b[39;49m\u001b[38;5;241;43m.\u001b[39;49m\u001b[43mrfs\u001b[49m\u001b[43m,\u001b[49m\n\u001b[1;32m    248\u001b[0m \u001b[43m    \u001b[49m\u001b[43mdataset\u001b[49m\u001b[38;5;241;43m=\u001b[39;49m\u001b[43m(\u001b[49m\u001b[43mX\u001b[49m\u001b[43m,\u001b[49m\u001b[43m \u001b[49m\u001b[43my\u001b[49m\u001b[43m)\u001b[49m\u001b[43m,\u001b[49m\n\u001b[1;32m    249\u001b[0m \u001b[43m    \u001b[49m\u001b[43mconvert_dtype\u001b[49m\u001b[38;5;241;43m=\u001b[39;49m\u001b[43mconvert_dtype\u001b[49m\u001b[43m,\u001b[49m\n\u001b[1;32m    250\u001b[0m \u001b[43m    \u001b[49m\u001b[43mbroadcast_data\u001b[49m\u001b[38;5;241;43m=\u001b[39;49m\u001b[43mbroadcast_data\u001b[49m\u001b[43m,\u001b[49m\n\u001b[1;32m    251\u001b[0m \u001b[43m\u001b[49m\u001b[43m)\u001b[49m\n\u001b[1;32m    252\u001b[0m \u001b[38;5;28;01mreturn\u001b[39;00m \u001b[38;5;28mself\u001b[39m\n",
      "File \u001b[0;32m~/miniconda3/envs/rapids-24.10/lib/python3.10/site-packages/cuml/dask/ensemble/base.py:114\u001b[0m, in \u001b[0;36mBaseRandomForestModel._fit\u001b[0;34m(self, model, dataset, convert_dtype, broadcast_data)\u001b[0m\n\u001b[1;32m    112\u001b[0m labels \u001b[38;5;241m=\u001b[39m \u001b[38;5;28mself\u001b[39m\u001b[38;5;241m.\u001b[39mclient\u001b[38;5;241m.\u001b[39mpersist(dataset[\u001b[38;5;241m1\u001b[39m])\n\u001b[1;32m    113\u001b[0m \u001b[38;5;28;01mif\u001b[39;00m \u001b[38;5;28mself\u001b[39m\u001b[38;5;241m.\u001b[39mdatatype \u001b[38;5;241m==\u001b[39m \u001b[38;5;124m\"\u001b[39m\u001b[38;5;124mcudf\u001b[39m\u001b[38;5;124m\"\u001b[39m:\n\u001b[0;32m--> 114\u001b[0m     \u001b[38;5;28mself\u001b[39m\u001b[38;5;241m.\u001b[39mnum_classes \u001b[38;5;241m=\u001b[39m \u001b[38;5;28;43mlen\u001b[39;49m\u001b[43m(\u001b[49m\u001b[43mlabels\u001b[49m\u001b[38;5;241;43m.\u001b[39;49m\u001b[43munique\u001b[49m\u001b[43m(\u001b[49m\u001b[43m)\u001b[49m\u001b[43m)\u001b[49m\n\u001b[1;32m    115\u001b[0m \u001b[38;5;28;01melse\u001b[39;00m:\n\u001b[1;32m    116\u001b[0m     \u001b[38;5;28mself\u001b[39m\u001b[38;5;241m.\u001b[39mnum_classes \u001b[38;5;241m=\u001b[39m \u001b[38;5;28mlen\u001b[39m(dask\u001b[38;5;241m.\u001b[39marray\u001b[38;5;241m.\u001b[39munique(labels)\u001b[38;5;241m.\u001b[39mcompute())\n",
      "File \u001b[0;32m~/miniconda3/envs/rapids-24.10/lib/python3.10/site-packages/dask_expr/_collection.py:383\u001b[0m, in \u001b[0;36mFrameBase.__len__\u001b[0;34m(self)\u001b[0m\n\u001b[1;32m    382\u001b[0m \u001b[38;5;28;01mdef\u001b[39;00m \u001b[38;5;21m__len__\u001b[39m(\u001b[38;5;28mself\u001b[39m):\n\u001b[0;32m--> 383\u001b[0m     \u001b[38;5;28;01mreturn\u001b[39;00m \u001b[43mnew_collection\u001b[49m\u001b[43m(\u001b[49m\u001b[43mLen\u001b[49m\u001b[43m(\u001b[49m\u001b[38;5;28;43mself\u001b[39;49m\u001b[43m)\u001b[49m\u001b[43m)\u001b[49m\u001b[38;5;241;43m.\u001b[39;49m\u001b[43mcompute\u001b[49m\u001b[43m(\u001b[49m\u001b[43m)\u001b[49m\n",
      "File \u001b[0;32m~/miniconda3/envs/rapids-24.10/lib/python3.10/site-packages/dask_expr/_collection.py:477\u001b[0m, in \u001b[0;36mFrameBase.compute\u001b[0;34m(self, fuse, **kwargs)\u001b[0m\n\u001b[1;32m    475\u001b[0m     out \u001b[38;5;241m=\u001b[39m out\u001b[38;5;241m.\u001b[39mrepartition(npartitions\u001b[38;5;241m=\u001b[39m\u001b[38;5;241m1\u001b[39m)\n\u001b[1;32m    476\u001b[0m out \u001b[38;5;241m=\u001b[39m out\u001b[38;5;241m.\u001b[39moptimize(fuse\u001b[38;5;241m=\u001b[39mfuse)\n\u001b[0;32m--> 477\u001b[0m \u001b[38;5;28;01mreturn\u001b[39;00m \u001b[43mDaskMethodsMixin\u001b[49m\u001b[38;5;241;43m.\u001b[39;49m\u001b[43mcompute\u001b[49m\u001b[43m(\u001b[49m\u001b[43mout\u001b[49m\u001b[43m,\u001b[49m\u001b[43m \u001b[49m\u001b[38;5;241;43m*\u001b[39;49m\u001b[38;5;241;43m*\u001b[39;49m\u001b[43mkwargs\u001b[49m\u001b[43m)\u001b[49m\n",
      "File \u001b[0;32m~/miniconda3/envs/rapids-24.10/lib/python3.10/site-packages/dask/base.py:372\u001b[0m, in \u001b[0;36mDaskMethodsMixin.compute\u001b[0;34m(self, **kwargs)\u001b[0m\n\u001b[1;32m    348\u001b[0m \u001b[38;5;28;01mdef\u001b[39;00m \u001b[38;5;21mcompute\u001b[39m(\u001b[38;5;28mself\u001b[39m, \u001b[38;5;241m*\u001b[39m\u001b[38;5;241m*\u001b[39mkwargs):\n\u001b[1;32m    349\u001b[0m \u001b[38;5;250m    \u001b[39m\u001b[38;5;124;03m\"\"\"Compute this dask collection\u001b[39;00m\n\u001b[1;32m    350\u001b[0m \n\u001b[1;32m    351\u001b[0m \u001b[38;5;124;03m    This turns a lazy Dask collection into its in-memory equivalent.\u001b[39;00m\n\u001b[0;32m   (...)\u001b[0m\n\u001b[1;32m    370\u001b[0m \u001b[38;5;124;03m    dask.compute\u001b[39;00m\n\u001b[1;32m    371\u001b[0m \u001b[38;5;124;03m    \"\"\"\u001b[39;00m\n\u001b[0;32m--> 372\u001b[0m     (result,) \u001b[38;5;241m=\u001b[39m \u001b[43mcompute\u001b[49m\u001b[43m(\u001b[49m\u001b[38;5;28;43mself\u001b[39;49m\u001b[43m,\u001b[49m\u001b[43m \u001b[49m\u001b[43mtraverse\u001b[49m\u001b[38;5;241;43m=\u001b[39;49m\u001b[38;5;28;43;01mFalse\u001b[39;49;00m\u001b[43m,\u001b[49m\u001b[43m \u001b[49m\u001b[38;5;241;43m*\u001b[39;49m\u001b[38;5;241;43m*\u001b[39;49m\u001b[43mkwargs\u001b[49m\u001b[43m)\u001b[49m\n\u001b[1;32m    373\u001b[0m     \u001b[38;5;28;01mreturn\u001b[39;00m result\n",
      "File \u001b[0;32m~/miniconda3/envs/rapids-24.10/lib/python3.10/site-packages/dask/base.py:660\u001b[0m, in \u001b[0;36mcompute\u001b[0;34m(traverse, optimize_graph, scheduler, get, *args, **kwargs)\u001b[0m\n\u001b[1;32m    657\u001b[0m     postcomputes\u001b[38;5;241m.\u001b[39mappend(x\u001b[38;5;241m.\u001b[39m__dask_postcompute__())\n\u001b[1;32m    659\u001b[0m \u001b[38;5;28;01mwith\u001b[39;00m shorten_traceback():\n\u001b[0;32m--> 660\u001b[0m     results \u001b[38;5;241m=\u001b[39m \u001b[43mschedule\u001b[49m\u001b[43m(\u001b[49m\u001b[43mdsk\u001b[49m\u001b[43m,\u001b[49m\u001b[43m \u001b[49m\u001b[43mkeys\u001b[49m\u001b[43m,\u001b[49m\u001b[43m \u001b[49m\u001b[38;5;241;43m*\u001b[39;49m\u001b[38;5;241;43m*\u001b[39;49m\u001b[43mkwargs\u001b[49m\u001b[43m)\u001b[49m\n\u001b[1;32m    662\u001b[0m \u001b[38;5;28;01mreturn\u001b[39;00m repack([f(r, \u001b[38;5;241m*\u001b[39ma) \u001b[38;5;28;01mfor\u001b[39;00m r, (f, a) \u001b[38;5;129;01min\u001b[39;00m \u001b[38;5;28mzip\u001b[39m(results, postcomputes)])\n",
      "File \u001b[0;32m~/miniconda3/envs/rapids-24.10/lib/python3.10/threading.py:607\u001b[0m, in \u001b[0;36mEvent.wait\u001b[0;34m(self, timeout)\u001b[0m\n\u001b[1;32m    605\u001b[0m signaled \u001b[38;5;241m=\u001b[39m \u001b[38;5;28mself\u001b[39m\u001b[38;5;241m.\u001b[39m_flag\n\u001b[1;32m    606\u001b[0m \u001b[38;5;28;01mif\u001b[39;00m \u001b[38;5;129;01mnot\u001b[39;00m signaled:\n\u001b[0;32m--> 607\u001b[0m     signaled \u001b[38;5;241m=\u001b[39m \u001b[38;5;28;43mself\u001b[39;49m\u001b[38;5;241;43m.\u001b[39;49m\u001b[43m_cond\u001b[49m\u001b[38;5;241;43m.\u001b[39;49m\u001b[43mwait\u001b[49m\u001b[43m(\u001b[49m\u001b[43mtimeout\u001b[49m\u001b[43m)\u001b[49m\n\u001b[1;32m    608\u001b[0m \u001b[38;5;28;01mreturn\u001b[39;00m signaled\n",
      "File \u001b[0;32m~/miniconda3/envs/rapids-24.10/lib/python3.10/threading.py:324\u001b[0m, in \u001b[0;36mCondition.wait\u001b[0;34m(self, timeout)\u001b[0m\n\u001b[1;32m    322\u001b[0m \u001b[38;5;28;01melse\u001b[39;00m:\n\u001b[1;32m    323\u001b[0m     \u001b[38;5;28;01mif\u001b[39;00m timeout \u001b[38;5;241m>\u001b[39m \u001b[38;5;241m0\u001b[39m:\n\u001b[0;32m--> 324\u001b[0m         gotit \u001b[38;5;241m=\u001b[39m \u001b[43mwaiter\u001b[49m\u001b[38;5;241;43m.\u001b[39;49m\u001b[43macquire\u001b[49m\u001b[43m(\u001b[49m\u001b[38;5;28;43;01mTrue\u001b[39;49;00m\u001b[43m,\u001b[49m\u001b[43m \u001b[49m\u001b[43mtimeout\u001b[49m\u001b[43m)\u001b[49m\n\u001b[1;32m    325\u001b[0m     \u001b[38;5;28;01melse\u001b[39;00m:\n\u001b[1;32m    326\u001b[0m         gotit \u001b[38;5;241m=\u001b[39m waiter\u001b[38;5;241m.\u001b[39macquire(\u001b[38;5;28;01mFalse\u001b[39;00m)\n",
      "\u001b[0;31mKeyboardInterrupt\u001b[0m: "
     ]
    },
    {
     "name": "stderr",
     "output_type": "stream",
     "text": [
      "2024-12-13 15:05:17,710 - distributed.worker - ERROR - Failed to communicate with scheduler during heartbeat.\n",
      "Traceback (most recent call last):\n",
      "  File \"/home/pj24001881/ku40001335/miniconda3/envs/rapids-24.10/lib/python3.10/site-packages/distributed/comm/tcp.py\", line 225, in read\n",
      "    frames_nosplit_nbytes_bin = await stream.read_bytes(fmt_size)\n",
      "tornado.iostream.StreamClosedError: Stream is closed\n",
      "\n",
      "The above exception was the direct cause of the following exception:\n",
      "\n",
      "Traceback (most recent call last):\n",
      "  File \"/home/pj24001881/ku40001335/miniconda3/envs/rapids-24.10/lib/python3.10/site-packages/distributed/worker.py\", line 1250, in heartbeat\n",
      "    response = await retry_operation(\n",
      "  File \"/home/pj24001881/ku40001335/miniconda3/envs/rapids-24.10/lib/python3.10/site-packages/distributed/utils_comm.py\", line 461, in retry_operation\n",
      "    return await retry(\n",
      "  File \"/home/pj24001881/ku40001335/miniconda3/envs/rapids-24.10/lib/python3.10/site-packages/distributed/utils_comm.py\", line 440, in retry\n",
      "    return await coro()\n",
      "  File \"/home/pj24001881/ku40001335/miniconda3/envs/rapids-24.10/lib/python3.10/site-packages/distributed/core.py\", line 1256, in send_recv_from_rpc\n",
      "    return await send_recv(comm=comm, op=key, **kwargs)\n",
      "  File \"/home/pj24001881/ku40001335/miniconda3/envs/rapids-24.10/lib/python3.10/site-packages/distributed/core.py\", line 1015, in send_recv\n",
      "    response = await comm.read(deserializers=deserializers)\n",
      "  File \"/home/pj24001881/ku40001335/miniconda3/envs/rapids-24.10/lib/python3.10/site-packages/distributed/comm/tcp.py\", line 236, in read\n",
      "    convert_stream_closed_error(self, e)\n",
      "  File \"/home/pj24001881/ku40001335/miniconda3/envs/rapids-24.10/lib/python3.10/site-packages/distributed/comm/tcp.py\", line 142, in convert_stream_closed_error\n",
      "    raise CommClosedError(f\"in {obj}: {exc}\") from exc\n",
      "distributed.comm.core.CommClosedError: in <TCP (closed) ConnectionPool.heartbeat_worker local=tcp://127.0.0.1:54956 remote=tcp://127.0.0.1:36627>: Stream is closed\n",
      "2024-12-13 15:05:17,711 - distributed.worker - ERROR - Failed to communicate with scheduler during heartbeat.\n",
      "Traceback (most recent call last):\n",
      "  File \"/home/pj24001881/ku40001335/miniconda3/envs/rapids-24.10/lib/python3.10/site-packages/distributed/comm/tcp.py\", line 225, in read\n",
      "    frames_nosplit_nbytes_bin = await stream.read_bytes(fmt_size)\n",
      "tornado.iostream.StreamClosedError: Stream is closed\n",
      "\n",
      "The above exception was the direct cause of the following exception:\n",
      "\n",
      "Traceback (most recent call last):\n",
      "  File \"/home/pj24001881/ku40001335/miniconda3/envs/rapids-24.10/lib/python3.10/site-packages/distributed/worker.py\", line 1250, in heartbeat\n",
      "    response = await retry_operation(\n",
      "  File \"/home/pj24001881/ku40001335/miniconda3/envs/rapids-24.10/lib/python3.10/site-packages/distributed/utils_comm.py\", line 461, in retry_operation\n",
      "    return await retry(\n",
      "  File \"/home/pj24001881/ku40001335/miniconda3/envs/rapids-24.10/lib/python3.10/site-packages/distributed/utils_comm.py\", line 440, in retry\n",
      "    return await coro()\n",
      "  File \"/home/pj24001881/ku40001335/miniconda3/envs/rapids-24.10/lib/python3.10/site-packages/distributed/core.py\", line 1256, in send_recv_from_rpc\n",
      "    return await send_recv(comm=comm, op=key, **kwargs)\n",
      "  File \"/home/pj24001881/ku40001335/miniconda3/envs/rapids-24.10/lib/python3.10/site-packages/distributed/core.py\", line 1015, in send_recv\n",
      "    response = await comm.read(deserializers=deserializers)\n",
      "  File \"/home/pj24001881/ku40001335/miniconda3/envs/rapids-24.10/lib/python3.10/site-packages/distributed/comm/tcp.py\", line 236, in read\n",
      "    convert_stream_closed_error(self, e)\n",
      "  File \"/home/pj24001881/ku40001335/miniconda3/envs/rapids-24.10/lib/python3.10/site-packages/distributed/comm/tcp.py\", line 142, in convert_stream_closed_error\n",
      "    raise CommClosedError(f\"in {obj}: {exc}\") from exc\n",
      "distributed.comm.core.CommClosedError: in <TCP (closed) ConnectionPool.heartbeat_worker local=tcp://127.0.0.1:54970 remote=tcp://127.0.0.1:36627>: Stream is closed\n",
      "Process Dask Worker process (from Nanny):\n",
      "2024-12-13 15:05:19,713 - distributed.nanny - ERROR - Worker process died unexpectedly\n",
      "2024-12-13 15:05:19,714 - distributed.nanny - ERROR - Worker process died unexpectedly\n",
      "Process Dask Worker process (from Nanny):\n",
      "Traceback (most recent call last):\n",
      "  File \"/home/pj24001881/ku40001335/miniconda3/envs/rapids-24.10/lib/python3.10/multiprocessing/process.py\", line 314, in _bootstrap\n",
      "    self.run()\n",
      "  File \"/home/pj24001881/ku40001335/miniconda3/envs/rapids-24.10/lib/python3.10/multiprocessing/process.py\", line 108, in run\n",
      "    self._target(*self._args, **self._kwargs)\n",
      "  File \"/home/pj24001881/ku40001335/miniconda3/envs/rapids-24.10/lib/python3.10/site-packages/distributed/process.py\", line 202, in _run\n",
      "    target(*args, **kwargs)\n",
      "  File \"/home/pj24001881/ku40001335/miniconda3/envs/rapids-24.10/lib/python3.10/site-packages/distributed/nanny.py\", line 1022, in _run\n",
      "    asyncio_run(run(), loop_factory=get_loop_factory())\n",
      "  File \"/home/pj24001881/ku40001335/miniconda3/envs/rapids-24.10/lib/python3.10/site-packages/distributed/compatibility.py\", line 236, in asyncio_run\n",
      "    return loop.run_until_complete(main)\n",
      "  File \"/home/pj24001881/ku40001335/miniconda3/envs/rapids-24.10/lib/python3.10/asyncio/base_events.py\", line 636, in run_until_complete\n",
      "    self.run_forever()\n",
      "  File \"/home/pj24001881/ku40001335/miniconda3/envs/rapids-24.10/lib/python3.10/asyncio/base_events.py\", line 603, in run_forever\n",
      "    self._run_once()\n",
      "  File \"/home/pj24001881/ku40001335/miniconda3/envs/rapids-24.10/lib/python3.10/asyncio/base_events.py\", line 1871, in _run_once\n",
      "    event_list = self._selector.select(timeout)\n",
      "  File \"/home/pj24001881/ku40001335/miniconda3/envs/rapids-24.10/lib/python3.10/selectors.py\", line 469, in select\n",
      "    fd_event_list = self._selector.poll(timeout, max_ev)\n",
      "KeyboardInterrupt\n",
      "Traceback (most recent call last):\n",
      "  File \"/home/pj24001881/ku40001335/miniconda3/envs/rapids-24.10/lib/python3.10/multiprocessing/process.py\", line 314, in _bootstrap\n",
      "    self.run()\n",
      "  File \"/home/pj24001881/ku40001335/miniconda3/envs/rapids-24.10/lib/python3.10/multiprocessing/process.py\", line 108, in run\n",
      "    self._target(*self._args, **self._kwargs)\n",
      "  File \"/home/pj24001881/ku40001335/miniconda3/envs/rapids-24.10/lib/python3.10/site-packages/distributed/process.py\", line 202, in _run\n",
      "    target(*args, **kwargs)\n",
      "  File \"/home/pj24001881/ku40001335/miniconda3/envs/rapids-24.10/lib/python3.10/site-packages/distributed/nanny.py\", line 1022, in _run\n",
      "    asyncio_run(run(), loop_factory=get_loop_factory())\n",
      "  File \"/home/pj24001881/ku40001335/miniconda3/envs/rapids-24.10/lib/python3.10/site-packages/distributed/compatibility.py\", line 236, in asyncio_run\n",
      "    return loop.run_until_complete(main)\n",
      "  File \"/home/pj24001881/ku40001335/miniconda3/envs/rapids-24.10/lib/python3.10/asyncio/base_events.py\", line 636, in run_until_complete\n",
      "    self.run_forever()\n",
      "  File \"/home/pj24001881/ku40001335/miniconda3/envs/rapids-24.10/lib/python3.10/asyncio/base_events.py\", line 603, in run_forever\n",
      "    self._run_once()\n",
      "  File \"/home/pj24001881/ku40001335/miniconda3/envs/rapids-24.10/lib/python3.10/asyncio/base_events.py\", line 1871, in _run_once\n",
      "    event_list = self._selector.select(timeout)\n",
      "  File \"/home/pj24001881/ku40001335/miniconda3/envs/rapids-24.10/lib/python3.10/selectors.py\", line 469, in select\n",
      "    fd_event_list = self._selector.poll(timeout, max_ev)\n",
      "KeyboardInterrupt\n"
     ]
    }
   ],
   "source": [
    "best_score = -np.inf\n",
    "best_params = None\n",
    "\n",
    "result_list = []\n",
    "for params in param_combinations:\n",
    "    rf_reg_1 = DaskRandomForestRegressor(**params)\n",
    "    rf_reg_1.fit(dX_train_1, dy_train_1)\n",
    "    y_pred = rf_reg_1.predict(dX_test_1).compute()  # y_pred as NumPy array\n",
    "    current_score_1 = r2_score(y_test_1, y_pred.to_numpy())\n",
    "\n",
    "    rf_reg_2 = DaskRandomForestRegressor(**params)\n",
    "    rf_reg_2.fit(dX_train_2, dy_train_2)\n",
    "    y_pred = rf_reg_2.predict(dX_test_2).compute()  # y_pred as NumPy array\n",
    "    current_score_2 = r2_score(y_test_2, y_pred.to_numpy())\n",
    "\n",
    "    rf_reg_3 = DaskRandomForestRegressor(**params)\n",
    "    rf_reg_3.fit(dX_train_3, dy_train_3)\n",
    "    y_pred = rf_reg_3.predict(dX_test_3).compute()  # y_pred as NumPy array\n",
    "    current_score_3 = r2_score(y_test_3, y_pred.to_numpy())\n",
    "\n",
    "    current_score = np.mean([current_score_1, current_score_2, current_score_3])\n",
    "\n",
    "    line = [params, current_score_1, current_score_2, current_score_3, current_score]\n",
    "    \n",
    "    if current_score > best_score:\n",
    "        best_score = current_score\n",
    "        best_params = params\n",
    "\n",
    "    break"
   ]
  },
  {
   "cell_type": "code",
   "execution_count": 29,
   "id": "3cb881dd-67a7-4b71-a147-c7adb41401b2",
   "metadata": {},
   "outputs": [
    {
     "data": {
      "text/plain": [
       "[{'n_estimators': 3000,\n",
       "  'max_depth': 20,\n",
       "  'max_features': 1.0,\n",
       "  'min_samples_split': 32,\n",
       "  'max_samples': 1.0},\n",
       " -0.00310671329498291,\n",
       " -0.002442479133605957,\n",
       " -0.002095818519592285,\n",
       " -0.0025483369827270508]"
      ]
     },
     "execution_count": 29,
     "metadata": {},
     "output_type": "execute_result"
    }
   ],
   "source": [
    "line"
   ]
  },
  {
   "cell_type": "code",
   "execution_count": null,
   "id": "60aff050-9cd8-4603-abd1-0c71335f64c2",
   "metadata": {},
   "outputs": [],
   "source": []
  }
 ],
 "metadata": {
  "kernelspec": {
   "display_name": "Python 3 (ipykernel)",
   "language": "python",
   "name": "python3"
  },
  "language_info": {
   "codemirror_mode": {
    "name": "ipython",
    "version": 3
   },
   "file_extension": ".py",
   "mimetype": "text/x-python",
   "name": "python",
   "nbconvert_exporter": "python",
   "pygments_lexer": "ipython3",
   "version": "3.10.15"
  }
 },
 "nbformat": 4,
 "nbformat_minor": 5
}
