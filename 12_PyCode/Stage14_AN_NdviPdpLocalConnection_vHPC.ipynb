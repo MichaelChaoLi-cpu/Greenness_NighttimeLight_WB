{
 "cells": [
  {
   "cell_type": "markdown",
   "id": "5f0321dd-e479-42f0-bf34-07d102bfc94a",
   "metadata": {},
   "source": [
    "# NVDI PDP local Estimation"
   ]
  },
  {
   "cell_type": "code",
   "execution_count": 1,
   "id": "248d6cba-921a-45c2-9ca5-2aa807e6f122",
   "metadata": {},
   "outputs": [
    {
     "data": {
      "text/plain": [
       "'/home/pj24001881/share/DP15_Article/12_PyCode'"
      ]
     },
     "execution_count": 1,
     "metadata": {},
     "output_type": "execute_result"
    }
   ],
   "source": [
    "%pwd"
   ]
  },
  {
   "cell_type": "code",
   "execution_count": 2,
   "id": "3a9bcc67-10fb-4426-aea2-a23996ee60db",
   "metadata": {},
   "outputs": [
    {
     "name": "stdout",
     "output_type": "stream",
     "text": [
      "/home/pj24001881/share/DP15_Article\n"
     ]
    },
    {
     "name": "stderr",
     "output_type": "stream",
     "text": [
      "/home/pj24001881/ku40001335/miniconda3/envs/tf/lib/python3.9/site-packages/IPython/core/magics/osm.py:417: UserWarning: using dhist requires you to install the `pickleshare` library.\n",
      "  self.shell.db['dhist'] = compress_dhist(dhist)[-100:]\n"
     ]
    }
   ],
   "source": [
    "%cd .."
   ]
  },
  {
   "cell_type": "code",
   "execution_count": null,
   "id": "2ab4c681-ec7b-42b8-b2b0-51c6e0c99d18",
   "metadata": {},
   "outputs": [],
   "source": []
  },
  {
   "cell_type": "markdown",
   "id": "407d1397-cd18-482e-ad4a-4b8ddeb94c81",
   "metadata": {},
   "source": [
    "## Import Package "
   ]
  },
  {
   "cell_type": "code",
   "execution_count": 10,
   "id": "0ae92017-ce27-440a-a135-b37f9afca9f7",
   "metadata": {},
   "outputs": [],
   "source": [
    "from glob import glob\n",
    "from joblib import dump, load\n",
    "import joblib\n",
    "from multiprocessing import Pool, cpu_count\n",
    "import numpy as np\n",
    "import pandas as pd\n",
    "import random\n",
    "from sklearn.ensemble import RandomForestRegressor\n",
    "from sklearn.linear_model import LinearRegression\n",
    "from sklearn.metrics import mean_squared_error, r2_score\n",
    "from sklearn.model_selection import train_test_split, KFold\n",
    "from tqdm import tqdm"
   ]
  },
  {
   "cell_type": "code",
   "execution_count": 4,
   "id": "1f26bac9-bfeb-4a58-b4c4-f50711171c2e",
   "metadata": {},
   "outputs": [],
   "source": [
    "def process_row(line_row):\n",
    "    left = ori_df.iloc[line_row, 29]\n",
    "    right = ori_df.iloc[line_row, 30]\n",
    "    down = ori_df.iloc[line_row, 31]\n",
    "    up = ori_df.iloc[line_row, 32]\n",
    "\n",
    "    this_point_df = pdp_df[(pdp_df['lat'] > down) & (pdp_df['lat'] < up) &\n",
    "                           (pdp_df['lon'] > left) & (pdp_df['lon'] < right)]\n",
    "    this_point_df = this_point_df[['incre', 'Pred_y_change']]\n",
    "\n",
    "    if this_point_df.empty:\n",
    "        return None\n",
    "\n",
    "    pdp_local = this_point_df.groupby('incre')['Pred_y_change'].mean().reset_index()\n",
    "\n",
    "    if len(pdp_local) < 2:\n",
    "        return None\n",
    "\n",
    "    X = pdp_local[['incre']]\n",
    "    y = pdp_local['Pred_y_change']\n",
    "\n",
    "    model = LinearRegression()\n",
    "    model.fit(X, y)\n",
    "    y_pred = model.predict(X)\n",
    "    r2 = r2_score(y, y_pred)\n",
    "\n",
    "    # Standard Error of Coefficient\n",
    "    n = len(y)\n",
    "    residuals = y - y_pred\n",
    "    residual_sum_of_squares = np.sum(residuals ** 2)\n",
    "    x_var = np.sum((X['incre'] - X['incre'].mean()) ** 2)\n",
    "    se_beta = np.sqrt(residual_sum_of_squares / (n - 2)) / np.sqrt(x_var) if n > 2 and x_var > 0 else np.nan\n",
    "\n",
    "    lat = ori_df.iloc[line_row, 1]\n",
    "    lon = ori_df.iloc[line_row, 2]\n",
    "\n",
    "    return [lat, lon, model.coef_[0], model.intercept_, r2, se_beta]\n"
   ]
  },
  {
   "cell_type": "code",
   "execution_count": null,
   "id": "d2a9ecd6-5ff3-4a60-bc90-325a68795653",
   "metadata": {},
   "outputs": [],
   "source": []
  },
  {
   "cell_type": "markdown",
   "id": "ce522d6e-00c4-4184-ba19-a8d64d251e53",
   "metadata": {},
   "source": [
    "## Load Data"
   ]
  },
  {
   "cell_type": "markdown",
   "id": "3a5a5f1e-6b2b-4450-9faa-f2a2368ecd7b",
   "metadata": {},
   "source": [
    "### Connection NDVI"
   ]
  },
  {
   "cell_type": "code",
   "execution_count": 5,
   "id": "d66f9d1d-79d8-411c-b48c-946d78afa2a3",
   "metadata": {},
   "outputs": [
    {
     "name": "stdout",
     "output_type": "stream",
     "text": [
      "38318\n",
      "38318\n",
      "38318\n",
      "38317\n",
      "38317\n",
      "38317\n",
      "38317\n",
      "38317\n",
      "38317\n",
      "38317\n"
     ]
    }
   ],
   "source": [
    "ori_df_list = []\n",
    "pdp_df_list = []\n",
    "\n",
    "for i in list(range(1, 11)):\n",
    "    X_pdp = pd.read_parquet(f'03_Results/PdpLocal/PDP_Local_NDVI_{i}.parquet')\n",
    "    length = int(X_pdp.shape[0]/41)\n",
    "    print(length)\n",
    "    ori_df_list.append(X_pdp.iloc[:length, :])\n",
    "    \n",
    "    y_ori_pred = X_pdp.iloc[:length, -1].to_list() * 41\n",
    "\n",
    "    value_list = []\n",
    "    for i in list(range(0, 41)):\n",
    "        value_list = value_list + [0.05 * i] * length\n",
    "    \n",
    "    X_pdp['incre'] = value_list\n",
    "\n",
    "    X_pdp['Pred_y_change'] = np.array(X_pdp['Pred_y']) - np.array(y_ori_pred)\n",
    "\n",
    "    pdp_df_list.append(X_pdp)"
   ]
  },
  {
   "cell_type": "code",
   "execution_count": 6,
   "id": "5f8d7073-d38b-4cc4-abd9-4588704d9022",
   "metadata": {},
   "outputs": [],
   "source": [
    "pdp_df = pd.concat(pdp_df_list)\n",
    "ori_df = pd.concat(ori_df_list)"
   ]
  },
  {
   "cell_type": "code",
   "execution_count": 7,
   "id": "3a11708e-ef95-4a0d-a92e-715e8b7d203e",
   "metadata": {},
   "outputs": [
    {
     "data": {
      "text/plain": [
       "(15710093, 36)"
      ]
     },
     "execution_count": 7,
     "metadata": {},
     "output_type": "execute_result"
    }
   ],
   "source": [
    "pdp_df.shape"
   ]
  },
  {
   "cell_type": "code",
   "execution_count": 8,
   "id": "f02aa83d-a8c6-4b4c-9f9b-1057a2b9078e",
   "metadata": {},
   "outputs": [
    {
     "data": {
      "text/plain": [
       "(383173, 34)"
      ]
     },
     "execution_count": 8,
     "metadata": {},
     "output_type": "execute_result"
    }
   ],
   "source": [
    "ori_df.shape"
   ]
  },
  {
   "cell_type": "code",
   "execution_count": null,
   "id": "4b23e4a7-bc3f-4b31-b6cc-aa1866cfe8c0",
   "metadata": {},
   "outputs": [],
   "source": []
  },
  {
   "cell_type": "markdown",
   "id": "16eff744-9ab9-49c6-b191-1b7e2fcb535d",
   "metadata": {},
   "source": [
    "### Build Local Connection"
   ]
  },
  {
   "cell_type": "code",
   "execution_count": 11,
   "id": "cc294a81-156d-4214-aeb0-726b2026dc33",
   "metadata": {
    "scrolled": true
   },
   "outputs": [
    {
     "name": "stderr",
     "output_type": "stream",
     "text": [
      "100%|█████████████████████████████████████████████████████████████████████████████████████████████████████████████████████████████████████████████████████████████| 383173/383173 [13:00<00:00, 491.24it/s]\n"
     ]
    }
   ],
   "source": [
    "with Pool(processes=cpu_count()-10) as pool:\n",
    "     line_result_df = list(tqdm(pool.imap(process_row, range(ori_df.shape[0])), total=ori_df.shape[0]))\n",
    "line_result_df = [res for res in line_result_df if res is not None]"
   ]
  },
  {
   "cell_type": "code",
   "execution_count": 12,
   "id": "44a924f6-76e4-4cf8-9c34-e38d7ecad776",
   "metadata": {},
   "outputs": [],
   "source": [
    "result_df = pd.DataFrame(line_result_df, columns = ['lat', 'lon', 'coeff', 'intercept', 'r2', 'SE_coeff'])"
   ]
  },
  {
   "cell_type": "code",
   "execution_count": 14,
   "id": "70d57577-70f4-4224-8761-f6815e1fc909",
   "metadata": {},
   "outputs": [],
   "source": [
    "result_df.to_excel('13_Results/PdpConnectionCoef/PdpConnection_NDVI_v2.xlsx')"
   ]
  },
  {
   "cell_type": "code",
   "execution_count": null,
   "id": "444c699a-632c-4b25-a786-ca2ae8dadaf1",
   "metadata": {},
   "outputs": [],
   "source": []
  },
  {
   "cell_type": "markdown",
   "id": "6111c7a2-7dfa-4dec-b5c2-bd6b80c03403",
   "metadata": {},
   "source": [
    "### Connection NTL"
   ]
  },
  {
   "cell_type": "code",
   "execution_count": 15,
   "id": "1afa0830-67ef-4016-91a5-fdf3e5d8f7d0",
   "metadata": {},
   "outputs": [
    {
     "name": "stdout",
     "output_type": "stream",
     "text": [
      "38318\n",
      "38318\n",
      "38318\n",
      "38317\n",
      "38317\n",
      "38317\n",
      "38317\n",
      "38317\n",
      "38317\n",
      "38317\n"
     ]
    }
   ],
   "source": [
    "ori_df_list = []\n",
    "pdp_df_list = []\n",
    "\n",
    "for i in list(range(1, 11)):\n",
    "    X_pdp = pd.read_parquet(f'03_Results/PdpLocal/PDP_Local_NTL_{i}.parquet')\n",
    "    length = int(X_pdp.shape[0]/41)\n",
    "    print(length)\n",
    "    ori_df_list.append(X_pdp.iloc[:length, :])\n",
    "    \n",
    "    y_ori_pred = X_pdp.iloc[:length, -1].to_list() * 41\n",
    "\n",
    "    value_list = []\n",
    "    for i in list(range(0, 41)):\n",
    "        value_list = value_list + [0.05 * i] * length\n",
    "    \n",
    "    X_pdp['incre'] = value_list\n",
    "\n",
    "    X_pdp['Pred_y_change'] = np.array(X_pdp['Pred_y']) - np.array(y_ori_pred)\n",
    "\n",
    "    pdp_df_list.append(X_pdp)"
   ]
  },
  {
   "cell_type": "code",
   "execution_count": 16,
   "id": "b192cfa6-a019-4380-a5dc-c7fb7ad443ce",
   "metadata": {},
   "outputs": [],
   "source": [
    "pdp_df = pd.concat(pdp_df_list)\n",
    "ori_df = pd.concat(ori_df_list)"
   ]
  },
  {
   "cell_type": "code",
   "execution_count": 17,
   "id": "347bdc69-8ff3-4d54-be8d-baab4bfcca16",
   "metadata": {},
   "outputs": [
    {
     "data": {
      "text/plain": [
       "(15710093, 36)"
      ]
     },
     "execution_count": 17,
     "metadata": {},
     "output_type": "execute_result"
    }
   ],
   "source": [
    "pdp_df.shape"
   ]
  },
  {
   "cell_type": "code",
   "execution_count": 18,
   "id": "0bc7260c-d95e-4074-9403-77cadf05e4b2",
   "metadata": {},
   "outputs": [
    {
     "data": {
      "text/plain": [
       "(383173, 34)"
      ]
     },
     "execution_count": 18,
     "metadata": {},
     "output_type": "execute_result"
    }
   ],
   "source": [
    "ori_df.shape"
   ]
  },
  {
   "cell_type": "code",
   "execution_count": null,
   "id": "df9cd6cc-e1b0-44dd-9dff-694d75d8f3c9",
   "metadata": {},
   "outputs": [],
   "source": []
  },
  {
   "cell_type": "markdown",
   "id": "34d8847d-1f5c-47e0-ac7f-f70d93284537",
   "metadata": {},
   "source": [
    "### Build Local Connection"
   ]
  },
  {
   "cell_type": "code",
   "execution_count": 19,
   "id": "1d420539-b636-454d-9c8c-542f8f34e76b",
   "metadata": {
    "scrolled": true
   },
   "outputs": [
    {
     "name": "stderr",
     "output_type": "stream",
     "text": [
      "100%|█████████████████████████████████████████████████████████████████████████████████████████████████████████████████████████████████████████████████████████████| 383173/383173 [13:50<00:00, 461.45it/s]\n"
     ]
    }
   ],
   "source": [
    "with Pool(processes=cpu_count()-10) as pool:\n",
    "     line_result_df = list(tqdm(pool.imap(process_row, range(ori_df.shape[0])), total=ori_df.shape[0]))\n",
    "line_result_df = [res for res in line_result_df if res is not None]"
   ]
  },
  {
   "cell_type": "code",
   "execution_count": 20,
   "id": "72ad0202-42f7-4ac2-88c0-78c8d0c9c261",
   "metadata": {},
   "outputs": [],
   "source": [
    "result_df = pd.DataFrame(line_result_df, columns = ['lat', 'lon', 'coeff', 'intercept', 'r2', 'SE_coeff'])"
   ]
  },
  {
   "cell_type": "code",
   "execution_count": 27,
   "id": "df9eef1b-7d07-4169-9dad-229ea5f06c0f",
   "metadata": {},
   "outputs": [],
   "source": [
    "result_df.to_excel('13_Results/PdpConnectionCoef/PdpConnection_NTL_v2.xlsx')"
   ]
  },
  {
   "cell_type": "code",
   "execution_count": null,
   "id": "faf13bc8-4a1b-4684-ba0a-66b3146fe99a",
   "metadata": {},
   "outputs": [],
   "source": []
  },
  {
   "cell_type": "markdown",
   "id": "9058bc35-2d09-49ce-bc43-1dc0ce185677",
   "metadata": {},
   "source": [
    "### Connection income"
   ]
  },
  {
   "cell_type": "code",
   "execution_count": 28,
   "id": "779f62f5-ed75-4844-bc63-31b7e555ee84",
   "metadata": {},
   "outputs": [
    {
     "name": "stdout",
     "output_type": "stream",
     "text": [
      "38318\n",
      "38318\n",
      "38318\n",
      "38317\n",
      "38317\n",
      "38317\n",
      "38317\n",
      "38317\n",
      "38317\n",
      "38317\n"
     ]
    }
   ],
   "source": [
    "ori_df_list = []\n",
    "pdp_df_list = []\n",
    "\n",
    "for i in list(range(1, 11)):\n",
    "    X_pdp = pd.read_parquet(f'03_Results/PdpLocal/PDP_Local_income_indiv_{i}.parquet')\n",
    "    length = int(X_pdp.shape[0]/41)\n",
    "    print(length)\n",
    "    ori_df_list.append(X_pdp.iloc[:length, :])\n",
    "    \n",
    "    y_ori_pred = X_pdp.iloc[:length, -1].to_list() * 41\n",
    "\n",
    "    value_list = []\n",
    "    for i in list(range(0, 41)):\n",
    "        value_list = value_list + [0.05 * i] * length\n",
    "    \n",
    "    X_pdp['incre'] = value_list\n",
    "\n",
    "    X_pdp['Pred_y_change'] = np.array(X_pdp['Pred_y']) - np.array(y_ori_pred)\n",
    "\n",
    "    pdp_df_list.append(X_pdp)"
   ]
  },
  {
   "cell_type": "code",
   "execution_count": 29,
   "id": "32b39582-e0d3-41d6-8a41-ec73686ce67d",
   "metadata": {},
   "outputs": [],
   "source": [
    "pdp_df = pd.concat(pdp_df_list)\n",
    "ori_df = pd.concat(ori_df_list)"
   ]
  },
  {
   "cell_type": "code",
   "execution_count": 30,
   "id": "d980838b-53cc-479c-acd5-2a7d3539c6a4",
   "metadata": {},
   "outputs": [
    {
     "data": {
      "text/plain": [
       "(15710093, 36)"
      ]
     },
     "execution_count": 30,
     "metadata": {},
     "output_type": "execute_result"
    }
   ],
   "source": [
    "pdp_df.shape"
   ]
  },
  {
   "cell_type": "code",
   "execution_count": 31,
   "id": "70baa93f-d187-46ac-abd4-488390dddfcb",
   "metadata": {},
   "outputs": [
    {
     "data": {
      "text/plain": [
       "(383173, 34)"
      ]
     },
     "execution_count": 31,
     "metadata": {},
     "output_type": "execute_result"
    }
   ],
   "source": [
    "ori_df.shape"
   ]
  },
  {
   "cell_type": "code",
   "execution_count": null,
   "id": "e33b8642-d5a0-4082-977d-2a7ca11737cc",
   "metadata": {},
   "outputs": [],
   "source": []
  },
  {
   "cell_type": "markdown",
   "id": "a67f5cc7-200d-4250-8171-e3b08bd1f010",
   "metadata": {},
   "source": [
    "### Build Local Connection"
   ]
  },
  {
   "cell_type": "code",
   "execution_count": 33,
   "id": "ded8f3d0-b1c1-4c45-ab5f-fa605e02beef",
   "metadata": {
    "scrolled": true
   },
   "outputs": [
    {
     "name": "stderr",
     "output_type": "stream",
     "text": [
      "100%|█████████████████████████████████████████████████████████████████████████████████████████████████████████████████████████████████████████████████████████████| 383173/383173 [15:49<00:00, 403.52it/s]\n"
     ]
    }
   ],
   "source": [
    "with Pool(processes=cpu_count()-10) as pool:\n",
    "     line_result_df = list(tqdm(pool.imap(process_row, range(ori_df.shape[0])), total=ori_df.shape[0]))\n",
    "line_result_df = [res for res in line_result_df if res is not None]"
   ]
  },
  {
   "cell_type": "code",
   "execution_count": 34,
   "id": "f729454d-2bb0-49f2-80f0-a27197c2a8be",
   "metadata": {},
   "outputs": [],
   "source": [
    "result_df = pd.DataFrame(line_result_df, columns = ['lat', 'lon', 'coeff', 'intercept', 'r2', 'SE_coeff'])"
   ]
  },
  {
   "cell_type": "code",
   "execution_count": 35,
   "id": "47c18ed8-8153-414b-8916-74e07555c5a6",
   "metadata": {},
   "outputs": [],
   "source": [
    "result_df.to_excel('13_Results/PdpConnectionCoef/PdpConnection_income_indiv_v2.xlsx')"
   ]
  },
  {
   "cell_type": "code",
   "execution_count": null,
   "id": "c8406c42-183c-4ee0-8df6-2f5bbd39a8fa",
   "metadata": {},
   "outputs": [],
   "source": []
  }
 ],
 "metadata": {
  "kernelspec": {
   "display_name": "Python 3 (ipykernel)",
   "language": "python",
   "name": "python3"
  },
  "language_info": {
   "codemirror_mode": {
    "name": "ipython",
    "version": 3
   },
   "file_extension": ".py",
   "mimetype": "text/x-python",
   "name": "python",
   "nbconvert_exporter": "python",
   "pygments_lexer": "ipython3",
   "version": "3.9.19"
  }
 },
 "nbformat": 4,
 "nbformat_minor": 5
}
