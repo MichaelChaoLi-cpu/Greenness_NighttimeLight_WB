{
 "cells": [
  {
   "cell_type": "markdown",
   "id": "5f0321dd-e479-42f0-bf34-07d102bfc94a",
   "metadata": {},
   "source": [
    "# NVDI PDP local Estimation"
   ]
  },
  {
   "cell_type": "code",
   "execution_count": 1,
   "id": "248d6cba-921a-45c2-9ca5-2aa807e6f122",
   "metadata": {},
   "outputs": [
    {
     "data": {
      "text/plain": [
       "'/Users/lichao/DP15_Article/12_PyCode'"
      ]
     },
     "execution_count": 1,
     "metadata": {},
     "output_type": "execute_result"
    }
   ],
   "source": [
    "%pwd"
   ]
  },
  {
   "cell_type": "code",
   "execution_count": 2,
   "id": "3a9bcc67-10fb-4426-aea2-a23996ee60db",
   "metadata": {},
   "outputs": [
    {
     "name": "stdout",
     "output_type": "stream",
     "text": [
      "/Users/lichao/DP15_Article\n"
     ]
    },
    {
     "name": "stderr",
     "output_type": "stream",
     "text": [
      "/Users/lichao/opt/anaconda3/envs/ML/lib/python3.9/site-packages/IPython/core/magics/osm.py:417: UserWarning: using dhist requires you to install the `pickleshare` library.\n",
      "  self.shell.db['dhist'] = compress_dhist(dhist)[-100:]\n"
     ]
    }
   ],
   "source": [
    "%cd .."
   ]
  },
  {
   "cell_type": "code",
   "execution_count": null,
   "id": "2ab4c681-ec7b-42b8-b2b0-51c6e0c99d18",
   "metadata": {},
   "outputs": [],
   "source": []
  },
  {
   "cell_type": "markdown",
   "id": "407d1397-cd18-482e-ad4a-4b8ddeb94c81",
   "metadata": {},
   "source": [
    "## Import Package "
   ]
  },
  {
   "cell_type": "code",
   "execution_count": 3,
   "id": "0ae92017-ce27-440a-a135-b37f9afca9f7",
   "metadata": {},
   "outputs": [],
   "source": [
    "from glob import glob\n",
    "from joblib import dump, load\n",
    "import joblib\n",
    "import numpy as np\n",
    "import pandas as pd\n",
    "import random\n",
    "from sklearn.ensemble import RandomForestRegressor\n",
    "from sklearn.linear_model import LinearRegression\n",
    "from sklearn.metrics import mean_squared_error, r2_score\n",
    "from sklearn.model_selection import train_test_split, KFold"
   ]
  },
  {
   "cell_type": "code",
   "execution_count": null,
   "id": "1f26bac9-bfeb-4a58-b4c4-f50711171c2e",
   "metadata": {},
   "outputs": [],
   "source": []
  },
  {
   "cell_type": "markdown",
   "id": "ce522d6e-00c4-4184-ba19-a8d64d251e53",
   "metadata": {},
   "source": [
    "## Load Data"
   ]
  },
  {
   "cell_type": "markdown",
   "id": "3a5a5f1e-6b2b-4450-9faa-f2a2368ecd7b",
   "metadata": {},
   "source": [
    "### Connection NDVI"
   ]
  },
  {
   "cell_type": "code",
   "execution_count": 4,
   "id": "d66f9d1d-79d8-411c-b48c-946d78afa2a3",
   "metadata": {},
   "outputs": [
    {
     "name": "stdout",
     "output_type": "stream",
     "text": [
      "38318\n",
      "38318\n",
      "38318\n",
      "38317\n",
      "38317\n",
      "38317\n",
      "38317\n",
      "38317\n",
      "38317\n",
      "38317\n"
     ]
    }
   ],
   "source": [
    "ori_df_list = []\n",
    "pdp_df_list = []\n",
    "\n",
    "for i in list(range(1, 11)):\n",
    "    X_pdp = pd.read_parquet(f'03_Results/PdpLocal/PDP_Local_NDVI_{i}.parquet')\n",
    "    length = int(X_pdp.shape[0]/41)\n",
    "    print(length)\n",
    "    ori_df_list.append(X_pdp.iloc[:length, :])\n",
    "    \n",
    "    y_ori_pred = X_pdp.iloc[:length, -1].to_list() * 41\n",
    "\n",
    "    value_list = []\n",
    "    for i in list(range(0, 41)):\n",
    "        value_list = value_list + [0.05 * i] * length\n",
    "    \n",
    "    X_pdp['incre'] = value_list\n",
    "\n",
    "    X_pdp['Pred_y_change'] = np.array(X_pdp['Pred_y']) - np.array(y_ori_pred)\n",
    "\n",
    "    pdp_df_list.append(X_pdp)"
   ]
  },
  {
   "cell_type": "code",
   "execution_count": 5,
   "id": "5f8d7073-d38b-4cc4-abd9-4588704d9022",
   "metadata": {},
   "outputs": [],
   "source": [
    "pdp_df = pd.concat(pdp_df_list)\n",
    "ori_df = pd.concat(ori_df_list)"
   ]
  },
  {
   "cell_type": "code",
   "execution_count": 6,
   "id": "3a11708e-ef95-4a0d-a92e-715e8b7d203e",
   "metadata": {},
   "outputs": [
    {
     "data": {
      "text/plain": [
       "(15710093, 36)"
      ]
     },
     "execution_count": 6,
     "metadata": {},
     "output_type": "execute_result"
    }
   ],
   "source": [
    "pdp_df.shape"
   ]
  },
  {
   "cell_type": "code",
   "execution_count": 7,
   "id": "f02aa83d-a8c6-4b4c-9f9b-1057a2b9078e",
   "metadata": {},
   "outputs": [
    {
     "data": {
      "text/plain": [
       "(383173, 34)"
      ]
     },
     "execution_count": 7,
     "metadata": {},
     "output_type": "execute_result"
    }
   ],
   "source": [
    "ori_df.shape"
   ]
  },
  {
   "cell_type": "code",
   "execution_count": null,
   "id": "4b23e4a7-bc3f-4b31-b6cc-aa1866cfe8c0",
   "metadata": {},
   "outputs": [],
   "source": []
  },
  {
   "cell_type": "markdown",
   "id": "16eff744-9ab9-49c6-b191-1b7e2fcb535d",
   "metadata": {},
   "source": [
    "### Build Local Connection"
   ]
  },
  {
   "cell_type": "code",
   "execution_count": 8,
   "id": "cc294a81-156d-4214-aeb0-726b2026dc33",
   "metadata": {
    "scrolled": true
   },
   "outputs": [
    {
     "ename": "KeyboardInterrupt",
     "evalue": "",
     "output_type": "error",
     "traceback": [
      "\u001b[0;31m---------------------------------------------------------------------------\u001b[0m",
      "\u001b[0;31mKeyboardInterrupt\u001b[0m                         Traceback (most recent call last)",
      "Cell \u001b[0;32mIn[8], line 8\u001b[0m\n\u001b[1;32m      5\u001b[0m down \u001b[38;5;241m=\u001b[39m ori_df\u001b[38;5;241m.\u001b[39miloc[line_row, \u001b[38;5;241m31\u001b[39m]\n\u001b[1;32m      6\u001b[0m up \u001b[38;5;241m=\u001b[39m ori_df\u001b[38;5;241m.\u001b[39miloc[line_row, \u001b[38;5;241m32\u001b[39m]\n\u001b[0;32m----> 8\u001b[0m this_point_df \u001b[38;5;241m=\u001b[39m pdp_df[(\u001b[43mpdp_df\u001b[49m\u001b[43m[\u001b[49m\u001b[38;5;124;43m'\u001b[39;49m\u001b[38;5;124;43mlat\u001b[39;49m\u001b[38;5;124;43m'\u001b[39;49m\u001b[43m]\u001b[49m\u001b[38;5;241;43m>\u001b[39;49m\u001b[43mdown\u001b[49m) \u001b[38;5;241m&\u001b[39m (pdp_df[\u001b[38;5;124m'\u001b[39m\u001b[38;5;124mlat\u001b[39m\u001b[38;5;124m'\u001b[39m]\u001b[38;5;241m<\u001b[39mup) \u001b[38;5;241m&\u001b[39m (pdp_df[\u001b[38;5;124m'\u001b[39m\u001b[38;5;124mlon\u001b[39m\u001b[38;5;124m'\u001b[39m]\u001b[38;5;241m>\u001b[39mleft) \u001b[38;5;241m&\u001b[39m (pdp_df[\u001b[38;5;124m'\u001b[39m\u001b[38;5;124mlon\u001b[39m\u001b[38;5;124m'\u001b[39m]\u001b[38;5;241m<\u001b[39mright)]\n\u001b[1;32m      9\u001b[0m this_point_df \u001b[38;5;241m=\u001b[39m this_point_df[[\u001b[38;5;124m'\u001b[39m\u001b[38;5;124mincre\u001b[39m\u001b[38;5;124m'\u001b[39m, \u001b[38;5;124m'\u001b[39m\u001b[38;5;124mPred_y_change\u001b[39m\u001b[38;5;124m'\u001b[39m]]\n\u001b[1;32m     11\u001b[0m pdp_local \u001b[38;5;241m=\u001b[39m this_point_df[\u001b[38;5;124m'\u001b[39m\u001b[38;5;124mPred_y_change\u001b[39m\u001b[38;5;124m'\u001b[39m]\u001b[38;5;241m.\u001b[39mgroupby(this_point_df[\u001b[38;5;124m'\u001b[39m\u001b[38;5;124mincre\u001b[39m\u001b[38;5;124m'\u001b[39m])\u001b[38;5;241m.\u001b[39mmean()\n",
      "File \u001b[0;32m~/opt/anaconda3/envs/ML/lib/python3.9/site-packages/pandas/core/ops/common.py:76\u001b[0m, in \u001b[0;36m_unpack_zerodim_and_defer.<locals>.new_method\u001b[0;34m(self, other)\u001b[0m\n\u001b[1;32m     72\u001b[0m             \u001b[38;5;28;01mreturn\u001b[39;00m \u001b[38;5;28mNotImplemented\u001b[39m\n\u001b[1;32m     74\u001b[0m other \u001b[38;5;241m=\u001b[39m item_from_zerodim(other)\n\u001b[0;32m---> 76\u001b[0m \u001b[38;5;28;01mreturn\u001b[39;00m \u001b[43mmethod\u001b[49m\u001b[43m(\u001b[49m\u001b[38;5;28;43mself\u001b[39;49m\u001b[43m,\u001b[49m\u001b[43m \u001b[49m\u001b[43mother\u001b[49m\u001b[43m)\u001b[49m\n",
      "File \u001b[0;32m~/opt/anaconda3/envs/ML/lib/python3.9/site-packages/pandas/core/arraylike.py:56\u001b[0m, in \u001b[0;36mOpsMixin.__gt__\u001b[0;34m(self, other)\u001b[0m\n\u001b[1;32m     54\u001b[0m \u001b[38;5;129m@unpack_zerodim_and_defer\u001b[39m(\u001b[38;5;124m\"\u001b[39m\u001b[38;5;124m__gt__\u001b[39m\u001b[38;5;124m\"\u001b[39m)\n\u001b[1;32m     55\u001b[0m \u001b[38;5;28;01mdef\u001b[39;00m\u001b[38;5;250m \u001b[39m\u001b[38;5;21m__gt__\u001b[39m(\u001b[38;5;28mself\u001b[39m, other):\n\u001b[0;32m---> 56\u001b[0m     \u001b[38;5;28;01mreturn\u001b[39;00m \u001b[38;5;28;43mself\u001b[39;49m\u001b[38;5;241;43m.\u001b[39;49m\u001b[43m_cmp_method\u001b[49m\u001b[43m(\u001b[49m\u001b[43mother\u001b[49m\u001b[43m,\u001b[49m\u001b[43m \u001b[49m\u001b[43moperator\u001b[49m\u001b[38;5;241;43m.\u001b[39;49m\u001b[43mgt\u001b[49m\u001b[43m)\u001b[49m\n",
      "File \u001b[0;32m~/opt/anaconda3/envs/ML/lib/python3.9/site-packages/pandas/core/series.py:6119\u001b[0m, in \u001b[0;36mSeries._cmp_method\u001b[0;34m(self, other, op)\u001b[0m\n\u001b[1;32m   6116\u001b[0m lvalues \u001b[38;5;241m=\u001b[39m \u001b[38;5;28mself\u001b[39m\u001b[38;5;241m.\u001b[39m_values\n\u001b[1;32m   6117\u001b[0m rvalues \u001b[38;5;241m=\u001b[39m extract_array(other, extract_numpy\u001b[38;5;241m=\u001b[39m\u001b[38;5;28;01mTrue\u001b[39;00m, extract_range\u001b[38;5;241m=\u001b[39m\u001b[38;5;28;01mTrue\u001b[39;00m)\n\u001b[0;32m-> 6119\u001b[0m res_values \u001b[38;5;241m=\u001b[39m \u001b[43mops\u001b[49m\u001b[38;5;241;43m.\u001b[39;49m\u001b[43mcomparison_op\u001b[49m\u001b[43m(\u001b[49m\u001b[43mlvalues\u001b[49m\u001b[43m,\u001b[49m\u001b[43m \u001b[49m\u001b[43mrvalues\u001b[49m\u001b[43m,\u001b[49m\u001b[43m \u001b[49m\u001b[43mop\u001b[49m\u001b[43m)\u001b[49m\n\u001b[1;32m   6121\u001b[0m \u001b[38;5;28;01mreturn\u001b[39;00m \u001b[38;5;28mself\u001b[39m\u001b[38;5;241m.\u001b[39m_construct_result(res_values, name\u001b[38;5;241m=\u001b[39mres_name)\n",
      "File \u001b[0;32m~/opt/anaconda3/envs/ML/lib/python3.9/site-packages/pandas/core/ops/array_ops.py:347\u001b[0m, in \u001b[0;36mcomparison_op\u001b[0;34m(left, right, op)\u001b[0m\n\u001b[1;32m    344\u001b[0m     res_values \u001b[38;5;241m=\u001b[39m comp_method_OBJECT_ARRAY(op, lvalues, rvalues)\n\u001b[1;32m    346\u001b[0m \u001b[38;5;28;01melse\u001b[39;00m:\n\u001b[0;32m--> 347\u001b[0m     res_values \u001b[38;5;241m=\u001b[39m \u001b[43m_na_arithmetic_op\u001b[49m\u001b[43m(\u001b[49m\u001b[43mlvalues\u001b[49m\u001b[43m,\u001b[49m\u001b[43m \u001b[49m\u001b[43mrvalues\u001b[49m\u001b[43m,\u001b[49m\u001b[43m \u001b[49m\u001b[43mop\u001b[49m\u001b[43m,\u001b[49m\u001b[43m \u001b[49m\u001b[43mis_cmp\u001b[49m\u001b[38;5;241;43m=\u001b[39;49m\u001b[38;5;28;43;01mTrue\u001b[39;49;00m\u001b[43m)\u001b[49m\n\u001b[1;32m    349\u001b[0m \u001b[38;5;28;01mreturn\u001b[39;00m res_values\n",
      "File \u001b[0;32m~/opt/anaconda3/envs/ML/lib/python3.9/site-packages/pandas/core/ops/array_ops.py:218\u001b[0m, in \u001b[0;36m_na_arithmetic_op\u001b[0;34m(left, right, op, is_cmp)\u001b[0m\n\u001b[1;32m    215\u001b[0m     func \u001b[38;5;241m=\u001b[39m partial(expressions\u001b[38;5;241m.\u001b[39mevaluate, op)\n\u001b[1;32m    217\u001b[0m \u001b[38;5;28;01mtry\u001b[39;00m:\n\u001b[0;32m--> 218\u001b[0m     result \u001b[38;5;241m=\u001b[39m \u001b[43mfunc\u001b[49m\u001b[43m(\u001b[49m\u001b[43mleft\u001b[49m\u001b[43m,\u001b[49m\u001b[43m \u001b[49m\u001b[43mright\u001b[49m\u001b[43m)\u001b[49m\n\u001b[1;32m    219\u001b[0m \u001b[38;5;28;01mexcept\u001b[39;00m \u001b[38;5;167;01mTypeError\u001b[39;00m:\n\u001b[1;32m    220\u001b[0m     \u001b[38;5;28;01mif\u001b[39;00m \u001b[38;5;129;01mnot\u001b[39;00m is_cmp \u001b[38;5;129;01mand\u001b[39;00m (\n\u001b[1;32m    221\u001b[0m         left\u001b[38;5;241m.\u001b[39mdtype \u001b[38;5;241m==\u001b[39m \u001b[38;5;28mobject\u001b[39m \u001b[38;5;129;01mor\u001b[39;00m \u001b[38;5;28mgetattr\u001b[39m(right, \u001b[38;5;124m\"\u001b[39m\u001b[38;5;124mdtype\u001b[39m\u001b[38;5;124m\"\u001b[39m, \u001b[38;5;28;01mNone\u001b[39;00m) \u001b[38;5;241m==\u001b[39m \u001b[38;5;28mobject\u001b[39m\n\u001b[1;32m    222\u001b[0m     ):\n\u001b[0;32m   (...)\u001b[0m\n\u001b[1;32m    225\u001b[0m         \u001b[38;5;66;03m# Don't do this for comparisons, as that will handle complex numbers\u001b[39;00m\n\u001b[1;32m    226\u001b[0m         \u001b[38;5;66;03m#  incorrectly, see GH#32047\u001b[39;00m\n",
      "File \u001b[0;32m~/opt/anaconda3/envs/ML/lib/python3.9/site-packages/pandas/core/computation/expressions.py:242\u001b[0m, in \u001b[0;36mevaluate\u001b[0;34m(op, a, b, use_numexpr)\u001b[0m\n\u001b[1;32m    239\u001b[0m \u001b[38;5;28;01mif\u001b[39;00m op_str \u001b[38;5;129;01mis\u001b[39;00m \u001b[38;5;129;01mnot\u001b[39;00m \u001b[38;5;28;01mNone\u001b[39;00m:\n\u001b[1;32m    240\u001b[0m     \u001b[38;5;28;01mif\u001b[39;00m use_numexpr:\n\u001b[1;32m    241\u001b[0m         \u001b[38;5;66;03m# error: \"None\" not callable\u001b[39;00m\n\u001b[0;32m--> 242\u001b[0m         \u001b[38;5;28;01mreturn\u001b[39;00m \u001b[43m_evaluate\u001b[49m\u001b[43m(\u001b[49m\u001b[43mop\u001b[49m\u001b[43m,\u001b[49m\u001b[43m \u001b[49m\u001b[43mop_str\u001b[49m\u001b[43m,\u001b[49m\u001b[43m \u001b[49m\u001b[43ma\u001b[49m\u001b[43m,\u001b[49m\u001b[43m \u001b[49m\u001b[43mb\u001b[49m\u001b[43m)\u001b[49m  \u001b[38;5;66;03m# type: ignore[misc]\u001b[39;00m\n\u001b[1;32m    243\u001b[0m \u001b[38;5;28;01mreturn\u001b[39;00m _evaluate_standard(op, op_str, a, b)\n",
      "File \u001b[0;32m~/opt/anaconda3/envs/ML/lib/python3.9/site-packages/pandas/core/computation/expressions.py:73\u001b[0m, in \u001b[0;36m_evaluate_standard\u001b[0;34m(op, op_str, a, b)\u001b[0m\n\u001b[1;32m     71\u001b[0m \u001b[38;5;28;01mif\u001b[39;00m _TEST_MODE:\n\u001b[1;32m     72\u001b[0m     _store_test_result(\u001b[38;5;28;01mFalse\u001b[39;00m)\n\u001b[0;32m---> 73\u001b[0m \u001b[38;5;28;01mreturn\u001b[39;00m \u001b[43mop\u001b[49m\u001b[43m(\u001b[49m\u001b[43ma\u001b[49m\u001b[43m,\u001b[49m\u001b[43m \u001b[49m\u001b[43mb\u001b[49m\u001b[43m)\u001b[49m\n",
      "\u001b[0;31mKeyboardInterrupt\u001b[0m: "
     ]
    }
   ],
   "source": [
    "line_result_df = []\n",
    "for line_row in range(ori_df.shape[0]):\n",
    "    left = ori_df.iloc[line_row, 29]\n",
    "    right = ori_df.iloc[line_row, 30]\n",
    "    down = ori_df.iloc[line_row, 31]\n",
    "    up = ori_df.iloc[line_row, 32]\n",
    "\n",
    "    this_point_df = pdp_df[(pdp_df['lat']>down) & (pdp_df['lat']<up) & (pdp_df['lon']>left) & (pdp_df['lon']<right)]\n",
    "    this_point_df = this_point_df[['incre', 'Pred_y_change']]\n",
    "\n",
    "    pdp_local = this_point_df['Pred_y_change'].groupby(this_point_df['incre']).mean()\n",
    "    #pdp_local = this_point_df\n",
    "    pdp_local = pd.DataFrame(pdp_local).reset_index()\n",
    "    \n",
    "    X = pdp_local[['incre']]\n",
    "    y = pdp_local['Pred_y_change']\n",
    "\n",
    "    model = LinearRegression()\n",
    "    model.fit(X, y)\n",
    "\n",
    "    y_pred = model.predict(X)\n",
    "    r2 = r2_score(y, y_pred)\n",
    "    #print(\"R^2 Score:\", r2, X.shape)\n",
    "\n",
    "    # Standard Error of Coefficient\n",
    "    n = len(y)\n",
    "    residuals = y - y_pred\n",
    "    residual_sum_of_squares = np.sum(residuals ** 2)\n",
    "    x_var = np.sum((X['incre'] - X['incre'].mean()) ** 2)\n",
    "    se_beta = np.sqrt(residual_sum_of_squares / (n - 2)) / np.sqrt(x_var) if n > 2 and x_var > 0 else np.nan\n",
    "\n",
    "    \n",
    "    lat = ori_df.iloc[line_row, 1]\n",
    "    lon = ori_df.iloc[line_row, 2]\n",
    "\n",
    "    line_result = [lat, lon, model.coef_[0], model.intercept_, r2, se_beta]\n",
    "\n",
    "    if \n",
    "\n",
    "    line_result_df.append(line_result)"
   ]
  },
  {
   "cell_type": "code",
   "execution_count": null,
   "id": "44a924f6-76e4-4cf8-9c34-e38d7ecad776",
   "metadata": {},
   "outputs": [],
   "source": [
    "result_df = pd.DataFrame(line_result_df, columns = ['lat', 'lon', 'coeff', 'intercept', 'r2', 'SE_coeff'])"
   ]
  },
  {
   "cell_type": "code",
   "execution_count": null,
   "id": "70d57577-70f4-4224-8761-f6815e1fc909",
   "metadata": {},
   "outputs": [],
   "source": [
    "result_df.to_excel('03_Results/PdpConnectionCoef/PdpConnection_NDVI_v2.xlsx')"
   ]
  },
  {
   "cell_type": "code",
   "execution_count": null,
   "id": "444c699a-632c-4b25-a786-ca2ae8dadaf1",
   "metadata": {},
   "outputs": [],
   "source": []
  },
  {
   "cell_type": "markdown",
   "id": "6111c7a2-7dfa-4dec-b5c2-bd6b80c03403",
   "metadata": {},
   "source": [
    "### Connection NTL"
   ]
  },
  {
   "cell_type": "code",
   "execution_count": null,
   "id": "1afa0830-67ef-4016-91a5-fdf3e5d8f7d0",
   "metadata": {},
   "outputs": [],
   "source": [
    "ori_df_list = []\n",
    "pdp_df_list = []\n",
    "\n",
    "for i in list(range(1, 11)):\n",
    "    X_pdp = pd.read_parquet(f'03_Results/PdpLocal/PDP_Local_NTL_{i}.parquet')\n",
    "    length = int(X_pdp.shape[0]/41)\n",
    "    print(length)\n",
    "    ori_df_list.append(X_pdp.iloc[:length, :])\n",
    "    \n",
    "    y_ori_pred = X_pdp.iloc[:length, -1].to_list() * 41\n",
    "\n",
    "    value_list = []\n",
    "    for i in list(range(0, 41)):\n",
    "        value_list = value_list + [0.05 * i] * length\n",
    "    \n",
    "    X_pdp['incre'] = value_list\n",
    "\n",
    "    X_pdp['Pred_y_change'] = np.array(X_pdp['Pred_y']) - np.array(y_ori_pred)\n",
    "\n",
    "    pdp_df_list.append(X_pdp)"
   ]
  },
  {
   "cell_type": "code",
   "execution_count": null,
   "id": "b192cfa6-a019-4380-a5dc-c7fb7ad443ce",
   "metadata": {},
   "outputs": [],
   "source": [
    "pdp_df = pd.concat(pdp_df_list)\n",
    "ori_df = pd.concat(ori_df_list)"
   ]
  },
  {
   "cell_type": "code",
   "execution_count": null,
   "id": "347bdc69-8ff3-4d54-be8d-baab4bfcca16",
   "metadata": {},
   "outputs": [],
   "source": [
    "pdp_df.shape"
   ]
  },
  {
   "cell_type": "code",
   "execution_count": null,
   "id": "0bc7260c-d95e-4074-9403-77cadf05e4b2",
   "metadata": {},
   "outputs": [],
   "source": [
    "ori_df.shape"
   ]
  },
  {
   "cell_type": "code",
   "execution_count": null,
   "id": "df9cd6cc-e1b0-44dd-9dff-694d75d8f3c9",
   "metadata": {},
   "outputs": [],
   "source": []
  },
  {
   "cell_type": "markdown",
   "id": "34d8847d-1f5c-47e0-ac7f-f70d93284537",
   "metadata": {},
   "source": [
    "### Build Local Connection"
   ]
  },
  {
   "cell_type": "code",
   "execution_count": null,
   "id": "1d420539-b636-454d-9c8c-542f8f34e76b",
   "metadata": {
    "scrolled": true
   },
   "outputs": [],
   "source": [
    "line_result_df = []\n",
    "for line_row in range(ori_df.shape[0]):\n",
    "    left = ori_df.iloc[line_row, 29]\n",
    "    right = ori_df.iloc[line_row, 30]\n",
    "    down = ori_df.iloc[line_row, 31]\n",
    "    up = ori_df.iloc[line_row, 32]\n",
    "\n",
    "    this_point_df = pdp_df[(pdp_df['lat']>down) & (pdp_df['lat']<up) & (pdp_df['lon']>left) & (pdp_df['lon']<right)]\n",
    "    this_point_df = this_point_df[['incre', 'Pred_y_change']]\n",
    "\n",
    "    pdp_local = this_point_df['Pred_y_change'].groupby(this_point_df['incre']).mean()\n",
    "    #pdp_local = this_point_df\n",
    "    pdp_local = pd.DataFrame(pdp_local).reset_index()\n",
    "    \n",
    "    X = pdp_local[['incre']]\n",
    "    y = pdp_local['Pred_y_change']\n",
    "\n",
    "    model = LinearRegression()\n",
    "    model.fit(X, y)\n",
    "\n",
    "    y_pred = model.predict(X)\n",
    "    r2 = r2_score(y, y_pred)\n",
    "    #print(\"R^2 Score:\", r2, X.shape)\n",
    "\n",
    "    # Standard Error of Coefficient\n",
    "    n = len(y)\n",
    "    residuals = y - y_pred\n",
    "    residual_sum_of_squares = np.sum(residuals ** 2)\n",
    "    x_var = np.sum((X['incre'] - X['incre'].mean()) ** 2)\n",
    "    se_beta = np.sqrt(residual_sum_of_squares / (n - 2)) / np.sqrt(x_var) if n > 2 and x_var > 0 else np.nan\n",
    "    \n",
    "    lat = ori_df.iloc[line_row, 1]\n",
    "    lon = ori_df.iloc[line_row, 2]\n",
    "\n",
    "    line_result = [lat, lon, model.coef_[0], model.intercept_, r2, se_beta]\n",
    "\n",
    "    line_result_df.append(line_result)"
   ]
  },
  {
   "cell_type": "code",
   "execution_count": null,
   "id": "72ad0202-42f7-4ac2-88c0-78c8d0c9c261",
   "metadata": {},
   "outputs": [],
   "source": [
    "result_df = pd.DataFrame(line_result_df, columns = ['lat', 'lon', 'coeff', 'intercept', 'r2', 'SE_coeff'])"
   ]
  },
  {
   "cell_type": "code",
   "execution_count": null,
   "id": "df9eef1b-7d07-4169-9dad-229ea5f06c0f",
   "metadata": {},
   "outputs": [],
   "source": [
    "result_df.to_excel('03_Results/PdpConnectionCoef/PdpConnection_NTL_v2.xlsx')"
   ]
  },
  {
   "cell_type": "code",
   "execution_count": null,
   "id": "faf13bc8-4a1b-4684-ba0a-66b3146fe99a",
   "metadata": {},
   "outputs": [],
   "source": []
  },
  {
   "cell_type": "markdown",
   "id": "9058bc35-2d09-49ce-bc43-1dc0ce185677",
   "metadata": {},
   "source": [
    "### Connection income"
   ]
  },
  {
   "cell_type": "code",
   "execution_count": null,
   "id": "779f62f5-ed75-4844-bc63-31b7e555ee84",
   "metadata": {},
   "outputs": [],
   "source": [
    "ori_df_list = []\n",
    "pdp_df_list = []\n",
    "\n",
    "for i in list(range(1, 11)):\n",
    "    X_pdp = pd.read_parquet(f'03_Results/PdpLocal/PDP_Local_income_indiv_{i}.parquet')\n",
    "    length = int(X_pdp.shape[0]/41)\n",
    "    print(length)\n",
    "    ori_df_list.append(X_pdp.iloc[:length, :])\n",
    "    \n",
    "    y_ori_pred = X_pdp.iloc[:length, -1].to_list() * 41\n",
    "\n",
    "    value_list = []\n",
    "    for i in list(range(0, 41)):\n",
    "        value_list = value_list + [0.05 * i] * length\n",
    "    \n",
    "    X_pdp['incre'] = value_list\n",
    "\n",
    "    X_pdp['Pred_y_change'] = np.array(X_pdp['Pred_y']) - np.array(y_ori_pred)\n",
    "\n",
    "    pdp_df_list.append(X_pdp)"
   ]
  },
  {
   "cell_type": "code",
   "execution_count": null,
   "id": "32b39582-e0d3-41d6-8a41-ec73686ce67d",
   "metadata": {},
   "outputs": [],
   "source": [
    "pdp_df = pd.concat(pdp_df_list)\n",
    "ori_df = pd.concat(ori_df_list)"
   ]
  },
  {
   "cell_type": "code",
   "execution_count": null,
   "id": "d980838b-53cc-479c-acd5-2a7d3539c6a4",
   "metadata": {},
   "outputs": [],
   "source": [
    "pdp_df.shape"
   ]
  },
  {
   "cell_type": "code",
   "execution_count": null,
   "id": "70baa93f-d187-46ac-abd4-488390dddfcb",
   "metadata": {},
   "outputs": [],
   "source": [
    "ori_df.shape"
   ]
  },
  {
   "cell_type": "code",
   "execution_count": null,
   "id": "e33b8642-d5a0-4082-977d-2a7ca11737cc",
   "metadata": {},
   "outputs": [],
   "source": []
  },
  {
   "cell_type": "markdown",
   "id": "a67f5cc7-200d-4250-8171-e3b08bd1f010",
   "metadata": {},
   "source": [
    "### Build Local Connection"
   ]
  },
  {
   "cell_type": "code",
   "execution_count": null,
   "id": "ded8f3d0-b1c1-4c45-ab5f-fa605e02beef",
   "metadata": {
    "scrolled": true
   },
   "outputs": [],
   "source": [
    "line_result_df = []\n",
    "for line_row in range(ori_df.shape[0]):\n",
    "    left = ori_df.iloc[line_row, 29]\n",
    "    right = ori_df.iloc[line_row, 30]\n",
    "    down = ori_df.iloc[line_row, 31]\n",
    "    up = ori_df.iloc[line_row, 32]\n",
    "\n",
    "    this_point_df = pdp_df[(pdp_df['lat']>down) & (pdp_df['lat']<up) & (pdp_df['lon']>left) & (pdp_df['lon']<right)]\n",
    "    this_point_df = this_point_df[['incre', 'Pred_y_change']]\n",
    "\n",
    "    pdp_local = this_point_df['Pred_y_change'].groupby(this_point_df['incre']).mean()\n",
    "    #pdp_local = this_point_df\n",
    "    pdp_local = pd.DataFrame(pdp_local).reset_index()\n",
    "    \n",
    "    X = pdp_local[['incre']]\n",
    "    y = pdp_local['Pred_y_change']\n",
    "\n",
    "    model = LinearRegression()\n",
    "    model.fit(X, y)\n",
    "\n",
    "    y_pred = model.predict(X)\n",
    "    r2 = r2_score(y, y_pred)\n",
    "    #print(\"R^2 Score:\", r2, X.shape)\n",
    "\n",
    "    # Standard Error of Coefficient\n",
    "    n = len(y)\n",
    "    residuals = y - y_pred\n",
    "    residual_sum_of_squares = np.sum(residuals ** 2)\n",
    "    x_var = np.sum((X['incre'] - X['incre'].mean()) ** 2)\n",
    "    se_beta = np.sqrt(residual_sum_of_squares / (n - 2)) / np.sqrt(x_var) if n > 2 and x_var > 0 else np.nan\n",
    "    \n",
    "    lat = ori_df.iloc[line_row, 1]\n",
    "    lon = ori_df.iloc[line_row, 2]\n",
    "\n",
    "    line_result = [lat, lon, model.coef_[0], model.intercept_, r2, se_beta]\n",
    "\n",
    "    line_result_df.append(line_result)"
   ]
  },
  {
   "cell_type": "code",
   "execution_count": null,
   "id": "f729454d-2bb0-49f2-80f0-a27197c2a8be",
   "metadata": {},
   "outputs": [],
   "source": [
    "result_df = pd.DataFrame(line_result_df, columns = ['lat', 'lon', 'coeff', 'intercept', 'r2', 'SE_coeff'])"
   ]
  },
  {
   "cell_type": "code",
   "execution_count": null,
   "id": "47c18ed8-8153-414b-8916-74e07555c5a6",
   "metadata": {},
   "outputs": [],
   "source": [
    "result_df.to_excel('03_Results/PdpConnectionCoef/PdpConnection_income_indiv_v2.xlsx')"
   ]
  },
  {
   "cell_type": "code",
   "execution_count": null,
   "id": "c8406c42-183c-4ee0-8df6-2f5bbd39a8fa",
   "metadata": {},
   "outputs": [],
   "source": []
  }
 ],
 "metadata": {
  "kernelspec": {
   "display_name": "Python 3 (ipykernel)",
   "language": "python",
   "name": "python3"
  },
  "language_info": {
   "codemirror_mode": {
    "name": "ipython",
    "version": 3
   },
   "file_extension": ".py",
   "mimetype": "text/x-python",
   "name": "python",
   "nbconvert_exporter": "python",
   "pygments_lexer": "ipython3",
   "version": "3.9.21"
  }
 },
 "nbformat": 4,
 "nbformat_minor": 5
}
