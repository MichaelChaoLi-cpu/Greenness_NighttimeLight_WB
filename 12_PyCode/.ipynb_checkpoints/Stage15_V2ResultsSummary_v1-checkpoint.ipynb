{
 "cells": [
  {
   "cell_type": "markdown",
   "id": "0e3fcd36-4c3d-49d7-84c6-f14b591835bb",
   "metadata": {},
   "source": [
    "# Replace LEC and MWTP's CI with Statistical"
   ]
  },
  {
   "cell_type": "code",
   "execution_count": 1,
   "id": "f5d19759-3a8a-40c4-85c7-a084d56664d9",
   "metadata": {},
   "outputs": [
    {
     "data": {
      "text/plain": [
       "'D:\\\\15_Article\\\\12_PyCode'"
      ]
     },
     "execution_count": 1,
     "metadata": {},
     "output_type": "execute_result"
    }
   ],
   "source": [
    "%pwd"
   ]
  },
  {
   "cell_type": "code",
   "execution_count": 2,
   "id": "5a75d598-a83a-4ef5-851f-f7a8f2e90e22",
   "metadata": {},
   "outputs": [
    {
     "name": "stdout",
     "output_type": "stream",
     "text": [
      "D:\\15_Article\n"
     ]
    }
   ],
   "source": [
    "%cd .."
   ]
  },
  {
   "cell_type": "code",
   "execution_count": null,
   "id": "1ae37d9c-e576-4bb0-8e2f-58cb5917e996",
   "metadata": {},
   "outputs": [],
   "source": []
  },
  {
   "cell_type": "markdown",
   "id": "2e392ae1-f3af-4944-9432-46f16c2c3775",
   "metadata": {},
   "source": [
    "## Import Package"
   ]
  },
  {
   "cell_type": "code",
   "execution_count": 3,
   "id": "d08314e5-b8b6-412d-8907-2211e6ade6ec",
   "metadata": {},
   "outputs": [],
   "source": [
    "import numpy as np\n",
    "import pandas as pd"
   ]
  },
  {
   "cell_type": "code",
   "execution_count": null,
   "id": "e50eef3b-f1ee-4bed-a3de-832a087e7fb3",
   "metadata": {},
   "outputs": [],
   "source": []
  },
  {
   "cell_type": "markdown",
   "id": "bc00fbc7-df38-4c31-abfb-c01ce3b8efba",
   "metadata": {},
   "source": [
    "## load data"
   ]
  },
  {
   "cell_type": "code",
   "execution_count": 9,
   "id": "087d65ab-3993-421f-b971-8972887b89b3",
   "metadata": {},
   "outputs": [],
   "source": [
    "result_df_ndvi = pd.read_excel('13_Results/PdpConnectionCoef/PdpConnection_NDVI.xlsx', index_col = 0)"
   ]
  },
  {
   "cell_type": "code",
   "execution_count": 10,
   "id": "b0fda169-6952-4a2b-aa70-b732d3766a43",
   "metadata": {},
   "outputs": [],
   "source": [
    "result_df_ndvi.loc[result_df_ndvi['r2'] < 0.5, 'coeff'] = 0"
   ]
  },
  {
   "cell_type": "code",
   "execution_count": 11,
   "id": "73f48d35-a499-4d28-8c76-163f92846e0d",
   "metadata": {},
   "outputs": [],
   "source": [
    "result_df_ndvi_loc = result_df_ndvi.drop_duplicates()"
   ]
  },
  {
   "cell_type": "code",
   "execution_count": 12,
   "id": "aafa7531-26e8-4513-954a-1ebabb9f50f8",
   "metadata": {},
   "outputs": [],
   "source": [
    "result_df_ndvi_loc = result_df_ndvi_loc[['lat', 'lon', 'coeff']]"
   ]
  },
  {
   "cell_type": "code",
   "execution_count": 13,
   "id": "22d89382-0ebf-4007-b5e1-fd7133de2a46",
   "metadata": {},
   "outputs": [],
   "source": [
    "result_df_ndvi_loc.columns = ['lat', 'lon', 'coeff_ndvi']"
   ]
  },
  {
   "cell_type": "code",
   "execution_count": 15,
   "id": "302b69af-63bb-49ac-a55d-93dc0cf57899",
   "metadata": {},
   "outputs": [],
   "source": [
    "result_df_ntl = pd.read_excel('13_Results/PdpConnectionCoef/PdpConnection_NTL.xlsx', index_col = 0)"
   ]
  },
  {
   "cell_type": "code",
   "execution_count": 16,
   "id": "2801374f-a995-4d3a-8515-6c4ec878bc64",
   "metadata": {},
   "outputs": [],
   "source": [
    "result_df_ntl.loc[result_df_ntl['r2'] < 0.5, 'coeff'] = 0"
   ]
  },
  {
   "cell_type": "code",
   "execution_count": 17,
   "id": "c7cae636-a393-435f-bd00-b1ad17404d4d",
   "metadata": {},
   "outputs": [],
   "source": [
    "result_df_ntl_loc = result_df_ntl.drop_duplicates()"
   ]
  },
  {
   "cell_type": "code",
   "execution_count": 18,
   "id": "7a373753-ab17-40a4-a292-5ce3d6b569ff",
   "metadata": {},
   "outputs": [],
   "source": [
    "result_df_ntl_loc = result_df_ntl_loc[['lat', 'lon', 'coeff']]"
   ]
  },
  {
   "cell_type": "code",
   "execution_count": 19,
   "id": "a65f593c-744e-4ab3-bd7e-4a8badcf9a55",
   "metadata": {},
   "outputs": [],
   "source": [
    "result_df_ntl_loc.columns = ['lat', 'lon', 'coeff_ntl']"
   ]
  },
  {
   "cell_type": "code",
   "execution_count": 20,
   "id": "8d2c72ae-b52f-4eee-87f3-8afb0cfcd98d",
   "metadata": {},
   "outputs": [],
   "source": [
    "result_df_income = pd.read_excel('13_Results/PdpConnectionCoef/PdpConnection_income_indiv.xlsx', index_col = 0)"
   ]
  },
  {
   "cell_type": "code",
   "execution_count": 21,
   "id": "258b9a3c-0fca-42b1-85e0-40716d336e7c",
   "metadata": {},
   "outputs": [],
   "source": [
    "result_df_income.loc[result_df_income['r2'] < 0.5, 'coeff'] = 0"
   ]
  },
  {
   "cell_type": "code",
   "execution_count": 22,
   "id": "bf07369d-5b0a-4a94-8c2f-89635b50babf",
   "metadata": {},
   "outputs": [],
   "source": [
    "result_df_income_loc = result_df_income.drop_duplicates()"
   ]
  },
  {
   "cell_type": "code",
   "execution_count": 23,
   "id": "8452bbb6-bf24-4476-8edf-dd2afb561846",
   "metadata": {},
   "outputs": [],
   "source": [
    "result_df_income_loc = result_df_income_loc[['lat', 'lon', 'coeff']]"
   ]
  },
  {
   "cell_type": "code",
   "execution_count": 27,
   "id": "b581efaf-1cd7-4f5b-a0ac-c0f0d729b05d",
   "metadata": {},
   "outputs": [],
   "source": [
    "result_df_income_loc.columns = ['lat', 'lon', 'coeff_income']"
   ]
  },
  {
   "cell_type": "code",
   "execution_count": 28,
   "id": "50d38109-792b-4767-8edd-919f07acdde7",
   "metadata": {},
   "outputs": [],
   "source": [
    "merged_df = pd.merge(result_df_ndvi_loc, result_df_ntl_loc, on=['lat', 'lon'], how='left')\n",
    "result_df_loc_merge = pd.merge(merged_df, result_df_income_loc, on=['lat', 'lon'], how='left')"
   ]
  },
  {
   "cell_type": "code",
   "execution_count": 30,
   "id": "76ed73b0-9722-4cdf-acea-d855f5bb9219",
   "metadata": {},
   "outputs": [],
   "source": [
    "result_df_loc_merge['MWPT_NDVI'] = result_df_loc_merge['coeff_ndvi'] / result_df_loc_merge['coeff_income'] / 120.96 * 1_000_000"
   ]
  },
  {
   "cell_type": "code",
   "execution_count": 31,
   "id": "b955bb9d-7690-41ab-a8c8-540dc50e7a44",
   "metadata": {},
   "outputs": [],
   "source": [
    "result_df_loc_merge['MWPT_NTL'] = result_df_loc_merge['coeff_ntl'] / result_df_loc_merge['coeff_income'] / 120.96 * 1_000_000"
   ]
  },
  {
   "cell_type": "code",
   "execution_count": 32,
   "id": "ff6e2a0d-ef7e-46ec-abf9-3dc0fbfa51e7",
   "metadata": {},
   "outputs": [],
   "source": [
    "result_df_loc_merge = result_df_loc_merge.groupby(['lat', 'lon']).mean()"
   ]
  },
  {
   "cell_type": "code",
   "execution_count": 33,
   "id": "9d1dbe01-941e-4f98-b808-63a12e07112f",
   "metadata": {},
   "outputs": [],
   "source": [
    "result_df_loc_merge = result_df_loc_merge.reset_index()"
   ]
  },
  {
   "cell_type": "code",
   "execution_count": 34,
   "id": "0bfc3b31-7860-4c32-aa4a-a61134005cf6",
   "metadata": {},
   "outputs": [],
   "source": [
    "result_df_loc_merge = result_df_loc_merge.replace([np.inf, -np.inf], 0)\n",
    "result_df_loc_merge = result_df_loc_merge.fillna(0)"
   ]
  },
  {
   "cell_type": "code",
   "execution_count": 35,
   "id": "95e193a9-80bd-4de0-8f91-d7198b24329e",
   "metadata": {},
   "outputs": [
    {
     "data": {
      "text/plain": [
       "(50852, 7)"
      ]
     },
     "execution_count": 35,
     "metadata": {},
     "output_type": "execute_result"
    }
   ],
   "source": [
    "result_df_loc_merge.shape"
   ]
  },
  {
   "cell_type": "code",
   "execution_count": 36,
   "id": "fffe6014-3d3d-4e07-95f7-6660155ac780",
   "metadata": {},
   "outputs": [
    {
     "data": {
      "text/html": [
       "<div>\n",
       "<style scoped>\n",
       "    .dataframe tbody tr th:only-of-type {\n",
       "        vertical-align: middle;\n",
       "    }\n",
       "\n",
       "    .dataframe tbody tr th {\n",
       "        vertical-align: top;\n",
       "    }\n",
       "\n",
       "    .dataframe thead th {\n",
       "        text-align: right;\n",
       "    }\n",
       "</style>\n",
       "<table border=\"1\" class=\"dataframe\">\n",
       "  <thead>\n",
       "    <tr style=\"text-align: right;\">\n",
       "      <th></th>\n",
       "      <th>lat</th>\n",
       "      <th>lon</th>\n",
       "      <th>coeff_ndvi</th>\n",
       "      <th>coeff_ntl</th>\n",
       "      <th>coeff_income</th>\n",
       "      <th>MWPT_NDVI</th>\n",
       "      <th>MWPT_NTL</th>\n",
       "    </tr>\n",
       "  </thead>\n",
       "  <tbody>\n",
       "    <tr>\n",
       "      <th>count</th>\n",
       "      <td>50852.000000</td>\n",
       "      <td>50852.000000</td>\n",
       "      <td>50852.000000</td>\n",
       "      <td>50852.000000</td>\n",
       "      <td>50852.000000</td>\n",
       "      <td>5.085200e+04</td>\n",
       "      <td>5.085200e+04</td>\n",
       "    </tr>\n",
       "    <tr>\n",
       "      <th>mean</th>\n",
       "      <td>35.773296</td>\n",
       "      <td>136.851359</td>\n",
       "      <td>0.000364</td>\n",
       "      <td>-0.002037</td>\n",
       "      <td>0.014759</td>\n",
       "      <td>3.790114e+02</td>\n",
       "      <td>-1.434595e+03</td>\n",
       "    </tr>\n",
       "    <tr>\n",
       "      <th>std</th>\n",
       "      <td>2.480900</td>\n",
       "      <td>3.331468</td>\n",
       "      <td>0.002655</td>\n",
       "      <td>0.006116</td>\n",
       "      <td>0.011206</td>\n",
       "      <td>7.491180e+04</td>\n",
       "      <td>8.196221e+04</td>\n",
       "    </tr>\n",
       "    <tr>\n",
       "      <th>min</th>\n",
       "      <td>24.301767</td>\n",
       "      <td>123.762947</td>\n",
       "      <td>-0.072164</td>\n",
       "      <td>-0.125678</td>\n",
       "      <td>-0.060621</td>\n",
       "      <td>-8.448932e+06</td>\n",
       "      <td>-1.175134e+07</td>\n",
       "    </tr>\n",
       "    <tr>\n",
       "      <th>25%</th>\n",
       "      <td>34.667910</td>\n",
       "      <td>135.207962</td>\n",
       "      <td>0.000000</td>\n",
       "      <td>-0.002577</td>\n",
       "      <td>0.008527</td>\n",
       "      <td>0.000000e+00</td>\n",
       "      <td>-1.520402e+03</td>\n",
       "    </tr>\n",
       "    <tr>\n",
       "      <th>50%</th>\n",
       "      <td>35.226959</td>\n",
       "      <td>136.923462</td>\n",
       "      <td>0.000000</td>\n",
       "      <td>-0.001347</td>\n",
       "      <td>0.013553</td>\n",
       "      <td>0.000000e+00</td>\n",
       "      <td>-7.223015e+02</td>\n",
       "    </tr>\n",
       "    <tr>\n",
       "      <th>75%</th>\n",
       "      <td>36.277805</td>\n",
       "      <td>139.635010</td>\n",
       "      <td>0.001134</td>\n",
       "      <td>0.000000</td>\n",
       "      <td>0.018700</td>\n",
       "      <td>6.111250e+02</td>\n",
       "      <td>0.000000e+00</td>\n",
       "    </tr>\n",
       "    <tr>\n",
       "      <th>max</th>\n",
       "      <td>45.511021</td>\n",
       "      <td>145.742340</td>\n",
       "      <td>0.054274</td>\n",
       "      <td>0.093483</td>\n",
       "      <td>0.162315</td>\n",
       "      <td>1.183274e+07</td>\n",
       "      <td>4.179183e+06</td>\n",
       "    </tr>\n",
       "  </tbody>\n",
       "</table>\n",
       "</div>"
      ],
      "text/plain": [
       "                lat           lon    coeff_ndvi     coeff_ntl  coeff_income  \\\n",
       "count  50852.000000  50852.000000  50852.000000  50852.000000  50852.000000   \n",
       "mean      35.773296    136.851359      0.000364     -0.002037      0.014759   \n",
       "std        2.480900      3.331468      0.002655      0.006116      0.011206   \n",
       "min       24.301767    123.762947     -0.072164     -0.125678     -0.060621   \n",
       "25%       34.667910    135.207962      0.000000     -0.002577      0.008527   \n",
       "50%       35.226959    136.923462      0.000000     -0.001347      0.013553   \n",
       "75%       36.277805    139.635010      0.001134      0.000000      0.018700   \n",
       "max       45.511021    145.742340      0.054274      0.093483      0.162315   \n",
       "\n",
       "          MWPT_NDVI      MWPT_NTL  \n",
       "count  5.085200e+04  5.085200e+04  \n",
       "mean   3.790114e+02 -1.434595e+03  \n",
       "std    7.491180e+04  8.196221e+04  \n",
       "min   -8.448932e+06 -1.175134e+07  \n",
       "25%    0.000000e+00 -1.520402e+03  \n",
       "50%    0.000000e+00 -7.223015e+02  \n",
       "75%    6.111250e+02  0.000000e+00  \n",
       "max    1.183274e+07  4.179183e+06  "
      ]
     },
     "execution_count": 36,
     "metadata": {},
     "output_type": "execute_result"
    }
   ],
   "source": [
    "result_df_loc_merge.describe()"
   ]
  },
  {
   "cell_type": "code",
   "execution_count": 47,
   "id": "e162c3e5-3e02-43a2-8da2-6681eb3847e7",
   "metadata": {},
   "outputs": [
    {
     "data": {
      "text/plain": [
       "np.float64(10033.013042983393)"
      ]
     },
     "execution_count": 47,
     "metadata": {},
     "output_type": "execute_result"
    }
   ],
   "source": [
    "np.quantile(result_df_loc_merge['MWPT_NDVI'], .99)"
   ]
  },
  {
   "cell_type": "code",
   "execution_count": 48,
   "id": "514db785-1dd0-4217-ad16-6e93a1fa14b2",
   "metadata": {},
   "outputs": [
    {
     "data": {
      "text/plain": [
       "np.float64(19305.65951599898)"
      ]
     },
     "execution_count": 48,
     "metadata": {},
     "output_type": "execute_result"
    }
   ],
   "source": [
    "np.quantile(result_df_loc_merge['MWPT_NTL'], .99)"
   ]
  },
  {
   "cell_type": "code",
   "execution_count": 49,
   "id": "b2348d60-eab1-4619-8d2b-6cea17c864ce",
   "metadata": {},
   "outputs": [
    {
     "data": {
      "text/plain": [
       "np.float64(-10070.724986854733)"
      ]
     },
     "execution_count": 49,
     "metadata": {},
     "output_type": "execute_result"
    }
   ],
   "source": [
    "np.quantile(result_df_loc_merge['MWPT_NDVI'], .01)"
   ]
  },
  {
   "cell_type": "code",
   "execution_count": 50,
   "id": "98e59959-89ae-47c1-a462-103303349a85",
   "metadata": {},
   "outputs": [
    {
     "data": {
      "text/plain": [
       "np.float64(-23408.252851971658)"
      ]
     },
     "execution_count": 50,
     "metadata": {},
     "output_type": "execute_result"
    }
   ],
   "source": [
    "np.quantile(result_df_loc_merge['MWPT_NTL'], .01)"
   ]
  },
  {
   "cell_type": "code",
   "execution_count": 96,
   "id": "d11ed09e-2f48-415e-9a5f-103c29a5f716",
   "metadata": {},
   "outputs": [],
   "source": [
    "lines = []\n",
    "for name in result_df_loc_merge.columns[2:]:\n",
    "    line = [np.mean(result_df_loc_merge[name]), np.quantile(result_df_loc_merge[name], .005),\n",
    "            np.quantile(result_df_loc_merge[name], .025), np.quantile(result_df_loc_merge[name], .5),\n",
    "            np.quantile(result_df_loc_merge[name], .25), np.quantile(result_df_loc_merge[name], .50), \n",
    "            np.quantile(result_df_loc_merge[name], .75), np.quantile(result_df_loc_merge[name], .95),\n",
    "            np.quantile(result_df_loc_merge[name], .975), np.quantile(result_df_loc_merge[name], .995),]\n",
    "    lines.append(line)"
   ]
  },
  {
   "cell_type": "code",
   "execution_count": 97,
   "id": "7abbe48d-069f-4ab4-990e-e0587ffd8338",
   "metadata": {},
   "outputs": [],
   "source": [
    "data_summary = pd.DataFrame(lines)"
   ]
  },
  {
   "cell_type": "code",
   "execution_count": 98,
   "id": "01fb6755-334d-4d0b-a8eb-0d3ca49ece06",
   "metadata": {},
   "outputs": [],
   "source": [
    "data_summary.columns = ['Mean', \"0.5% Quantile\", \"2.5% Quantile\", \"5% Quantile\",\n",
    "                        \"25% Quantile\", \"50% Quantile\",\n",
    "                        \"75% Quantile\", \"95% Quantile\", \"97.5% Quantile\", \"99.5% Quantile\",]"
   ]
  },
  {
   "cell_type": "code",
   "execution_count": 99,
   "id": "c1ad1a54-39d2-48c3-aaed-93f24bbbb92e",
   "metadata": {},
   "outputs": [],
   "source": [
    "data_summary.index = ['Local Marginal Effect Coefficient of NDVI', 'Local Marginal Effect Coefficient NTL', 'Local Marginal Effect  Coefficient Income', 'MWTP of NDVI', 'MWTP of NTL']"
   ]
  },
  {
   "cell_type": "code",
   "execution_count": 101,
   "id": "7871bd1b-b8cf-4d1d-9292-0e232aafe29a",
   "metadata": {},
   "outputs": [
    {
     "data": {
      "text/html": [
       "<div>\n",
       "<style scoped>\n",
       "    .dataframe tbody tr th:only-of-type {\n",
       "        vertical-align: middle;\n",
       "    }\n",
       "\n",
       "    .dataframe tbody tr th {\n",
       "        vertical-align: top;\n",
       "    }\n",
       "\n",
       "    .dataframe thead th {\n",
       "        text-align: right;\n",
       "    }\n",
       "</style>\n",
       "<table border=\"1\" class=\"dataframe\">\n",
       "  <thead>\n",
       "    <tr style=\"text-align: right;\">\n",
       "      <th></th>\n",
       "      <th>Mean</th>\n",
       "      <th>0.5% Quantile</th>\n",
       "      <th>2.5% Quantile</th>\n",
       "      <th>5% Quantile</th>\n",
       "      <th>25% Quantile</th>\n",
       "      <th>50% Quantile</th>\n",
       "      <th>75% Quantile</th>\n",
       "      <th>95% Quantile</th>\n",
       "      <th>97.5% Quantile</th>\n",
       "      <th>99.5% Quantile</th>\n",
       "    </tr>\n",
       "  </thead>\n",
       "  <tbody>\n",
       "    <tr>\n",
       "      <th>Local Marginal Effect Coefficient of NDVI</th>\n",
       "      <td>0.000364</td>\n",
       "      <td>-0.009340</td>\n",
       "      <td>-0.004348</td>\n",
       "      <td>0.000000</td>\n",
       "      <td>0.000000</td>\n",
       "      <td>0.000000</td>\n",
       "      <td>0.001134</td>\n",
       "      <td>0.003586</td>\n",
       "      <td>0.005214</td>\n",
       "      <td>0.010961</td>\n",
       "    </tr>\n",
       "    <tr>\n",
       "      <th>Local Marginal Effect Coefficient NTL</th>\n",
       "      <td>-0.002037</td>\n",
       "      <td>-0.034131</td>\n",
       "      <td>-0.014922</td>\n",
       "      <td>-0.001347</td>\n",
       "      <td>-0.002577</td>\n",
       "      <td>-0.001347</td>\n",
       "      <td>0.000000</td>\n",
       "      <td>0.002205</td>\n",
       "      <td>0.005587</td>\n",
       "      <td>0.018962</td>\n",
       "    </tr>\n",
       "    <tr>\n",
       "      <th>Local Marginal Effect  Coefficient Income</th>\n",
       "      <td>0.014759</td>\n",
       "      <td>-0.006948</td>\n",
       "      <td>-0.001145</td>\n",
       "      <td>0.013553</td>\n",
       "      <td>0.008527</td>\n",
       "      <td>0.013553</td>\n",
       "      <td>0.018700</td>\n",
       "      <td>0.033662</td>\n",
       "      <td>0.042993</td>\n",
       "      <td>0.066150</td>\n",
       "    </tr>\n",
       "    <tr>\n",
       "      <th>MWTP of NDVI</th>\n",
       "      <td>379.011353</td>\n",
       "      <td>-20557.831938</td>\n",
       "      <td>-4134.717079</td>\n",
       "      <td>0.000000</td>\n",
       "      <td>0.000000</td>\n",
       "      <td>0.000000</td>\n",
       "      <td>611.124960</td>\n",
       "      <td>2631.249265</td>\n",
       "      <td>4631.269289</td>\n",
       "      <td>18458.571230</td>\n",
       "    </tr>\n",
       "    <tr>\n",
       "      <th>MWTP of NTL</th>\n",
       "      <td>-1434.594657</td>\n",
       "      <td>-42463.994702</td>\n",
       "      <td>-10573.796801</td>\n",
       "      <td>-722.301526</td>\n",
       "      <td>-1520.401818</td>\n",
       "      <td>-722.301526</td>\n",
       "      <td>0.000000</td>\n",
       "      <td>1575.817577</td>\n",
       "      <td>5309.841772</td>\n",
       "      <td>40590.414596</td>\n",
       "    </tr>\n",
       "  </tbody>\n",
       "</table>\n",
       "</div>"
      ],
      "text/plain": [
       "                                                  Mean  0.5% Quantile  \\\n",
       "Local Marginal Effect Coefficient of NDVI     0.000364      -0.009340   \n",
       "Local Marginal Effect Coefficient NTL        -0.002037      -0.034131   \n",
       "Local Marginal Effect  Coefficient Income     0.014759      -0.006948   \n",
       "MWTP of NDVI                                379.011353  -20557.831938   \n",
       "MWTP of NTL                               -1434.594657  -42463.994702   \n",
       "\n",
       "                                           2.5% Quantile  5% Quantile  \\\n",
       "Local Marginal Effect Coefficient of NDVI      -0.004348     0.000000   \n",
       "Local Marginal Effect Coefficient NTL          -0.014922    -0.001347   \n",
       "Local Marginal Effect  Coefficient Income      -0.001145     0.013553   \n",
       "MWTP of NDVI                                -4134.717079     0.000000   \n",
       "MWTP of NTL                                -10573.796801  -722.301526   \n",
       "\n",
       "                                           25% Quantile  50% Quantile  \\\n",
       "Local Marginal Effect Coefficient of NDVI      0.000000      0.000000   \n",
       "Local Marginal Effect Coefficient NTL         -0.002577     -0.001347   \n",
       "Local Marginal Effect  Coefficient Income      0.008527      0.013553   \n",
       "MWTP of NDVI                                   0.000000      0.000000   \n",
       "MWTP of NTL                                -1520.401818   -722.301526   \n",
       "\n",
       "                                           75% Quantile  95% Quantile  \\\n",
       "Local Marginal Effect Coefficient of NDVI      0.001134      0.003586   \n",
       "Local Marginal Effect Coefficient NTL          0.000000      0.002205   \n",
       "Local Marginal Effect  Coefficient Income      0.018700      0.033662   \n",
       "MWTP of NDVI                                 611.124960   2631.249265   \n",
       "MWTP of NTL                                    0.000000   1575.817577   \n",
       "\n",
       "                                           97.5% Quantile  99.5% Quantile  \n",
       "Local Marginal Effect Coefficient of NDVI        0.005214        0.010961  \n",
       "Local Marginal Effect Coefficient NTL            0.005587        0.018962  \n",
       "Local Marginal Effect  Coefficient Income        0.042993        0.066150  \n",
       "MWTP of NDVI                                  4631.269289    18458.571230  \n",
       "MWTP of NTL                                   5309.841772    40590.414596  "
      ]
     },
     "execution_count": 101,
     "metadata": {},
     "output_type": "execute_result"
    }
   ],
   "source": [
    "data_summary"
   ]
  },
  {
   "cell_type": "code",
   "execution_count": 102,
   "id": "c213d870-3f5b-4ae4-a82b-a5fb77c951a8",
   "metadata": {},
   "outputs": [],
   "source": [
    "data_summary.to_excel('13_Results/Table02_summaryTable.xlsx')"
   ]
  },
  {
   "cell_type": "code",
   "execution_count": null,
   "id": "9b443785-bbe4-41d0-bd2d-603e506dfb89",
   "metadata": {},
   "outputs": [],
   "source": []
  }
 ],
 "metadata": {
  "kernelspec": {
   "display_name": "Python 3 (ipykernel)",
   "language": "python",
   "name": "python3"
  },
  "language_info": {
   "codemirror_mode": {
    "name": "ipython",
    "version": 3
   },
   "file_extension": ".py",
   "mimetype": "text/x-python",
   "name": "python",
   "nbconvert_exporter": "python",
   "pygments_lexer": "ipython3",
   "version": "3.9.19"
  }
 },
 "nbformat": 4,
 "nbformat_minor": 5
}
