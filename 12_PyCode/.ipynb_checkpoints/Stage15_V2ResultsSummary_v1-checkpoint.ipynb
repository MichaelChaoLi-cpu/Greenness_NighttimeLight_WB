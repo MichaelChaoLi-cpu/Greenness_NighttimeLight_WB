{
 "cells": [
  {
   "cell_type": "markdown",
   "id": "0e3fcd36-4c3d-49d7-84c6-f14b591835bb",
   "metadata": {},
   "source": [
    "# Replace LEC and MWTP's CI with Statistical"
   ]
  },
  {
   "cell_type": "code",
   "execution_count": 1,
   "id": "f5d19759-3a8a-40c4-85c7-a084d56664d9",
   "metadata": {},
   "outputs": [
    {
     "data": {
      "text/plain": [
       "'/home/pj24001881/share/DP15_Article/12_PyCode'"
      ]
     },
     "execution_count": 1,
     "metadata": {},
     "output_type": "execute_result"
    }
   ],
   "source": [
    "%pwd"
   ]
  },
  {
   "cell_type": "code",
   "execution_count": 2,
   "id": "5a75d598-a83a-4ef5-851f-f7a8f2e90e22",
   "metadata": {},
   "outputs": [
    {
     "name": "stdout",
     "output_type": "stream",
     "text": [
      "/home/pj24001881/share/DP15_Article\n"
     ]
    },
    {
     "name": "stderr",
     "output_type": "stream",
     "text": [
      "/home/pj24001881/ku40001335/miniconda3/envs/tf/lib/python3.9/site-packages/IPython/core/magics/osm.py:417: UserWarning: using dhist requires you to install the `pickleshare` library.\n",
      "  self.shell.db['dhist'] = compress_dhist(dhist)[-100:]\n"
     ]
    }
   ],
   "source": [
    "%cd .."
   ]
  },
  {
   "cell_type": "code",
   "execution_count": null,
   "id": "1ae37d9c-e576-4bb0-8e2f-58cb5917e996",
   "metadata": {},
   "outputs": [],
   "source": []
  },
  {
   "cell_type": "markdown",
   "id": "2e392ae1-f3af-4944-9432-46f16c2c3775",
   "metadata": {},
   "source": [
    "## Import Package"
   ]
  },
  {
   "cell_type": "code",
   "execution_count": 107,
   "id": "d08314e5-b8b6-412d-8907-2211e6ade6ec",
   "metadata": {},
   "outputs": [],
   "source": [
    "import geopandas as gpd\n",
    "import matplotlib.colors\n",
    "import matplotlib.patches as mpatches\n",
    "import matplotlib.pyplot as plt\n",
    "import numpy as np\n",
    "import pandas as pd\n",
    "\n",
    "from mpl_toolkits.axes_grid1.inset_locator import zoomed_inset_axes, mark_inset\n",
    "from shapely.geometry import Point\n",
    "from shapely.geometry import box\n",
    "from shapely.ops import unary_union"
   ]
  },
  {
   "cell_type": "code",
   "execution_count": null,
   "id": "e50eef3b-f1ee-4bed-a3de-832a087e7fb3",
   "metadata": {},
   "outputs": [],
   "source": []
  },
  {
   "cell_type": "markdown",
   "id": "bc00fbc7-df38-4c31-abfb-c01ce3b8efba",
   "metadata": {},
   "source": [
    "## load data"
   ]
  },
  {
   "cell_type": "code",
   "execution_count": 4,
   "id": "087d65ab-3993-421f-b971-8972887b89b3",
   "metadata": {},
   "outputs": [],
   "source": [
    "result_df_ndvi = pd.read_excel('13_Results/PdpConnectionCoef/PdpConnection_NDVI_v2.xlsx', index_col = 0)"
   ]
  },
  {
   "cell_type": "code",
   "execution_count": 5,
   "id": "b81c0fb7-4a75-4975-9c51-ec59f4b254ac",
   "metadata": {},
   "outputs": [],
   "source": [
    "result_df_ndvi['significant'] = (result_df_ndvi['coeff'].abs() - result_df_ndvi['SE_coeff'] * 1.96) >= 0"
   ]
  },
  {
   "cell_type": "code",
   "execution_count": 6,
   "id": "1724a3b9-09b4-4969-8ad1-091c465e28a9",
   "metadata": {},
   "outputs": [],
   "source": [
    "result_df_ndvi_insignificant = result_df_ndvi[result_df_ndvi['significant'] == False]"
   ]
  },
  {
   "cell_type": "code",
   "execution_count": 7,
   "id": "7469461e-530d-45ef-a08a-aadd0069c4e2",
   "metadata": {},
   "outputs": [
    {
     "data": {
      "text/html": [
       "<div>\n",
       "<style scoped>\n",
       "    .dataframe tbody tr th:only-of-type {\n",
       "        vertical-align: middle;\n",
       "    }\n",
       "\n",
       "    .dataframe tbody tr th {\n",
       "        vertical-align: top;\n",
       "    }\n",
       "\n",
       "    .dataframe thead th {\n",
       "        text-align: right;\n",
       "    }\n",
       "</style>\n",
       "<table border=\"1\" class=\"dataframe\">\n",
       "  <thead>\n",
       "    <tr style=\"text-align: right;\">\n",
       "      <th></th>\n",
       "      <th>lat</th>\n",
       "      <th>lon</th>\n",
       "      <th>coeff</th>\n",
       "      <th>intercept</th>\n",
       "      <th>r2</th>\n",
       "      <th>SE_coeff</th>\n",
       "      <th>significant</th>\n",
       "    </tr>\n",
       "  </thead>\n",
       "  <tbody>\n",
       "  </tbody>\n",
       "</table>\n",
       "</div>"
      ],
      "text/plain": [
       "Empty DataFrame\n",
       "Columns: [lat, lon, coeff, intercept, r2, SE_coeff, significant]\n",
       "Index: []"
      ]
     },
     "execution_count": 7,
     "metadata": {},
     "output_type": "execute_result"
    }
   ],
   "source": [
    "result_df_ndvi_insignificant[result_df_ndvi_insignificant['r2'] > 0.5]"
   ]
  },
  {
   "cell_type": "code",
   "execution_count": 8,
   "id": "65c84d8c-4652-42a1-9ac5-960bd6327eae",
   "metadata": {},
   "outputs": [
    {
     "data": {
      "text/plain": [
       "(36673, 7)"
      ]
     },
     "execution_count": 8,
     "metadata": {},
     "output_type": "execute_result"
    }
   ],
   "source": [
    "result_df_ndvi_insignificant.shape"
   ]
  },
  {
   "cell_type": "code",
   "execution_count": 9,
   "id": "1a466d23-a837-4800-b796-84a2e60901ad",
   "metadata": {},
   "outputs": [
    {
     "data": {
      "text/html": [
       "<div>\n",
       "<style scoped>\n",
       "    .dataframe tbody tr th:only-of-type {\n",
       "        vertical-align: middle;\n",
       "    }\n",
       "\n",
       "    .dataframe tbody tr th {\n",
       "        vertical-align: top;\n",
       "    }\n",
       "\n",
       "    .dataframe thead th {\n",
       "        text-align: right;\n",
       "    }\n",
       "</style>\n",
       "<table border=\"1\" class=\"dataframe\">\n",
       "  <thead>\n",
       "    <tr style=\"text-align: right;\">\n",
       "      <th></th>\n",
       "      <th>lat</th>\n",
       "      <th>lon</th>\n",
       "      <th>coeff</th>\n",
       "      <th>intercept</th>\n",
       "      <th>r2</th>\n",
       "      <th>SE_coeff</th>\n",
       "      <th>significant</th>\n",
       "    </tr>\n",
       "  </thead>\n",
       "  <tbody>\n",
       "    <tr>\n",
       "      <th>0</th>\n",
       "      <td>35.918037</td>\n",
       "      <td>140.013626</td>\n",
       "      <td>0.000442</td>\n",
       "      <td>0.000004</td>\n",
       "      <td>0.750660</td>\n",
       "      <td>0.000041</td>\n",
       "      <td>True</td>\n",
       "    </tr>\n",
       "    <tr>\n",
       "      <th>1</th>\n",
       "      <td>35.604172</td>\n",
       "      <td>139.486008</td>\n",
       "      <td>-0.001507</td>\n",
       "      <td>0.000117</td>\n",
       "      <td>0.974180</td>\n",
       "      <td>0.000039</td>\n",
       "      <td>True</td>\n",
       "    </tr>\n",
       "    <tr>\n",
       "      <th>2</th>\n",
       "      <td>35.170216</td>\n",
       "      <td>138.682770</td>\n",
       "      <td>0.001823</td>\n",
       "      <td>-0.002013</td>\n",
       "      <td>0.427581</td>\n",
       "      <td>0.000338</td>\n",
       "      <td>True</td>\n",
       "    </tr>\n",
       "    <tr>\n",
       "      <th>3</th>\n",
       "      <td>34.741104</td>\n",
       "      <td>137.707062</td>\n",
       "      <td>0.002899</td>\n",
       "      <td>-0.000212</td>\n",
       "      <td>0.994833</td>\n",
       "      <td>0.000033</td>\n",
       "      <td>True</td>\n",
       "    </tr>\n",
       "    <tr>\n",
       "      <th>4</th>\n",
       "      <td>33.515968</td>\n",
       "      <td>130.407059</td>\n",
       "      <td>0.001064</td>\n",
       "      <td>0.000420</td>\n",
       "      <td>0.904825</td>\n",
       "      <td>0.000055</td>\n",
       "      <td>True</td>\n",
       "    </tr>\n",
       "  </tbody>\n",
       "</table>\n",
       "</div>"
      ],
      "text/plain": [
       "         lat         lon     coeff  intercept        r2  SE_coeff  significant\n",
       "0  35.918037  140.013626  0.000442   0.000004  0.750660  0.000041         True\n",
       "1  35.604172  139.486008 -0.001507   0.000117  0.974180  0.000039         True\n",
       "2  35.170216  138.682770  0.001823  -0.002013  0.427581  0.000338         True\n",
       "3  34.741104  137.707062  0.002899  -0.000212  0.994833  0.000033         True\n",
       "4  33.515968  130.407059  0.001064   0.000420  0.904825  0.000055         True"
      ]
     },
     "execution_count": 9,
     "metadata": {},
     "output_type": "execute_result"
    }
   ],
   "source": [
    "result_df_ndvi.head()"
   ]
  },
  {
   "cell_type": "code",
   "execution_count": 10,
   "id": "b0fda169-6952-4a2b-aa70-b732d3766a43",
   "metadata": {},
   "outputs": [],
   "source": [
    "result_df_ndvi.loc[result_df_ndvi['r2'] < 0.5, 'coeff'] = 0"
   ]
  },
  {
   "cell_type": "code",
   "execution_count": 11,
   "id": "73f48d35-a499-4d28-8c76-163f92846e0d",
   "metadata": {},
   "outputs": [],
   "source": [
    "result_df_ndvi_loc = result_df_ndvi.drop_duplicates()"
   ]
  },
  {
   "cell_type": "code",
   "execution_count": 12,
   "id": "aafa7531-26e8-4513-954a-1ebabb9f50f8",
   "metadata": {},
   "outputs": [],
   "source": [
    "result_df_ndvi_loc = result_df_ndvi_loc[['lat', 'lon', 'coeff', 'SE_coeff']]"
   ]
  },
  {
   "cell_type": "code",
   "execution_count": 13,
   "id": "22d89382-0ebf-4007-b5e1-fd7133de2a46",
   "metadata": {},
   "outputs": [],
   "source": [
    "result_df_ndvi_loc.columns = ['lat', 'lon', 'coeff_ndvi', 'SE_coeff_ndvi']"
   ]
  },
  {
   "cell_type": "code",
   "execution_count": 14,
   "id": "302b69af-63bb-49ac-a55d-93dc0cf57899",
   "metadata": {},
   "outputs": [],
   "source": [
    "result_df_ntl = pd.read_excel('13_Results/PdpConnectionCoef/PdpConnection_NTL_v2.xlsx', index_col = 0)"
   ]
  },
  {
   "cell_type": "code",
   "execution_count": 15,
   "id": "ba7df599-d16d-46b0-9ad7-6dd25a158f28",
   "metadata": {},
   "outputs": [],
   "source": [
    "result_df_ntl['significant'] = (result_df_ntl['coeff'].abs() - result_df_ntl['SE_coeff'] * 1.96) >= 0"
   ]
  },
  {
   "cell_type": "code",
   "execution_count": 16,
   "id": "7ee2b6d6-dbe1-4add-9f80-a078d6a746e9",
   "metadata": {},
   "outputs": [],
   "source": [
    "result_df_ntl_insignificant = result_df_ntl[result_df_ntl['significant'] == False]"
   ]
  },
  {
   "cell_type": "code",
   "execution_count": 17,
   "id": "a2d220b9-01fc-4999-a039-76644a9b1f33",
   "metadata": {},
   "outputs": [
    {
     "data": {
      "text/html": [
       "<div>\n",
       "<style scoped>\n",
       "    .dataframe tbody tr th:only-of-type {\n",
       "        vertical-align: middle;\n",
       "    }\n",
       "\n",
       "    .dataframe tbody tr th {\n",
       "        vertical-align: top;\n",
       "    }\n",
       "\n",
       "    .dataframe thead th {\n",
       "        text-align: right;\n",
       "    }\n",
       "</style>\n",
       "<table border=\"1\" class=\"dataframe\">\n",
       "  <thead>\n",
       "    <tr style=\"text-align: right;\">\n",
       "      <th></th>\n",
       "      <th>lat</th>\n",
       "      <th>lon</th>\n",
       "      <th>coeff</th>\n",
       "      <th>intercept</th>\n",
       "      <th>r2</th>\n",
       "      <th>SE_coeff</th>\n",
       "      <th>significant</th>\n",
       "    </tr>\n",
       "  </thead>\n",
       "  <tbody>\n",
       "  </tbody>\n",
       "</table>\n",
       "</div>"
      ],
      "text/plain": [
       "Empty DataFrame\n",
       "Columns: [lat, lon, coeff, intercept, r2, SE_coeff, significant]\n",
       "Index: []"
      ]
     },
     "execution_count": 17,
     "metadata": {},
     "output_type": "execute_result"
    }
   ],
   "source": [
    "result_df_ntl_insignificant[result_df_ntl_insignificant['r2'] > 0.5]"
   ]
  },
  {
   "cell_type": "code",
   "execution_count": 18,
   "id": "6b84fca5-f8e1-4518-960d-f06bfd835d65",
   "metadata": {},
   "outputs": [
    {
     "data": {
      "text/plain": [
       "(15279, 7)"
      ]
     },
     "execution_count": 18,
     "metadata": {},
     "output_type": "execute_result"
    }
   ],
   "source": [
    "result_df_ntl_insignificant.shape"
   ]
  },
  {
   "cell_type": "code",
   "execution_count": 19,
   "id": "2801374f-a995-4d3a-8515-6c4ec878bc64",
   "metadata": {},
   "outputs": [],
   "source": [
    "result_df_ntl.loc[result_df_ntl['r2'] < 0.5, 'coeff'] = 0"
   ]
  },
  {
   "cell_type": "code",
   "execution_count": 20,
   "id": "c7cae636-a393-435f-bd00-b1ad17404d4d",
   "metadata": {},
   "outputs": [],
   "source": [
    "result_df_ntl_loc = result_df_ntl.drop_duplicates()"
   ]
  },
  {
   "cell_type": "code",
   "execution_count": 21,
   "id": "7a373753-ab17-40a4-a292-5ce3d6b569ff",
   "metadata": {},
   "outputs": [],
   "source": [
    "result_df_ntl_loc = result_df_ntl_loc[['lat', 'lon', 'coeff', 'SE_coeff']]"
   ]
  },
  {
   "cell_type": "code",
   "execution_count": 22,
   "id": "a65f593c-744e-4ab3-bd7e-4a8badcf9a55",
   "metadata": {},
   "outputs": [],
   "source": [
    "result_df_ntl_loc.columns = ['lat', 'lon', 'coeff_ntl', 'SE_coeff_ntl']"
   ]
  },
  {
   "cell_type": "code",
   "execution_count": 23,
   "id": "8d2c72ae-b52f-4eee-87f3-8afb0cfcd98d",
   "metadata": {},
   "outputs": [],
   "source": [
    "result_df_income = pd.read_excel('13_Results/PdpConnectionCoef/PdpConnection_income_indiv_v2.xlsx', index_col = 0)"
   ]
  },
  {
   "cell_type": "code",
   "execution_count": 24,
   "id": "a25a4bd8-e3aa-4431-874c-5a7b73cea654",
   "metadata": {},
   "outputs": [],
   "source": [
    "result_df_income['significant'] = (result_df_income['coeff'].abs() - result_df_income['SE_coeff'] * 1.96) >= 0"
   ]
  },
  {
   "cell_type": "code",
   "execution_count": 25,
   "id": "f79c9311-44ac-4d96-be15-51c7672dc28d",
   "metadata": {},
   "outputs": [],
   "source": [
    "result_df_income_insignificant = result_df_income[result_df_income['significant'] == False]"
   ]
  },
  {
   "cell_type": "code",
   "execution_count": 26,
   "id": "e1ef2cdd-395f-4db0-b54f-cc0dbd3aac48",
   "metadata": {},
   "outputs": [
    {
     "data": {
      "text/html": [
       "<div>\n",
       "<style scoped>\n",
       "    .dataframe tbody tr th:only-of-type {\n",
       "        vertical-align: middle;\n",
       "    }\n",
       "\n",
       "    .dataframe tbody tr th {\n",
       "        vertical-align: top;\n",
       "    }\n",
       "\n",
       "    .dataframe thead th {\n",
       "        text-align: right;\n",
       "    }\n",
       "</style>\n",
       "<table border=\"1\" class=\"dataframe\">\n",
       "  <thead>\n",
       "    <tr style=\"text-align: right;\">\n",
       "      <th></th>\n",
       "      <th>lat</th>\n",
       "      <th>lon</th>\n",
       "      <th>coeff</th>\n",
       "      <th>intercept</th>\n",
       "      <th>r2</th>\n",
       "      <th>SE_coeff</th>\n",
       "      <th>significant</th>\n",
       "    </tr>\n",
       "  </thead>\n",
       "  <tbody>\n",
       "  </tbody>\n",
       "</table>\n",
       "</div>"
      ],
      "text/plain": [
       "Empty DataFrame\n",
       "Columns: [lat, lon, coeff, intercept, r2, SE_coeff, significant]\n",
       "Index: []"
      ]
     },
     "execution_count": 26,
     "metadata": {},
     "output_type": "execute_result"
    }
   ],
   "source": [
    "result_df_income_insignificant[result_df_income_insignificant['r2'] > 0.5]"
   ]
  },
  {
   "cell_type": "code",
   "execution_count": 27,
   "id": "26ab71c5-39a9-4ab9-8a6d-77e8e7af8c9b",
   "metadata": {},
   "outputs": [
    {
     "data": {
      "text/plain": [
       "(1509, 7)"
      ]
     },
     "execution_count": 27,
     "metadata": {},
     "output_type": "execute_result"
    }
   ],
   "source": [
    "result_df_income_insignificant.shape"
   ]
  },
  {
   "cell_type": "code",
   "execution_count": 28,
   "id": "258b9a3c-0fca-42b1-85e0-40716d336e7c",
   "metadata": {},
   "outputs": [],
   "source": [
    "result_df_income.loc[result_df_income['r2'] < 0.5, 'coeff'] = 0"
   ]
  },
  {
   "cell_type": "code",
   "execution_count": 29,
   "id": "bf07369d-5b0a-4a94-8c2f-89635b50babf",
   "metadata": {},
   "outputs": [],
   "source": [
    "result_df_income_loc = result_df_income.drop_duplicates()"
   ]
  },
  {
   "cell_type": "code",
   "execution_count": 30,
   "id": "8452bbb6-bf24-4476-8edf-dd2afb561846",
   "metadata": {},
   "outputs": [],
   "source": [
    "result_df_income_loc = result_df_income_loc[['lat', 'lon', 'coeff', 'SE_coeff']]"
   ]
  },
  {
   "cell_type": "code",
   "execution_count": 31,
   "id": "b581efaf-1cd7-4f5b-a0ac-c0f0d729b05d",
   "metadata": {},
   "outputs": [],
   "source": [
    "result_df_income_loc.columns = ['lat', 'lon', 'coeff_income', 'SE_coeff_income']"
   ]
  },
  {
   "cell_type": "code",
   "execution_count": null,
   "id": "c22b712d-2672-4849-970d-a551e9df21b6",
   "metadata": {},
   "outputs": [],
   "source": []
  },
  {
   "cell_type": "markdown",
   "id": "ea7c6434-9cc4-4bb2-a0d7-32563d195884",
   "metadata": {},
   "source": [
    "## Test Significance"
   ]
  },
  {
   "cell_type": "code",
   "execution_count": 136,
   "id": "50d38109-792b-4767-8edd-919f07acdde7",
   "metadata": {},
   "outputs": [],
   "source": [
    "merged_df = pd.merge(result_df_ndvi_loc, result_df_ntl_loc, on=['lat', 'lon'], how='left')\n",
    "result_df_loc_merge = pd.merge(merged_df, result_df_income_loc, on=['lat', 'lon'], how='left')"
   ]
  },
  {
   "cell_type": "code",
   "execution_count": 137,
   "id": "b1097e8f-8375-4854-91b6-0b87e459ef71",
   "metadata": {},
   "outputs": [
    {
     "data": {
      "text/plain": [
       "Index(['lat', 'lon', 'coeff_ndvi', 'SE_coeff_ndvi', 'coeff_ntl',\n",
       "       'SE_coeff_ntl', 'coeff_income', 'SE_coeff_income'],\n",
       "      dtype='object')"
      ]
     },
     "execution_count": 137,
     "metadata": {},
     "output_type": "execute_result"
    }
   ],
   "source": [
    "result_df_loc_merge.columns"
   ]
  },
  {
   "cell_type": "code",
   "execution_count": 138,
   "id": "76ed73b0-9722-4cdf-acea-d855f5bb9219",
   "metadata": {},
   "outputs": [],
   "source": [
    "result_df_loc_merge['MWPT_NDVI'] = result_df_loc_merge['coeff_ndvi'] / result_df_loc_merge['coeff_income'] / 120.96 * 1_000_000"
   ]
  },
  {
   "cell_type": "code",
   "execution_count": 139,
   "id": "b955bb9d-7690-41ab-a8c8-540dc50e7a44",
   "metadata": {},
   "outputs": [],
   "source": [
    "result_df_loc_merge['MWPT_NTL'] = result_df_loc_merge['coeff_ntl'] / result_df_loc_merge['coeff_income'] / 120.96 * 1_000_000"
   ]
  },
  {
   "cell_type": "code",
   "execution_count": 140,
   "id": "75735d12-4457-4f4d-8442-6fa27a1d57d8",
   "metadata": {},
   "outputs": [],
   "source": [
    "a = result_df_loc_merge['coeff_ndvi']\n",
    "SE_a = result_df_loc_merge['SE_coeff_ndvi']\n",
    "b = result_df_loc_merge['coeff_income']\n",
    "SE_b = result_df_loc_merge['SE_coeff_income']\n",
    "\n",
    "SE_ratio = np.sqrt((SE_a / b) ** 2 + ((a * SE_b) / (b ** 2)) ** 2)\n",
    "result_df_loc_merge['SE_MWPT_NDVI'] = SE_ratio / 120.96 * 1_000_000"
   ]
  },
  {
   "cell_type": "code",
   "execution_count": 141,
   "id": "b69504f3-7ea9-4899-bc83-856a90ce9c3e",
   "metadata": {},
   "outputs": [],
   "source": [
    "a = result_df_loc_merge['coeff_ntl']\n",
    "SE_a = result_df_loc_merge['SE_coeff_ntl']\n",
    "b = result_df_loc_merge['coeff_income']\n",
    "SE_b = result_df_loc_merge['SE_coeff_income']\n",
    "\n",
    "SE_ratio = np.sqrt((SE_a / b) ** 2 + ((a * SE_b) / (b ** 2)) ** 2)\n",
    "result_df_loc_merge['SE_MWPT_NTL'] = SE_ratio / 120.96 * 1_000_000"
   ]
  },
  {
   "cell_type": "code",
   "execution_count": 142,
   "id": "075e1077-156c-432e-9593-9dad0bc10151",
   "metadata": {},
   "outputs": [
    {
     "data": {
      "text/html": [
       "<div>\n",
       "<style scoped>\n",
       "    .dataframe tbody tr th:only-of-type {\n",
       "        vertical-align: middle;\n",
       "    }\n",
       "\n",
       "    .dataframe tbody tr th {\n",
       "        vertical-align: top;\n",
       "    }\n",
       "\n",
       "    .dataframe thead th {\n",
       "        text-align: right;\n",
       "    }\n",
       "</style>\n",
       "<table border=\"1\" class=\"dataframe\">\n",
       "  <thead>\n",
       "    <tr style=\"text-align: right;\">\n",
       "      <th></th>\n",
       "      <th>lat</th>\n",
       "      <th>lon</th>\n",
       "      <th>coeff_ndvi</th>\n",
       "      <th>SE_coeff_ndvi</th>\n",
       "      <th>coeff_ntl</th>\n",
       "      <th>SE_coeff_ntl</th>\n",
       "      <th>coeff_income</th>\n",
       "      <th>SE_coeff_income</th>\n",
       "      <th>MWPT_NDVI</th>\n",
       "      <th>MWPT_NTL</th>\n",
       "      <th>SE_MWPT_NDVI</th>\n",
       "      <th>SE_MWPT_NTL</th>\n",
       "    </tr>\n",
       "  </thead>\n",
       "  <tbody>\n",
       "    <tr>\n",
       "      <th>0</th>\n",
       "      <td>35.918037</td>\n",
       "      <td>140.013626</td>\n",
       "      <td>0.000442</td>\n",
       "      <td>0.000041</td>\n",
       "      <td>-0.000966</td>\n",
       "      <td>0.000088</td>\n",
       "      <td>0.014089</td>\n",
       "      <td>0.000798</td>\n",
       "      <td>259.613095</td>\n",
       "      <td>-566.782616</td>\n",
       "      <td>28.115374</td>\n",
       "      <td>60.570143</td>\n",
       "    </tr>\n",
       "    <tr>\n",
       "      <th>1</th>\n",
       "      <td>35.604172</td>\n",
       "      <td>139.486008</td>\n",
       "      <td>-0.001507</td>\n",
       "      <td>0.000039</td>\n",
       "      <td>-0.002057</td>\n",
       "      <td>0.000062</td>\n",
       "      <td>0.011234</td>\n",
       "      <td>0.000785</td>\n",
       "      <td>-1108.874512</td>\n",
       "      <td>-1514.090265</td>\n",
       "      <td>82.668987</td>\n",
       "      <td>115.270416</td>\n",
       "    </tr>\n",
       "    <tr>\n",
       "      <th>2</th>\n",
       "      <td>35.170216</td>\n",
       "      <td>138.682770</td>\n",
       "      <td>0.000000</td>\n",
       "      <td>0.000338</td>\n",
       "      <td>0.001349</td>\n",
       "      <td>0.000132</td>\n",
       "      <td>0.009883</td>\n",
       "      <td>0.000932</td>\n",
       "      <td>0.000000</td>\n",
       "      <td>1128.577357</td>\n",
       "      <td>282.565358</td>\n",
       "      <td>153.438040</td>\n",
       "    </tr>\n",
       "    <tr>\n",
       "      <th>3</th>\n",
       "      <td>35.170216</td>\n",
       "      <td>138.682770</td>\n",
       "      <td>0.000000</td>\n",
       "      <td>0.000338</td>\n",
       "      <td>0.001349</td>\n",
       "      <td>0.000132</td>\n",
       "      <td>0.007677</td>\n",
       "      <td>0.001054</td>\n",
       "      <td>0.000000</td>\n",
       "      <td>1452.891240</td>\n",
       "      <td>363.764815</td>\n",
       "      <td>244.921765</td>\n",
       "    </tr>\n",
       "    <tr>\n",
       "      <th>4</th>\n",
       "      <td>35.170216</td>\n",
       "      <td>138.682770</td>\n",
       "      <td>0.000000</td>\n",
       "      <td>0.000338</td>\n",
       "      <td>-0.000472</td>\n",
       "      <td>0.000054</td>\n",
       "      <td>0.009883</td>\n",
       "      <td>0.000932</td>\n",
       "      <td>0.000000</td>\n",
       "      <td>-394.530313</td>\n",
       "      <td>282.565358</td>\n",
       "      <td>58.731712</td>\n",
       "    </tr>\n",
       "  </tbody>\n",
       "</table>\n",
       "</div>"
      ],
      "text/plain": [
       "         lat         lon  coeff_ndvi  SE_coeff_ndvi  coeff_ntl  SE_coeff_ntl  \\\n",
       "0  35.918037  140.013626    0.000442       0.000041  -0.000966      0.000088   \n",
       "1  35.604172  139.486008   -0.001507       0.000039  -0.002057      0.000062   \n",
       "2  35.170216  138.682770    0.000000       0.000338   0.001349      0.000132   \n",
       "3  35.170216  138.682770    0.000000       0.000338   0.001349      0.000132   \n",
       "4  35.170216  138.682770    0.000000       0.000338  -0.000472      0.000054   \n",
       "\n",
       "   coeff_income  SE_coeff_income    MWPT_NDVI     MWPT_NTL  SE_MWPT_NDVI  \\\n",
       "0      0.014089         0.000798   259.613095  -566.782616     28.115374   \n",
       "1      0.011234         0.000785 -1108.874512 -1514.090265     82.668987   \n",
       "2      0.009883         0.000932     0.000000  1128.577357    282.565358   \n",
       "3      0.007677         0.001054     0.000000  1452.891240    363.764815   \n",
       "4      0.009883         0.000932     0.000000  -394.530313    282.565358   \n",
       "\n",
       "   SE_MWPT_NTL  \n",
       "0    60.570143  \n",
       "1   115.270416  \n",
       "2   153.438040  \n",
       "3   244.921765  \n",
       "4    58.731712  "
      ]
     },
     "execution_count": 142,
     "metadata": {},
     "output_type": "execute_result"
    }
   ],
   "source": [
    "result_df_loc_merge.head()"
   ]
  },
  {
   "cell_type": "code",
   "execution_count": 143,
   "id": "c2a0e761-ae38-4b73-ac5d-639911eee76a",
   "metadata": {},
   "outputs": [],
   "source": [
    "mask = result_df_loc_merge['MWPT_NDVI'].abs() - result_df_loc_merge['SE_MWPT_NDVI'] * 1.96 < 0\n",
    "result_df_loc_merge.loc[mask, 'MWPT_NDVI'] = 0"
   ]
  },
  {
   "cell_type": "code",
   "execution_count": 144,
   "id": "edcf6197-486b-4a7f-bf8b-cf27a96cf78a",
   "metadata": {},
   "outputs": [],
   "source": [
    "mask = result_df_loc_merge['MWPT_NTL'].abs() - result_df_loc_merge['SE_MWPT_NTL'] * 1.96 < 0\n",
    "result_df_loc_merge.loc[mask, 'MWPT_NTL'] = 0"
   ]
  },
  {
   "cell_type": "code",
   "execution_count": 145,
   "id": "ff6e2a0d-ef7e-46ec-abf9-3dc0fbfa51e7",
   "metadata": {},
   "outputs": [],
   "source": [
    "result_df_loc_merge = result_df_loc_merge.groupby(['lat', 'lon']).mean()"
   ]
  },
  {
   "cell_type": "code",
   "execution_count": 146,
   "id": "9d1dbe01-941e-4f98-b808-63a12e07112f",
   "metadata": {},
   "outputs": [],
   "source": [
    "result_df_loc_merge = result_df_loc_merge.reset_index()"
   ]
  },
  {
   "cell_type": "code",
   "execution_count": 147,
   "id": "0bfc3b31-7860-4c32-aa4a-a61134005cf6",
   "metadata": {},
   "outputs": [],
   "source": [
    "result_df_loc_merge = result_df_loc_merge.replace([np.inf, -np.inf], 0)\n",
    "result_df_loc_merge = result_df_loc_merge.fillna(0)"
   ]
  },
  {
   "cell_type": "code",
   "execution_count": 148,
   "id": "95e193a9-80bd-4de0-8f91-d7198b24329e",
   "metadata": {},
   "outputs": [
    {
     "data": {
      "text/plain": [
       "(50852, 12)"
      ]
     },
     "execution_count": 148,
     "metadata": {},
     "output_type": "execute_result"
    }
   ],
   "source": [
    "result_df_loc_merge.shape"
   ]
  },
  {
   "cell_type": "code",
   "execution_count": 149,
   "id": "643cded2-0cf6-43ce-8887-08f53a640d22",
   "metadata": {},
   "outputs": [
    {
     "data": {
      "text/plain": [
       "Index(['lat', 'lon', 'coeff_ndvi', 'SE_coeff_ndvi', 'coeff_ntl',\n",
       "       'SE_coeff_ntl', 'coeff_income', 'SE_coeff_income', 'MWPT_NDVI',\n",
       "       'MWPT_NTL', 'SE_MWPT_NDVI', 'SE_MWPT_NTL'],\n",
       "      dtype='object')"
      ]
     },
     "execution_count": 149,
     "metadata": {},
     "output_type": "execute_result"
    }
   ],
   "source": [
    "result_df_loc_merge.columns"
   ]
  },
  {
   "cell_type": "code",
   "execution_count": 158,
   "id": "d11ed09e-2f48-415e-9a5f-103c29a5f716",
   "metadata": {},
   "outputs": [],
   "source": [
    "lines = []\n",
    "for name in ['coeff_ndvi', 'coeff_ntl', 'coeff_income', 'MWPT_NDVI', 'MWPT_NTL']:\n",
    "    \n",
    "    line = [np.mean(result_df_loc_merge[name]), np.std(result_df_loc_merge[name]), \n",
    "            np.quantile(result_df_loc_merge[name], .005),\n",
    "            np.quantile(result_df_loc_merge[name], .025), np.quantile(result_df_loc_merge[name], .05),\n",
    "            np.quantile(result_df_loc_merge[name], .25), np.quantile(result_df_loc_merge[name], .50), \n",
    "            np.quantile(result_df_loc_merge[name], .75), np.quantile(result_df_loc_merge[name], .95),\n",
    "            np.quantile(result_df_loc_merge[name], .975), np.quantile(result_df_loc_merge[name], .995)]\n",
    "    lines.append(line)"
   ]
  },
  {
   "cell_type": "code",
   "execution_count": 159,
   "id": "7abbe48d-069f-4ab4-990e-e0587ffd8338",
   "metadata": {},
   "outputs": [],
   "source": [
    "data_summary = pd.DataFrame(lines)"
   ]
  },
  {
   "cell_type": "code",
   "execution_count": 160,
   "id": "01fb6755-334d-4d0b-a8eb-0d3ca49ece06",
   "metadata": {},
   "outputs": [],
   "source": [
    "data_summary.columns = ['Mean', \"Std\", \"0.5% Quantile\", \"2.5% Quantile\", \"5% Quantile\",\n",
    "                        \"25% Quantile\", \"50% Quantile\",\n",
    "                        \"75% Quantile\", \"95% Quantile\", \"97.5% Quantile\", \"99.5% Quantile\"]"
   ]
  },
  {
   "cell_type": "code",
   "execution_count": 161,
   "id": "c1ad1a54-39d2-48c3-aaed-93f24bbbb92e",
   "metadata": {},
   "outputs": [],
   "source": [
    "data_summary.index = ['Local Marginal Effect Coefficient of NDVI', 'Local Marginal Effect Coefficient NTL', 'Local Marginal Effect  Coefficient Income', 'MWTP of NDVI', 'MWTP of NTL']"
   ]
  },
  {
   "cell_type": "code",
   "execution_count": 162,
   "id": "7871bd1b-b8cf-4d1d-9292-0e232aafe29a",
   "metadata": {},
   "outputs": [
    {
     "data": {
      "text/html": [
       "<div>\n",
       "<style scoped>\n",
       "    .dataframe tbody tr th:only-of-type {\n",
       "        vertical-align: middle;\n",
       "    }\n",
       "\n",
       "    .dataframe tbody tr th {\n",
       "        vertical-align: top;\n",
       "    }\n",
       "\n",
       "    .dataframe thead th {\n",
       "        text-align: right;\n",
       "    }\n",
       "</style>\n",
       "<table border=\"1\" class=\"dataframe\">\n",
       "  <thead>\n",
       "    <tr style=\"text-align: right;\">\n",
       "      <th></th>\n",
       "      <th>Local Marginal Effect Coefficient of NDVI</th>\n",
       "      <th>Local Marginal Effect Coefficient NTL</th>\n",
       "      <th>Local Marginal Effect  Coefficient Income</th>\n",
       "      <th>MWTP of NDVI</th>\n",
       "      <th>MWTP of NTL</th>\n",
       "    </tr>\n",
       "  </thead>\n",
       "  <tbody>\n",
       "    <tr>\n",
       "      <th>Mean</th>\n",
       "      <td>0.000364</td>\n",
       "      <td>-0.002037</td>\n",
       "      <td>0.014759</td>\n",
       "      <td>379.011353</td>\n",
       "      <td>-1434.594657</td>\n",
       "    </tr>\n",
       "    <tr>\n",
       "      <th>Std</th>\n",
       "      <td>0.002655</td>\n",
       "      <td>0.006115</td>\n",
       "      <td>0.011206</td>\n",
       "      <td>74911.062168</td>\n",
       "      <td>81961.405757</td>\n",
       "    </tr>\n",
       "    <tr>\n",
       "      <th>0.5% Quantile</th>\n",
       "      <td>-0.009340</td>\n",
       "      <td>-0.034131</td>\n",
       "      <td>-0.006948</td>\n",
       "      <td>-20557.831938</td>\n",
       "      <td>-42463.994702</td>\n",
       "    </tr>\n",
       "    <tr>\n",
       "      <th>2.5% Quantile</th>\n",
       "      <td>-0.004348</td>\n",
       "      <td>-0.014922</td>\n",
       "      <td>-0.001145</td>\n",
       "      <td>-4134.717079</td>\n",
       "      <td>-10573.796801</td>\n",
       "    </tr>\n",
       "    <tr>\n",
       "      <th>5% Quantile</th>\n",
       "      <td>-0.002765</td>\n",
       "      <td>-0.009245</td>\n",
       "      <td>0.000000</td>\n",
       "      <td>-2093.321274</td>\n",
       "      <td>-5896.045602</td>\n",
       "    </tr>\n",
       "    <tr>\n",
       "      <th>25% Quantile</th>\n",
       "      <td>0.000000</td>\n",
       "      <td>-0.002577</td>\n",
       "      <td>0.008527</td>\n",
       "      <td>0.000000</td>\n",
       "      <td>-1520.401818</td>\n",
       "    </tr>\n",
       "    <tr>\n",
       "      <th>50% Quantile</th>\n",
       "      <td>0.000000</td>\n",
       "      <td>-0.001347</td>\n",
       "      <td>0.013553</td>\n",
       "      <td>0.000000</td>\n",
       "      <td>-722.301526</td>\n",
       "    </tr>\n",
       "    <tr>\n",
       "      <th>75% Quantile</th>\n",
       "      <td>0.001134</td>\n",
       "      <td>0.000000</td>\n",
       "      <td>0.018700</td>\n",
       "      <td>611.124960</td>\n",
       "      <td>0.000000</td>\n",
       "    </tr>\n",
       "    <tr>\n",
       "      <th>95% Quantile</th>\n",
       "      <td>0.003586</td>\n",
       "      <td>0.002205</td>\n",
       "      <td>0.033662</td>\n",
       "      <td>2631.249265</td>\n",
       "      <td>1575.817577</td>\n",
       "    </tr>\n",
       "    <tr>\n",
       "      <th>97.5% Quantile</th>\n",
       "      <td>0.005214</td>\n",
       "      <td>0.005587</td>\n",
       "      <td>0.042993</td>\n",
       "      <td>4631.269289</td>\n",
       "      <td>5309.841772</td>\n",
       "    </tr>\n",
       "    <tr>\n",
       "      <th>99.5% Quantile</th>\n",
       "      <td>0.010961</td>\n",
       "      <td>0.018962</td>\n",
       "      <td>0.066150</td>\n",
       "      <td>18458.571230</td>\n",
       "      <td>40590.414596</td>\n",
       "    </tr>\n",
       "  </tbody>\n",
       "</table>\n",
       "</div>"
      ],
      "text/plain": [
       "                Local Marginal Effect Coefficient of NDVI  \\\n",
       "Mean                                             0.000364   \n",
       "Std                                              0.002655   \n",
       "0.5% Quantile                                   -0.009340   \n",
       "2.5% Quantile                                   -0.004348   \n",
       "5% Quantile                                     -0.002765   \n",
       "25% Quantile                                     0.000000   \n",
       "50% Quantile                                     0.000000   \n",
       "75% Quantile                                     0.001134   \n",
       "95% Quantile                                     0.003586   \n",
       "97.5% Quantile                                   0.005214   \n",
       "99.5% Quantile                                   0.010961   \n",
       "\n",
       "                Local Marginal Effect Coefficient NTL  \\\n",
       "Mean                                        -0.002037   \n",
       "Std                                          0.006115   \n",
       "0.5% Quantile                               -0.034131   \n",
       "2.5% Quantile                               -0.014922   \n",
       "5% Quantile                                 -0.009245   \n",
       "25% Quantile                                -0.002577   \n",
       "50% Quantile                                -0.001347   \n",
       "75% Quantile                                 0.000000   \n",
       "95% Quantile                                 0.002205   \n",
       "97.5% Quantile                               0.005587   \n",
       "99.5% Quantile                               0.018962   \n",
       "\n",
       "                Local Marginal Effect  Coefficient Income  MWTP of NDVI  \\\n",
       "Mean                                             0.014759    379.011353   \n",
       "Std                                              0.011206  74911.062168   \n",
       "0.5% Quantile                                   -0.006948 -20557.831938   \n",
       "2.5% Quantile                                   -0.001145  -4134.717079   \n",
       "5% Quantile                                      0.000000  -2093.321274   \n",
       "25% Quantile                                     0.008527      0.000000   \n",
       "50% Quantile                                     0.013553      0.000000   \n",
       "75% Quantile                                     0.018700    611.124960   \n",
       "95% Quantile                                     0.033662   2631.249265   \n",
       "97.5% Quantile                                   0.042993   4631.269289   \n",
       "99.5% Quantile                                   0.066150  18458.571230   \n",
       "\n",
       "                 MWTP of NTL  \n",
       "Mean            -1434.594657  \n",
       "Std             81961.405757  \n",
       "0.5% Quantile  -42463.994702  \n",
       "2.5% Quantile  -10573.796801  \n",
       "5% Quantile     -5896.045602  \n",
       "25% Quantile    -1520.401818  \n",
       "50% Quantile     -722.301526  \n",
       "75% Quantile        0.000000  \n",
       "95% Quantile     1575.817577  \n",
       "97.5% Quantile   5309.841772  \n",
       "99.5% Quantile  40590.414596  "
      ]
     },
     "execution_count": 162,
     "metadata": {},
     "output_type": "execute_result"
    }
   ],
   "source": [
    "data_summary.T"
   ]
  },
  {
   "cell_type": "code",
   "execution_count": 163,
   "id": "c213d870-3f5b-4ae4-a82b-a5fb77c951a8",
   "metadata": {},
   "outputs": [],
   "source": [
    "data_summary.T.to_excel('13_Results/Table02_summaryTable_v2.xlsx')"
   ]
  },
  {
   "cell_type": "code",
   "execution_count": 164,
   "id": "a1f3a015-69d8-4a6d-b507-cb73444cfc12",
   "metadata": {},
   "outputs": [
    {
     "data": {
      "text/plain": [
       "Index(['lat', 'lon', 'coeff_ndvi', 'SE_coeff_ndvi', 'coeff_ntl',\n",
       "       'SE_coeff_ntl', 'coeff_income', 'SE_coeff_income', 'MWPT_NDVI',\n",
       "       'MWPT_NTL', 'SE_MWPT_NDVI', 'SE_MWPT_NTL', 'NDVI_T_value_abs',\n",
       "       'NTL_T_value_abs'],\n",
       "      dtype='object')"
      ]
     },
     "execution_count": 164,
     "metadata": {},
     "output_type": "execute_result"
    }
   ],
   "source": [
    "result_df_loc_merge.columns"
   ]
  },
  {
   "cell_type": "code",
   "execution_count": 166,
   "id": "7d667878-53e7-4cfb-8277-ef806205edec",
   "metadata": {},
   "outputs": [
    {
     "data": {
      "image/png": "[encoded data removed]",
      "text/plain": [
       "<Figure size 1500x1000 with 5 Axes>"
      ]
     },
     "metadata": {},
     "output_type": "display_data"
    }
   ],
   "source": [
    "columns_to_plot = ['coeff_ndvi', 'coeff_ntl', 'coeff_income', 'MWPT_NDVI', 'MWPT_NTL']\n",
    "xnames = ['Local Marginal Effect Coefficient of NDVI', \n",
    "          'Local Marginal Effect Coefficient NTL', \n",
    "          'Local Marginal Effect  Coefficient Income', \n",
    "          'MWTP of NDVI', \n",
    "          'MWTP of NTL']\n",
    "vmaxs = [0.01, 0.035, 0.07, 20_000, 40_000]\n",
    "labels = ['a', 'b', 'c', 'd', 'e']  # subplot labels\n",
    "means = [0.000364, -0.002037, 0.014759, 379.011353, -1434.594657]\n",
    "label_means = [0.0004, -0.0020, 0.0148, 379.01, -1434.59]\n",
    "\n",
    "# Set up the figure\n",
    "plt.figure(figsize=(15, 10))\n",
    "\n",
    "# Loop through each column and plot\n",
    "for i, col in enumerate(columns_to_plot, 1):\n",
    "    if i <= 5:\n",
    "        plt.subplot(2, 3, i)\n",
    "        data = result_df_loc_merge[col].dropna()\n",
    "        hist_range = (-vmaxs[i - 1], vmaxs[i - 1])\n",
    "        counts, bins = np.histogram(data, bins=51, range=hist_range)\n",
    "        counts_percent = 100 * counts / counts.sum()\n",
    "        plt.bar(bins[:-1], counts_percent, width=np.diff(bins), edgecolor='black', align='edge')\n",
    "        plt.xlabel(xnames[i - 1])\n",
    "        plt.ylabel('Percentage')\n",
    "        plt.xticks(rotation=45)\n",
    "        plt.grid(True)\n",
    "\n",
    "        plt.axvline(x=means[i-1], color='red', linestyle='--', linewidth=1.5)\n",
    "\n",
    "        # Add annotation in top-left corner of the subplot\n",
    "        plt.text(0.04, 0.95, f'{labels[i - 1]}', transform=plt.gca().transAxes,\n",
    "                 fontsize=16, fontweight='bold', va='top', ha='left')\n",
    "                # Add annotation in top-left corner of the subplot\n",
    "        plt.text(0.04, 0.90, f'Mean = {label_means[i - 1]}', transform=plt.gca().transAxes,\n",
    "                 fontsize=12, va='top', ha='left')\n",
    "    else:\n",
    "        plt.axis(\"off\")\n",
    "\n",
    "plt.tight_layout()\n",
    "plt.savefig(\"11_Figure/histograms_with_means.jpg\", dpi=300, bbox_inches='tight')\n",
    "plt.show()"
   ]
  },
  {
   "cell_type": "code",
   "execution_count": null,
   "id": "5c83cf11-1969-40c6-9193-d672233e27bc",
   "metadata": {},
   "outputs": [],
   "source": []
  },
  {
   "cell_type": "code",
   "execution_count": null,
   "id": "ddc0aa53-0f51-429e-8853-4c635ea25f73",
   "metadata": {},
   "outputs": [],
   "source": []
  },
  {
   "cell_type": "code",
   "execution_count": null,
   "id": "390485f1-273e-448a-9adb-0b6ee38a8fe1",
   "metadata": {},
   "outputs": [],
   "source": []
  }
 ],
 "metadata": {
  "kernelspec": {
   "display_name": "Python 3 (ipykernel)",
   "language": "python",
   "name": "python3"
  },
  "language_info": {
   "codemirror_mode": {
    "name": "ipython",
    "version": 3
   },
   "file_extension": ".py",
   "mimetype": "text/x-python",
   "name": "python",
   "nbconvert_exporter": "python",
   "pygments_lexer": "ipython3",
   "version": "3.9.19"
  }
 },
 "nbformat": 4,
 "nbformat_minor": 5
}
