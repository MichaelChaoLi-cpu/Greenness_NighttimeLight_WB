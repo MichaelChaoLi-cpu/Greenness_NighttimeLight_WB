{
 "cells": [
  {
   "cell_type": "markdown",
   "id": "0e3fcd36-4c3d-49d7-84c6-f14b591835bb",
   "metadata": {},
   "source": [
    "# Replace LEC and MWTP's CI with Statistical"
   ]
  },
  {
   "cell_type": "code",
   "execution_count": 1,
   "id": "f5d19759-3a8a-40c4-85c7-a084d56664d9",
   "metadata": {},
   "outputs": [
    {
     "data": {
      "text/plain": [
       "'/home/pj24001881/share/DP15_Article/12_PyCode'"
      ]
     },
     "execution_count": 1,
     "metadata": {},
     "output_type": "execute_result"
    }
   ],
   "source": [
    "%pwd"
   ]
  },
  {
   "cell_type": "code",
   "execution_count": 2,
   "id": "5a75d598-a83a-4ef5-851f-f7a8f2e90e22",
   "metadata": {},
   "outputs": [
    {
     "name": "stdout",
     "output_type": "stream",
     "text": [
      "/home/pj24001881/share/DP15_Article\n"
     ]
    },
    {
     "name": "stderr",
     "output_type": "stream",
     "text": [
      "/home/pj24001881/ku40001335/miniconda3/envs/tf/lib/python3.9/site-packages/IPython/core/magics/osm.py:417: UserWarning: using dhist requires you to install the `pickleshare` library.\n",
      "  self.shell.db['dhist'] = compress_dhist(dhist)[-100:]\n"
     ]
    }
   ],
   "source": [
    "%cd .."
   ]
  },
  {
   "cell_type": "code",
   "execution_count": null,
   "id": "1ae37d9c-e576-4bb0-8e2f-58cb5917e996",
   "metadata": {},
   "outputs": [],
   "source": []
  },
  {
   "cell_type": "markdown",
   "id": "2e392ae1-f3af-4944-9432-46f16c2c3775",
   "metadata": {},
   "source": [
    "## Import Package"
   ]
  },
  {
   "cell_type": "code",
   "execution_count": 3,
   "id": "d08314e5-b8b6-412d-8907-2211e6ade6ec",
   "metadata": {},
   "outputs": [],
   "source": [
    "import numpy as np\n",
    "import pandas as pd"
   ]
  },
  {
   "cell_type": "code",
   "execution_count": null,
   "id": "e50eef3b-f1ee-4bed-a3de-832a087e7fb3",
   "metadata": {},
   "outputs": [],
   "source": []
  },
  {
   "cell_type": "markdown",
   "id": "bc00fbc7-df38-4c31-abfb-c01ce3b8efba",
   "metadata": {},
   "source": [
    "## load data"
   ]
  },
  {
   "cell_type": "code",
   "execution_count": 24,
   "id": "087d65ab-3993-421f-b971-8972887b89b3",
   "metadata": {},
   "outputs": [],
   "source": [
    "result_df_ndvi = pd.read_excel('13_Results/PdpConnectionCoef/PdpConnection_NDVI_v2.xlsx', index_col = 0)"
   ]
  },
  {
   "cell_type": "code",
   "execution_count": 25,
   "id": "b81c0fb7-4a75-4975-9c51-ec59f4b254ac",
   "metadata": {},
   "outputs": [],
   "source": [
    "result_df_ndvi['significant'] = (result_df_ndvi['coeff'].abs() - result_df_ndvi['SE_coeff'] * 1.96) >= 0"
   ]
  },
  {
   "cell_type": "code",
   "execution_count": 26,
   "id": "1724a3b9-09b4-4969-8ad1-091c465e28a9",
   "metadata": {},
   "outputs": [],
   "source": [
    "result_df_ndvi_insignificant = result_df_ndvi[result_df_ndvi['significant'] == False]"
   ]
  },
  {
   "cell_type": "code",
   "execution_count": 27,
   "id": "7469461e-530d-45ef-a08a-aadd0069c4e2",
   "metadata": {},
   "outputs": [
    {
     "data": {
      "text/html": [
       "<div>\n",
       "<style scoped>\n",
       "    .dataframe tbody tr th:only-of-type {\n",
       "        vertical-align: middle;\n",
       "    }\n",
       "\n",
       "    .dataframe tbody tr th {\n",
       "        vertical-align: top;\n",
       "    }\n",
       "\n",
       "    .dataframe thead th {\n",
       "        text-align: right;\n",
       "    }\n",
       "</style>\n",
       "<table border=\"1\" class=\"dataframe\">\n",
       "  <thead>\n",
       "    <tr style=\"text-align: right;\">\n",
       "      <th></th>\n",
       "      <th>lat</th>\n",
       "      <th>lon</th>\n",
       "      <th>coeff</th>\n",
       "      <th>intercept</th>\n",
       "      <th>r2</th>\n",
       "      <th>SE_coeff</th>\n",
       "      <th>significant</th>\n",
       "    </tr>\n",
       "  </thead>\n",
       "  <tbody>\n",
       "  </tbody>\n",
       "</table>\n",
       "</div>"
      ],
      "text/plain": [
       "Empty DataFrame\n",
       "Columns: [lat, lon, coeff, intercept, r2, SE_coeff, significant]\n",
       "Index: []"
      ]
     },
     "execution_count": 27,
     "metadata": {},
     "output_type": "execute_result"
    }
   ],
   "source": [
    "result_df_ndvi_insignificant[result_df_ndvi_insignificant['r2'] > 0.5]"
   ]
  },
  {
   "cell_type": "code",
   "execution_count": 28,
   "id": "65c84d8c-4652-42a1-9ac5-960bd6327eae",
   "metadata": {},
   "outputs": [
    {
     "data": {
      "text/plain": [
       "(36673, 7)"
      ]
     },
     "execution_count": 28,
     "metadata": {},
     "output_type": "execute_result"
    }
   ],
   "source": [
    "result_df_ndvi_insignificant.shape"
   ]
  },
  {
   "cell_type": "code",
   "execution_count": 29,
   "id": "1a466d23-a837-4800-b796-84a2e60901ad",
   "metadata": {},
   "outputs": [
    {
     "data": {
      "text/html": [
       "<div>\n",
       "<style scoped>\n",
       "    .dataframe tbody tr th:only-of-type {\n",
       "        vertical-align: middle;\n",
       "    }\n",
       "\n",
       "    .dataframe tbody tr th {\n",
       "        vertical-align: top;\n",
       "    }\n",
       "\n",
       "    .dataframe thead th {\n",
       "        text-align: right;\n",
       "    }\n",
       "</style>\n",
       "<table border=\"1\" class=\"dataframe\">\n",
       "  <thead>\n",
       "    <tr style=\"text-align: right;\">\n",
       "      <th></th>\n",
       "      <th>lat</th>\n",
       "      <th>lon</th>\n",
       "      <th>coeff</th>\n",
       "      <th>intercept</th>\n",
       "      <th>r2</th>\n",
       "      <th>SE_coeff</th>\n",
       "      <th>significant</th>\n",
       "    </tr>\n",
       "  </thead>\n",
       "  <tbody>\n",
       "    <tr>\n",
       "      <th>0</th>\n",
       "      <td>35.918037</td>\n",
       "      <td>140.013626</td>\n",
       "      <td>0.000442</td>\n",
       "      <td>0.000004</td>\n",
       "      <td>0.750660</td>\n",
       "      <td>0.000041</td>\n",
       "      <td>True</td>\n",
       "    </tr>\n",
       "    <tr>\n",
       "      <th>1</th>\n",
       "      <td>35.604172</td>\n",
       "      <td>139.486008</td>\n",
       "      <td>-0.001507</td>\n",
       "      <td>0.000117</td>\n",
       "      <td>0.974180</td>\n",
       "      <td>0.000039</td>\n",
       "      <td>True</td>\n",
       "    </tr>\n",
       "    <tr>\n",
       "      <th>2</th>\n",
       "      <td>35.170216</td>\n",
       "      <td>138.682770</td>\n",
       "      <td>0.001823</td>\n",
       "      <td>-0.002013</td>\n",
       "      <td>0.427581</td>\n",
       "      <td>0.000338</td>\n",
       "      <td>True</td>\n",
       "    </tr>\n",
       "    <tr>\n",
       "      <th>3</th>\n",
       "      <td>34.741104</td>\n",
       "      <td>137.707062</td>\n",
       "      <td>0.002899</td>\n",
       "      <td>-0.000212</td>\n",
       "      <td>0.994833</td>\n",
       "      <td>0.000033</td>\n",
       "      <td>True</td>\n",
       "    </tr>\n",
       "    <tr>\n",
       "      <th>4</th>\n",
       "      <td>33.515968</td>\n",
       "      <td>130.407059</td>\n",
       "      <td>0.001064</td>\n",
       "      <td>0.000420</td>\n",
       "      <td>0.904825</td>\n",
       "      <td>0.000055</td>\n",
       "      <td>True</td>\n",
       "    </tr>\n",
       "  </tbody>\n",
       "</table>\n",
       "</div>"
      ],
      "text/plain": [
       "         lat         lon     coeff  intercept        r2  SE_coeff  significant\n",
       "0  35.918037  140.013626  0.000442   0.000004  0.750660  0.000041         True\n",
       "1  35.604172  139.486008 -0.001507   0.000117  0.974180  0.000039         True\n",
       "2  35.170216  138.682770  0.001823  -0.002013  0.427581  0.000338         True\n",
       "3  34.741104  137.707062  0.002899  -0.000212  0.994833  0.000033         True\n",
       "4  33.515968  130.407059  0.001064   0.000420  0.904825  0.000055         True"
      ]
     },
     "execution_count": 29,
     "metadata": {},
     "output_type": "execute_result"
    }
   ],
   "source": [
    "result_df_ndvi.head()"
   ]
  },
  {
   "cell_type": "code",
   "execution_count": 30,
   "id": "b0fda169-6952-4a2b-aa70-b732d3766a43",
   "metadata": {},
   "outputs": [],
   "source": [
    "result_df_ndvi.loc[result_df_ndvi['r2'] < 0.5, 'coeff'] = 0"
   ]
  },
  {
   "cell_type": "code",
   "execution_count": 31,
   "id": "73f48d35-a499-4d28-8c76-163f92846e0d",
   "metadata": {},
   "outputs": [],
   "source": [
    "result_df_ndvi_loc = result_df_ndvi.drop_duplicates()"
   ]
  },
  {
   "cell_type": "code",
   "execution_count": 32,
   "id": "aafa7531-26e8-4513-954a-1ebabb9f50f8",
   "metadata": {},
   "outputs": [],
   "source": [
    "result_df_ndvi_loc = result_df_ndvi_loc[['lat', 'lon', 'coeff', 'SE_coeff']]"
   ]
  },
  {
   "cell_type": "code",
   "execution_count": 33,
   "id": "22d89382-0ebf-4007-b5e1-fd7133de2a46",
   "metadata": {},
   "outputs": [],
   "source": [
    "result_df_ndvi_loc.columns = ['lat', 'lon', 'coeff_ndvi', 'SE_coeff_ndvi']"
   ]
  },
  {
   "cell_type": "code",
   "execution_count": 44,
   "id": "302b69af-63bb-49ac-a55d-93dc0cf57899",
   "metadata": {},
   "outputs": [],
   "source": [
    "result_df_ntl = pd.read_excel('13_Results/PdpConnectionCoef/PdpConnection_NTL_v2.xlsx', index_col = 0)"
   ]
  },
  {
   "cell_type": "code",
   "execution_count": 45,
   "id": "ba7df599-d16d-46b0-9ad7-6dd25a158f28",
   "metadata": {},
   "outputs": [],
   "source": [
    "result_df_ntl['significant'] = (result_df_ntl['coeff'].abs() - result_df_ntl['SE_coeff'] * 1.96) >= 0"
   ]
  },
  {
   "cell_type": "code",
   "execution_count": 46,
   "id": "7ee2b6d6-dbe1-4add-9f80-a078d6a746e9",
   "metadata": {},
   "outputs": [],
   "source": [
    "result_df_ntl_insignificant = result_df_ntl[result_df_ntl['significant'] == False]"
   ]
  },
  {
   "cell_type": "code",
   "execution_count": 47,
   "id": "a2d220b9-01fc-4999-a039-76644a9b1f33",
   "metadata": {},
   "outputs": [
    {
     "data": {
      "text/html": [
       "<div>\n",
       "<style scoped>\n",
       "    .dataframe tbody tr th:only-of-type {\n",
       "        vertical-align: middle;\n",
       "    }\n",
       "\n",
       "    .dataframe tbody tr th {\n",
       "        vertical-align: top;\n",
       "    }\n",
       "\n",
       "    .dataframe thead th {\n",
       "        text-align: right;\n",
       "    }\n",
       "</style>\n",
       "<table border=\"1\" class=\"dataframe\">\n",
       "  <thead>\n",
       "    <tr style=\"text-align: right;\">\n",
       "      <th></th>\n",
       "      <th>lat</th>\n",
       "      <th>lon</th>\n",
       "      <th>coeff</th>\n",
       "      <th>intercept</th>\n",
       "      <th>r2</th>\n",
       "      <th>SE_coeff</th>\n",
       "      <th>significant</th>\n",
       "    </tr>\n",
       "  </thead>\n",
       "  <tbody>\n",
       "  </tbody>\n",
       "</table>\n",
       "</div>"
      ],
      "text/plain": [
       "Empty DataFrame\n",
       "Columns: [lat, lon, coeff, intercept, r2, SE_coeff, significant]\n",
       "Index: []"
      ]
     },
     "execution_count": 47,
     "metadata": {},
     "output_type": "execute_result"
    }
   ],
   "source": [
    "result_df_ntl_insignificant[result_df_ntl_insignificant['r2'] > 0.5]"
   ]
  },
  {
   "cell_type": "code",
   "execution_count": 48,
   "id": "6b84fca5-f8e1-4518-960d-f06bfd835d65",
   "metadata": {},
   "outputs": [
    {
     "data": {
      "text/plain": [
       "(15279, 7)"
      ]
     },
     "execution_count": 48,
     "metadata": {},
     "output_type": "execute_result"
    }
   ],
   "source": [
    "result_df_ntl_insignificant.shape"
   ]
  },
  {
   "cell_type": "code",
   "execution_count": 49,
   "id": "2801374f-a995-4d3a-8515-6c4ec878bc64",
   "metadata": {},
   "outputs": [],
   "source": [
    "result_df_ntl.loc[result_df_ntl['r2'] < 0.5, 'coeff'] = 0"
   ]
  },
  {
   "cell_type": "code",
   "execution_count": 50,
   "id": "c7cae636-a393-435f-bd00-b1ad17404d4d",
   "metadata": {},
   "outputs": [],
   "source": [
    "result_df_ntl_loc = result_df_ntl.drop_duplicates()"
   ]
  },
  {
   "cell_type": "code",
   "execution_count": 51,
   "id": "7a373753-ab17-40a4-a292-5ce3d6b569ff",
   "metadata": {},
   "outputs": [],
   "source": [
    "result_df_ntl_loc = result_df_ntl_loc[['lat', 'lon', 'coeff', 'SE_coeff']]"
   ]
  },
  {
   "cell_type": "code",
   "execution_count": 52,
   "id": "a65f593c-744e-4ab3-bd7e-4a8badcf9a55",
   "metadata": {},
   "outputs": [],
   "source": [
    "result_df_ntl_loc.columns = ['lat', 'lon', 'coeff_ntl', 'SE_coeff_ntl']"
   ]
  },
  {
   "cell_type": "code",
   "execution_count": 54,
   "id": "8d2c72ae-b52f-4eee-87f3-8afb0cfcd98d",
   "metadata": {},
   "outputs": [],
   "source": [
    "result_df_income = pd.read_excel('13_Results/PdpConnectionCoef/PdpConnection_income_indiv_v2.xlsx', index_col = 0)"
   ]
  },
  {
   "cell_type": "code",
   "execution_count": 55,
   "id": "a25a4bd8-e3aa-4431-874c-5a7b73cea654",
   "metadata": {},
   "outputs": [],
   "source": [
    "result_df_income['significant'] = (result_df_income['coeff'].abs() - result_df_income['SE_coeff'] * 1.96) >= 0"
   ]
  },
  {
   "cell_type": "code",
   "execution_count": 56,
   "id": "f79c9311-44ac-4d96-be15-51c7672dc28d",
   "metadata": {},
   "outputs": [],
   "source": [
    "result_df_income_insignificant = result_df_income[result_df_income['significant'] == False]"
   ]
  },
  {
   "cell_type": "code",
   "execution_count": 57,
   "id": "e1ef2cdd-395f-4db0-b54f-cc0dbd3aac48",
   "metadata": {},
   "outputs": [
    {
     "data": {
      "text/html": [
       "<div>\n",
       "<style scoped>\n",
       "    .dataframe tbody tr th:only-of-type {\n",
       "        vertical-align: middle;\n",
       "    }\n",
       "\n",
       "    .dataframe tbody tr th {\n",
       "        vertical-align: top;\n",
       "    }\n",
       "\n",
       "    .dataframe thead th {\n",
       "        text-align: right;\n",
       "    }\n",
       "</style>\n",
       "<table border=\"1\" class=\"dataframe\">\n",
       "  <thead>\n",
       "    <tr style=\"text-align: right;\">\n",
       "      <th></th>\n",
       "      <th>lat</th>\n",
       "      <th>lon</th>\n",
       "      <th>coeff</th>\n",
       "      <th>intercept</th>\n",
       "      <th>r2</th>\n",
       "      <th>SE_coeff</th>\n",
       "      <th>significant</th>\n",
       "    </tr>\n",
       "  </thead>\n",
       "  <tbody>\n",
       "  </tbody>\n",
       "</table>\n",
       "</div>"
      ],
      "text/plain": [
       "Empty DataFrame\n",
       "Columns: [lat, lon, coeff, intercept, r2, SE_coeff, significant]\n",
       "Index: []"
      ]
     },
     "execution_count": 57,
     "metadata": {},
     "output_type": "execute_result"
    }
   ],
   "source": [
    "result_df_income_insignificant[result_df_income_insignificant['r2'] > 0.5]"
   ]
  },
  {
   "cell_type": "code",
   "execution_count": 58,
   "id": "26ab71c5-39a9-4ab9-8a6d-77e8e7af8c9b",
   "metadata": {},
   "outputs": [
    {
     "data": {
      "text/plain": [
       "(1509, 7)"
      ]
     },
     "execution_count": 58,
     "metadata": {},
     "output_type": "execute_result"
    }
   ],
   "source": [
    "result_df_income_insignificant.shape"
   ]
  },
  {
   "cell_type": "code",
   "execution_count": 59,
   "id": "258b9a3c-0fca-42b1-85e0-40716d336e7c",
   "metadata": {},
   "outputs": [],
   "source": [
    "result_df_income.loc[result_df_income['r2'] < 0.5, 'coeff'] = 0"
   ]
  },
  {
   "cell_type": "code",
   "execution_count": 60,
   "id": "bf07369d-5b0a-4a94-8c2f-89635b50babf",
   "metadata": {},
   "outputs": [],
   "source": [
    "result_df_income_loc = result_df_income.drop_duplicates()"
   ]
  },
  {
   "cell_type": "code",
   "execution_count": 61,
   "id": "8452bbb6-bf24-4476-8edf-dd2afb561846",
   "metadata": {},
   "outputs": [],
   "source": [
    "result_df_income_loc = result_df_income_loc[['lat', 'lon', 'coeff', 'SE_coeff']]"
   ]
  },
  {
   "cell_type": "code",
   "execution_count": 62,
   "id": "b581efaf-1cd7-4f5b-a0ac-c0f0d729b05d",
   "metadata": {},
   "outputs": [],
   "source": [
    "result_df_income_loc.columns = ['lat', 'lon', 'coeff_income', 'SE_coeff_income']"
   ]
  },
  {
   "cell_type": "code",
   "execution_count": 63,
   "id": "50d38109-792b-4767-8edd-919f07acdde7",
   "metadata": {},
   "outputs": [],
   "source": [
    "merged_df = pd.merge(result_df_ndvi_loc, result_df_ntl_loc, on=['lat', 'lon'], how='left')\n",
    "result_df_loc_merge = pd.merge(merged_df, result_df_income_loc, on=['lat', 'lon'], how='left')"
   ]
  },
  {
   "cell_type": "code",
   "execution_count": 66,
   "id": "b1097e8f-8375-4854-91b6-0b87e459ef71",
   "metadata": {},
   "outputs": [
    {
     "data": {
      "text/plain": [
       "Index(['lat', 'lon', 'coeff_ndvi', 'SE_coeff_ndvi', 'coeff_ntl',\n",
       "       'SE_coeff_ntl', 'coeff_income', 'SE_coeff_income', 'MWPT_NDVI',\n",
       "       'MWPT_NTL'],\n",
       "      dtype='object')"
      ]
     },
     "execution_count": 66,
     "metadata": {},
     "output_type": "execute_result"
    }
   ],
   "source": [
    "result_df_loc_merge.columns"
   ]
  },
  {
   "cell_type": "code",
   "execution_count": 87,
   "id": "76ed73b0-9722-4cdf-acea-d855f5bb9219",
   "metadata": {},
   "outputs": [],
   "source": [
    "result_df_loc_merge['MWPT_NDVI'] = result_df_loc_merge['coeff_ndvi'] / result_df_loc_merge['coeff_income'] / 120.96 * 1_000_000"
   ]
  },
  {
   "cell_type": "code",
   "execution_count": 88,
   "id": "b955bb9d-7690-41ab-a8c8-540dc50e7a44",
   "metadata": {},
   "outputs": [],
   "source": [
    "result_df_loc_merge['MWPT_NTL'] = result_df_loc_merge['coeff_ntl'] / result_df_loc_merge['coeff_income'] / 120.96 * 1_000_000"
   ]
  },
  {
   "cell_type": "code",
   "execution_count": 89,
   "id": "75735d12-4457-4f4d-8442-6fa27a1d57d8",
   "metadata": {},
   "outputs": [],
   "source": [
    "a = result_df_loc_merge['coeff_ndvi']\n",
    "SE_a = result_df_loc_merge['SE_coeff_ndvi']\n",
    "b = result_df_loc_merge['coeff_income']\n",
    "SE_b = result_df_loc_merge['SE_coeff_income']\n",
    "\n",
    "SE_ratio = np.sqrt((SE_a / b) ** 2 + ((a * SE_b) / (b ** 2)) ** 2)\n",
    "result_df_loc_merge['SE_MWPT_NDVI'] = SE_ratio / 120.96 * 1_000_000"
   ]
  },
  {
   "cell_type": "code",
   "execution_count": 90,
   "id": "b69504f3-7ea9-4899-bc83-856a90ce9c3e",
   "metadata": {},
   "outputs": [],
   "source": [
    "a = result_df_loc_merge['coeff_ntl']\n",
    "SE_a = result_df_loc_merge['SE_coeff_ntl']\n",
    "b = result_df_loc_merge['coeff_income']\n",
    "SE_b = result_df_loc_merge['SE_coeff_income']\n",
    "\n",
    "SE_ratio = np.sqrt((SE_a / b) ** 2 + ((a * SE_b) / (b ** 2)) ** 2)\n",
    "result_df_loc_merge['SE_MWPT_NTL'] = SE_ratio / 120.96 * 1_000_000"
   ]
  },
  {
   "cell_type": "code",
   "execution_count": 91,
   "id": "075e1077-156c-432e-9593-9dad0bc10151",
   "metadata": {},
   "outputs": [
    {
     "data": {
      "text/html": [
       "<div>\n",
       "<style scoped>\n",
       "    .dataframe tbody tr th:only-of-type {\n",
       "        vertical-align: middle;\n",
       "    }\n",
       "\n",
       "    .dataframe tbody tr th {\n",
       "        vertical-align: top;\n",
       "    }\n",
       "\n",
       "    .dataframe thead th {\n",
       "        text-align: right;\n",
       "    }\n",
       "</style>\n",
       "<table border=\"1\" class=\"dataframe\">\n",
       "  <thead>\n",
       "    <tr style=\"text-align: right;\">\n",
       "      <th></th>\n",
       "      <th>lat</th>\n",
       "      <th>lon</th>\n",
       "      <th>coeff_ndvi</th>\n",
       "      <th>SE_coeff_ndvi</th>\n",
       "      <th>coeff_ntl</th>\n",
       "      <th>SE_coeff_ntl</th>\n",
       "      <th>coeff_income</th>\n",
       "      <th>SE_coeff_income</th>\n",
       "      <th>MWPT_NDVI</th>\n",
       "      <th>MWPT_NTL</th>\n",
       "      <th>SE_MWPT_NDVI</th>\n",
       "      <th>SE_MWPT_NTL</th>\n",
       "    </tr>\n",
       "  </thead>\n",
       "  <tbody>\n",
       "    <tr>\n",
       "      <th>0</th>\n",
       "      <td>24.301767</td>\n",
       "      <td>123.869034</td>\n",
       "      <td>0.000623</td>\n",
       "      <td>0.000022</td>\n",
       "      <td>0.002606</td>\n",
       "      <td>0.000275</td>\n",
       "      <td>0.012935</td>\n",
       "      <td>0.000747</td>\n",
       "      <td>397.937368</td>\n",
       "      <td>1665.706083</td>\n",
       "      <td>26.918828</td>\n",
       "      <td>200.370832</td>\n",
       "    </tr>\n",
       "    <tr>\n",
       "      <th>1</th>\n",
       "      <td>24.332844</td>\n",
       "      <td>124.162926</td>\n",
       "      <td>0.000623</td>\n",
       "      <td>0.000022</td>\n",
       "      <td>0.002606</td>\n",
       "      <td>0.000275</td>\n",
       "      <td>0.012935</td>\n",
       "      <td>0.000747</td>\n",
       "      <td>397.937368</td>\n",
       "      <td>1665.706083</td>\n",
       "      <td>26.918828</td>\n",
       "      <td>200.370832</td>\n",
       "    </tr>\n",
       "    <tr>\n",
       "      <th>2</th>\n",
       "      <td>24.333654</td>\n",
       "      <td>123.762947</td>\n",
       "      <td>0.000623</td>\n",
       "      <td>0.000022</td>\n",
       "      <td>0.002606</td>\n",
       "      <td>0.000275</td>\n",
       "      <td>0.012935</td>\n",
       "      <td>0.000747</td>\n",
       "      <td>397.937368</td>\n",
       "      <td>1665.706083</td>\n",
       "      <td>26.918828</td>\n",
       "      <td>200.370832</td>\n",
       "    </tr>\n",
       "    <tr>\n",
       "      <th>3</th>\n",
       "      <td>24.337803</td>\n",
       "      <td>124.143456</td>\n",
       "      <td>0.000623</td>\n",
       "      <td>0.000022</td>\n",
       "      <td>0.002606</td>\n",
       "      <td>0.000275</td>\n",
       "      <td>0.012935</td>\n",
       "      <td>0.000747</td>\n",
       "      <td>397.937368</td>\n",
       "      <td>1665.706083</td>\n",
       "      <td>26.918828</td>\n",
       "      <td>200.370832</td>\n",
       "    </tr>\n",
       "    <tr>\n",
       "      <th>4</th>\n",
       "      <td>24.338045</td>\n",
       "      <td>124.155281</td>\n",
       "      <td>0.000623</td>\n",
       "      <td>0.000022</td>\n",
       "      <td>0.002606</td>\n",
       "      <td>0.000275</td>\n",
       "      <td>0.012935</td>\n",
       "      <td>0.000747</td>\n",
       "      <td>397.937368</td>\n",
       "      <td>1665.706083</td>\n",
       "      <td>26.918828</td>\n",
       "      <td>200.370832</td>\n",
       "    </tr>\n",
       "  </tbody>\n",
       "</table>\n",
       "</div>"
      ],
      "text/plain": [
       "         lat         lon  coeff_ndvi  SE_coeff_ndvi  coeff_ntl  SE_coeff_ntl  \\\n",
       "0  24.301767  123.869034    0.000623       0.000022   0.002606      0.000275   \n",
       "1  24.332844  124.162926    0.000623       0.000022   0.002606      0.000275   \n",
       "2  24.333654  123.762947    0.000623       0.000022   0.002606      0.000275   \n",
       "3  24.337803  124.143456    0.000623       0.000022   0.002606      0.000275   \n",
       "4  24.338045  124.155281    0.000623       0.000022   0.002606      0.000275   \n",
       "\n",
       "   coeff_income  SE_coeff_income   MWPT_NDVI     MWPT_NTL  SE_MWPT_NDVI  \\\n",
       "0      0.012935         0.000747  397.937368  1665.706083     26.918828   \n",
       "1      0.012935         0.000747  397.937368  1665.706083     26.918828   \n",
       "2      0.012935         0.000747  397.937368  1665.706083     26.918828   \n",
       "3      0.012935         0.000747  397.937368  1665.706083     26.918828   \n",
       "4      0.012935         0.000747  397.937368  1665.706083     26.918828   \n",
       "\n",
       "   SE_MWPT_NTL  \n",
       "0   200.370832  \n",
       "1   200.370832  \n",
       "2   200.370832  \n",
       "3   200.370832  \n",
       "4   200.370832  "
      ]
     },
     "execution_count": 91,
     "metadata": {},
     "output_type": "execute_result"
    }
   ],
   "source": [
    "result_df_loc_merge.head()"
   ]
  },
  {
   "cell_type": "code",
   "execution_count": 92,
   "id": "c2a0e761-ae38-4b73-ac5d-639911eee76a",
   "metadata": {},
   "outputs": [],
   "source": [
    "mask = result_df_loc_merge['MWPT_NDVI'].abs() - result_df_loc_merge['SE_MWPT_NDVI'] * 1.96 < 0\n",
    "result_df_loc_merge.loc[mask, 'MWPT_NDVI'] = 0"
   ]
  },
  {
   "cell_type": "code",
   "execution_count": 93,
   "id": "edcf6197-486b-4a7f-bf8b-cf27a96cf78a",
   "metadata": {},
   "outputs": [],
   "source": [
    "mask = result_df_loc_merge['MWPT_NTL'].abs() - result_df_loc_merge['SE_MWPT_NTL'] * 1.96 < 0\n",
    "result_df_loc_merge.loc[mask, 'MWPT_NTL'] = 0"
   ]
  },
  {
   "cell_type": "code",
   "execution_count": 94,
   "id": "ff6e2a0d-ef7e-46ec-abf9-3dc0fbfa51e7",
   "metadata": {},
   "outputs": [],
   "source": [
    "result_df_loc_merge = result_df_loc_merge.groupby(['lat', 'lon']).mean()"
   ]
  },
  {
   "cell_type": "code",
   "execution_count": 95,
   "id": "9d1dbe01-941e-4f98-b808-63a12e07112f",
   "metadata": {},
   "outputs": [],
   "source": [
    "result_df_loc_merge = result_df_loc_merge.reset_index()"
   ]
  },
  {
   "cell_type": "code",
   "execution_count": 96,
   "id": "0bfc3b31-7860-4c32-aa4a-a61134005cf6",
   "metadata": {},
   "outputs": [],
   "source": [
    "result_df_loc_merge = result_df_loc_merge.replace([np.inf, -np.inf], 0)\n",
    "result_df_loc_merge = result_df_loc_merge.fillna(0)"
   ]
  },
  {
   "cell_type": "code",
   "execution_count": 97,
   "id": "95e193a9-80bd-4de0-8f91-d7198b24329e",
   "metadata": {},
   "outputs": [
    {
     "data": {
      "text/plain": [
       "(50852, 12)"
      ]
     },
     "execution_count": 97,
     "metadata": {},
     "output_type": "execute_result"
    }
   ],
   "source": [
    "result_df_loc_merge.shape"
   ]
  },
  {
   "cell_type": "code",
   "execution_count": 98,
   "id": "fffe6014-3d3d-4e07-95f7-6660155ac780",
   "metadata": {},
   "outputs": [
    {
     "data": {
      "text/html": [
       "<div>\n",
       "<style scoped>\n",
       "    .dataframe tbody tr th:only-of-type {\n",
       "        vertical-align: middle;\n",
       "    }\n",
       "\n",
       "    .dataframe tbody tr th {\n",
       "        vertical-align: top;\n",
       "    }\n",
       "\n",
       "    .dataframe thead th {\n",
       "        text-align: right;\n",
       "    }\n",
       "</style>\n",
       "<table border=\"1\" class=\"dataframe\">\n",
       "  <thead>\n",
       "    <tr style=\"text-align: right;\">\n",
       "      <th></th>\n",
       "      <th>lat</th>\n",
       "      <th>lon</th>\n",
       "      <th>coeff_ndvi</th>\n",
       "      <th>SE_coeff_ndvi</th>\n",
       "      <th>coeff_ntl</th>\n",
       "      <th>SE_coeff_ntl</th>\n",
       "      <th>coeff_income</th>\n",
       "      <th>SE_coeff_income</th>\n",
       "      <th>MWPT_NDVI</th>\n",
       "      <th>MWPT_NTL</th>\n",
       "      <th>SE_MWPT_NDVI</th>\n",
       "      <th>SE_MWPT_NTL</th>\n",
       "    </tr>\n",
       "  </thead>\n",
       "  <tbody>\n",
       "    <tr>\n",
       "      <th>count</th>\n",
       "      <td>50852.000000</td>\n",
       "      <td>50852.000000</td>\n",
       "      <td>50852.000000</td>\n",
       "      <td>50852.000000</td>\n",
       "      <td>50852.000000</td>\n",
       "      <td>50852.000000</td>\n",
       "      <td>50852.000000</td>\n",
       "      <td>50852.000000</td>\n",
       "      <td>5.085200e+04</td>\n",
       "      <td>5.085200e+04</td>\n",
       "      <td>5.085200e+04</td>\n",
       "      <td>5.085200e+04</td>\n",
       "    </tr>\n",
       "    <tr>\n",
       "      <th>mean</th>\n",
       "      <td>35.773296</td>\n",
       "      <td>136.851359</td>\n",
       "      <td>0.000364</td>\n",
       "      <td>0.000122</td>\n",
       "      <td>-0.002037</td>\n",
       "      <td>0.000274</td>\n",
       "      <td>0.014759</td>\n",
       "      <td>0.001097</td>\n",
       "      <td>3.745309e+02</td>\n",
       "      <td>-1.439620e+03</td>\n",
       "      <td>3.375118e+02</td>\n",
       "      <td>6.804090e+02</td>\n",
       "    </tr>\n",
       "    <tr>\n",
       "      <th>std</th>\n",
       "      <td>2.480900</td>\n",
       "      <td>3.331468</td>\n",
       "      <td>0.002655</td>\n",
       "      <td>0.000147</td>\n",
       "      <td>0.006116</td>\n",
       "      <td>0.000512</td>\n",
       "      <td>0.011206</td>\n",
       "      <td>0.000859</td>\n",
       "      <td>7.490753e+04</td>\n",
       "      <td>8.195933e+04</td>\n",
       "      <td>1.149361e+04</td>\n",
       "      <td>1.366199e+04</td>\n",
       "    </tr>\n",
       "    <tr>\n",
       "      <th>min</th>\n",
       "      <td>24.301767</td>\n",
       "      <td>123.762947</td>\n",
       "      <td>-0.072164</td>\n",
       "      <td>0.000000</td>\n",
       "      <td>-0.125678</td>\n",
       "      <td>0.000010</td>\n",
       "      <td>-0.060621</td>\n",
       "      <td>0.000000</td>\n",
       "      <td>-8.448932e+06</td>\n",
       "      <td>-1.175134e+07</td>\n",
       "      <td>0.000000e+00</td>\n",
       "      <td>0.000000e+00</td>\n",
       "    </tr>\n",
       "    <tr>\n",
       "      <th>25%</th>\n",
       "      <td>34.667910</td>\n",
       "      <td>135.207962</td>\n",
       "      <td>0.000000</td>\n",
       "      <td>0.000052</td>\n",
       "      <td>-0.002577</td>\n",
       "      <td>0.000060</td>\n",
       "      <td>0.008527</td>\n",
       "      <td>0.000635</td>\n",
       "      <td>0.000000e+00</td>\n",
       "      <td>-1.523141e+03</td>\n",
       "      <td>3.522346e+01</td>\n",
       "      <td>5.609525e+01</td>\n",
       "    </tr>\n",
       "    <tr>\n",
       "      <th>50%</th>\n",
       "      <td>35.226959</td>\n",
       "      <td>136.923462</td>\n",
       "      <td>0.000000</td>\n",
       "      <td>0.000084</td>\n",
       "      <td>-0.001347</td>\n",
       "      <td>0.000111</td>\n",
       "      <td>0.013553</td>\n",
       "      <td>0.000906</td>\n",
       "      <td>0.000000e+00</td>\n",
       "      <td>-7.235523e+02</td>\n",
       "      <td>6.350053e+01</td>\n",
       "      <td>1.022510e+02</td>\n",
       "    </tr>\n",
       "    <tr>\n",
       "      <th>75%</th>\n",
       "      <td>36.277805</td>\n",
       "      <td>139.635010</td>\n",
       "      <td>0.001134</td>\n",
       "      <td>0.000143</td>\n",
       "      <td>0.000000</td>\n",
       "      <td>0.000259</td>\n",
       "      <td>0.018700</td>\n",
       "      <td>0.001279</td>\n",
       "      <td>6.117558e+02</td>\n",
       "      <td>0.000000e+00</td>\n",
       "      <td>1.332613e+02</td>\n",
       "      <td>2.368855e+02</td>\n",
       "    </tr>\n",
       "    <tr>\n",
       "      <th>max</th>\n",
       "      <td>45.511021</td>\n",
       "      <td>145.742340</td>\n",
       "      <td>0.054274</td>\n",
       "      <td>0.010829</td>\n",
       "      <td>0.093483</td>\n",
       "      <td>0.013091</td>\n",
       "      <td>0.162315</td>\n",
       "      <td>0.015791</td>\n",
       "      <td>1.183274e+07</td>\n",
       "      <td>4.179183e+06</td>\n",
       "      <td>2.023378e+06</td>\n",
       "      <td>1.989509e+06</td>\n",
       "    </tr>\n",
       "  </tbody>\n",
       "</table>\n",
       "</div>"
      ],
      "text/plain": [
       "                lat           lon    coeff_ndvi  SE_coeff_ndvi     coeff_ntl  \\\n",
       "count  50852.000000  50852.000000  50852.000000   50852.000000  50852.000000   \n",
       "mean      35.773296    136.851359      0.000364       0.000122     -0.002037   \n",
       "std        2.480900      3.331468      0.002655       0.000147      0.006116   \n",
       "min       24.301767    123.762947     -0.072164       0.000000     -0.125678   \n",
       "25%       34.667910    135.207962      0.000000       0.000052     -0.002577   \n",
       "50%       35.226959    136.923462      0.000000       0.000084     -0.001347   \n",
       "75%       36.277805    139.635010      0.001134       0.000143      0.000000   \n",
       "max       45.511021    145.742340      0.054274       0.010829      0.093483   \n",
       "\n",
       "       SE_coeff_ntl  coeff_income  SE_coeff_income     MWPT_NDVI  \\\n",
       "count  50852.000000  50852.000000     50852.000000  5.085200e+04   \n",
       "mean       0.000274      0.014759         0.001097  3.745309e+02   \n",
       "std        0.000512      0.011206         0.000859  7.490753e+04   \n",
       "min        0.000010     -0.060621         0.000000 -8.448932e+06   \n",
       "25%        0.000060      0.008527         0.000635  0.000000e+00   \n",
       "50%        0.000111      0.013553         0.000906  0.000000e+00   \n",
       "75%        0.000259      0.018700         0.001279  6.117558e+02   \n",
       "max        0.013091      0.162315         0.015791  1.183274e+07   \n",
       "\n",
       "           MWPT_NTL  SE_MWPT_NDVI   SE_MWPT_NTL  \n",
       "count  5.085200e+04  5.085200e+04  5.085200e+04  \n",
       "mean  -1.439620e+03  3.375118e+02  6.804090e+02  \n",
       "std    8.195933e+04  1.149361e+04  1.366199e+04  \n",
       "min   -1.175134e+07  0.000000e+00  0.000000e+00  \n",
       "25%   -1.523141e+03  3.522346e+01  5.609525e+01  \n",
       "50%   -7.235523e+02  6.350053e+01  1.022510e+02  \n",
       "75%    0.000000e+00  1.332613e+02  2.368855e+02  \n",
       "max    4.179183e+06  2.023378e+06  1.989509e+06  "
      ]
     },
     "execution_count": 98,
     "metadata": {},
     "output_type": "execute_result"
    }
   ],
   "source": [
    "result_df_loc_merge.describe()"
   ]
  },
  {
   "cell_type": "code",
   "execution_count": 104,
   "id": "d11ed09e-2f48-415e-9a5f-103c29a5f716",
   "metadata": {},
   "outputs": [],
   "source": [
    "lines = []\n",
    "for name in ['coeff_ndvi', 'coeff_ntl', 'coeff_income', 'MWPT_NDVI', 'MWPT_NTL']:\n",
    "    lower = result_df_loc_merge[name].quantile(0.005)\n",
    "    upper = result_df_loc_merge[name].quantile(0.995)\n",
    "    trimmed_mean = result_df_loc_merge[(result_df_loc_merge[name] >= lower) & (result_df_loc_merge[name] <= upper)][name].mean()\n",
    "    trimmed_std = result_df_loc_merge[(result_df_loc_merge[name] >= lower) & (result_df_loc_merge[name] <= upper)][name].std()\n",
    "    \n",
    "    line = [np.mean(result_df_loc_merge[name]), trimmed_mean, trimmed_std, np.quantile(result_df_loc_merge[name], .005),\n",
    "            np.quantile(result_df_loc_merge[name], .025), np.quantile(result_df_loc_merge[name], .5),\n",
    "            np.quantile(result_df_loc_merge[name], .25), np.quantile(result_df_loc_merge[name], .50), \n",
    "            np.quantile(result_df_loc_merge[name], .75), np.quantile(result_df_loc_merge[name], .95),\n",
    "            np.quantile(result_df_loc_merge[name], .975), np.quantile(result_df_loc_merge[name], .995),]\n",
    "    lines.append(line)"
   ]
  },
  {
   "cell_type": "code",
   "execution_count": 105,
   "id": "7abbe48d-069f-4ab4-990e-e0587ffd8338",
   "metadata": {},
   "outputs": [],
   "source": [
    "data_summary = pd.DataFrame(lines)"
   ]
  },
  {
   "cell_type": "code",
   "execution_count": 110,
   "id": "01fb6755-334d-4d0b-a8eb-0d3ca49ece06",
   "metadata": {},
   "outputs": [],
   "source": [
    "data_summary.columns = ['Mean', \"Trimmed Mean\", \"Trimmed Std\", \"0.5% Quantile\", \"2.5% Quantile\", \"5% Quantile\",\n",
    "                        \"25% Quantile\", \"50% Quantile\",\n",
    "                        \"75% Quantile\", \"95% Quantile\", \"97.5% Quantile\", \"99.5% Quantile\"]"
   ]
  },
  {
   "cell_type": "code",
   "execution_count": 111,
   "id": "c1ad1a54-39d2-48c3-aaed-93f24bbbb92e",
   "metadata": {},
   "outputs": [],
   "source": [
    "data_summary.index = ['Local Marginal Effect Coefficient of NDVI', 'Local Marginal Effect Coefficient NTL', 'Local Marginal Effect  Coefficient Income', 'MWTP of NDVI', 'MWTP of NTL']"
   ]
  },
  {
   "cell_type": "code",
   "execution_count": 112,
   "id": "7871bd1b-b8cf-4d1d-9292-0e232aafe29a",
   "metadata": {},
   "outputs": [
    {
     "data": {
      "text/html": [
       "<div>\n",
       "<style scoped>\n",
       "    .dataframe tbody tr th:only-of-type {\n",
       "        vertical-align: middle;\n",
       "    }\n",
       "\n",
       "    .dataframe tbody tr th {\n",
       "        vertical-align: top;\n",
       "    }\n",
       "\n",
       "    .dataframe thead th {\n",
       "        text-align: right;\n",
       "    }\n",
       "</style>\n",
       "<table border=\"1\" class=\"dataframe\">\n",
       "  <thead>\n",
       "    <tr style=\"text-align: right;\">\n",
       "      <th></th>\n",
       "      <th>Local Marginal Effect Coefficient of NDVI</th>\n",
       "      <th>Local Marginal Effect Coefficient NTL</th>\n",
       "      <th>Local Marginal Effect  Coefficient Income</th>\n",
       "      <th>MWTP of NDVI</th>\n",
       "      <th>MWTP of NTL</th>\n",
       "    </tr>\n",
       "  </thead>\n",
       "  <tbody>\n",
       "    <tr>\n",
       "      <th>Mean</th>\n",
       "      <td>0.000364</td>\n",
       "      <td>-0.002037</td>\n",
       "      <td>0.014759</td>\n",
       "      <td>374.530919</td>\n",
       "      <td>-1439.619840</td>\n",
       "    </tr>\n",
       "    <tr>\n",
       "      <th>Trimmed Mean</th>\n",
       "      <td>0.000364</td>\n",
       "      <td>-0.001953</td>\n",
       "      <td>0.014546</td>\n",
       "      <td>203.562899</td>\n",
       "      <td>-1090.419470</td>\n",
       "    </tr>\n",
       "    <tr>\n",
       "      <th>Trimmed Std</th>\n",
       "      <td>0.001954</td>\n",
       "      <td>0.004242</td>\n",
       "      <td>0.009918</td>\n",
       "      <td>2074.334630</td>\n",
       "      <td>4130.100966</td>\n",
       "    </tr>\n",
       "    <tr>\n",
       "      <th>0.5% Quantile</th>\n",
       "      <td>-0.009340</td>\n",
       "      <td>-0.034131</td>\n",
       "      <td>-0.006948</td>\n",
       "      <td>-20813.745572</td>\n",
       "      <td>-42463.994702</td>\n",
       "    </tr>\n",
       "    <tr>\n",
       "      <th>2.5% Quantile</th>\n",
       "      <td>-0.004348</td>\n",
       "      <td>-0.014922</td>\n",
       "      <td>-0.001145</td>\n",
       "      <td>-4151.674070</td>\n",
       "      <td>-10632.245165</td>\n",
       "    </tr>\n",
       "    <tr>\n",
       "      <th>5% Quantile</th>\n",
       "      <td>0.000000</td>\n",
       "      <td>-0.001347</td>\n",
       "      <td>0.013553</td>\n",
       "      <td>0.000000</td>\n",
       "      <td>-723.552285</td>\n",
       "    </tr>\n",
       "    <tr>\n",
       "      <th>25% Quantile</th>\n",
       "      <td>0.000000</td>\n",
       "      <td>-0.002577</td>\n",
       "      <td>0.008527</td>\n",
       "      <td>0.000000</td>\n",
       "      <td>-1523.141016</td>\n",
       "    </tr>\n",
       "    <tr>\n",
       "      <th>50% Quantile</th>\n",
       "      <td>0.000000</td>\n",
       "      <td>-0.001347</td>\n",
       "      <td>0.013553</td>\n",
       "      <td>0.000000</td>\n",
       "      <td>-723.552285</td>\n",
       "    </tr>\n",
       "    <tr>\n",
       "      <th>75% Quantile</th>\n",
       "      <td>0.001134</td>\n",
       "      <td>0.000000</td>\n",
       "      <td>0.018700</td>\n",
       "      <td>611.755805</td>\n",
       "      <td>0.000000</td>\n",
       "    </tr>\n",
       "    <tr>\n",
       "      <th>95% Quantile</th>\n",
       "      <td>0.003586</td>\n",
       "      <td>0.002205</td>\n",
       "      <td>0.033662</td>\n",
       "      <td>2645.895719</td>\n",
       "      <td>1577.095847</td>\n",
       "    </tr>\n",
       "    <tr>\n",
       "      <th>97.5% Quantile</th>\n",
       "      <td>0.005214</td>\n",
       "      <td>0.005587</td>\n",
       "      <td>0.042993</td>\n",
       "      <td>4663.113404</td>\n",
       "      <td>5333.939742</td>\n",
       "    </tr>\n",
       "    <tr>\n",
       "      <th>99.5% Quantile</th>\n",
       "      <td>0.010961</td>\n",
       "      <td>0.018962</td>\n",
       "      <td>0.066150</td>\n",
       "      <td>18153.108025</td>\n",
       "      <td>40377.221385</td>\n",
       "    </tr>\n",
       "  </tbody>\n",
       "</table>\n",
       "</div>"
      ],
      "text/plain": [
       "                Local Marginal Effect Coefficient of NDVI  \\\n",
       "Mean                                             0.000364   \n",
       "Trimmed Mean                                     0.000364   \n",
       "Trimmed Std                                      0.001954   \n",
       "0.5% Quantile                                   -0.009340   \n",
       "2.5% Quantile                                   -0.004348   \n",
       "5% Quantile                                      0.000000   \n",
       "25% Quantile                                     0.000000   \n",
       "50% Quantile                                     0.000000   \n",
       "75% Quantile                                     0.001134   \n",
       "95% Quantile                                     0.003586   \n",
       "97.5% Quantile                                   0.005214   \n",
       "99.5% Quantile                                   0.010961   \n",
       "\n",
       "                Local Marginal Effect Coefficient NTL  \\\n",
       "Mean                                        -0.002037   \n",
       "Trimmed Mean                                -0.001953   \n",
       "Trimmed Std                                  0.004242   \n",
       "0.5% Quantile                               -0.034131   \n",
       "2.5% Quantile                               -0.014922   \n",
       "5% Quantile                                 -0.001347   \n",
       "25% Quantile                                -0.002577   \n",
       "50% Quantile                                -0.001347   \n",
       "75% Quantile                                 0.000000   \n",
       "95% Quantile                                 0.002205   \n",
       "97.5% Quantile                               0.005587   \n",
       "99.5% Quantile                               0.018962   \n",
       "\n",
       "                Local Marginal Effect  Coefficient Income  MWTP of NDVI  \\\n",
       "Mean                                             0.014759    374.530919   \n",
       "Trimmed Mean                                     0.014546    203.562899   \n",
       "Trimmed Std                                      0.009918   2074.334630   \n",
       "0.5% Quantile                                   -0.006948 -20813.745572   \n",
       "2.5% Quantile                                   -0.001145  -4151.674070   \n",
       "5% Quantile                                      0.013553      0.000000   \n",
       "25% Quantile                                     0.008527      0.000000   \n",
       "50% Quantile                                     0.013553      0.000000   \n",
       "75% Quantile                                     0.018700    611.755805   \n",
       "95% Quantile                                     0.033662   2645.895719   \n",
       "97.5% Quantile                                   0.042993   4663.113404   \n",
       "99.5% Quantile                                   0.066150  18153.108025   \n",
       "\n",
       "                 MWTP of NTL  \n",
       "Mean            -1439.619840  \n",
       "Trimmed Mean    -1090.419470  \n",
       "Trimmed Std      4130.100966  \n",
       "0.5% Quantile  -42463.994702  \n",
       "2.5% Quantile  -10632.245165  \n",
       "5% Quantile      -723.552285  \n",
       "25% Quantile    -1523.141016  \n",
       "50% Quantile     -723.552285  \n",
       "75% Quantile        0.000000  \n",
       "95% Quantile     1577.095847  \n",
       "97.5% Quantile   5333.939742  \n",
       "99.5% Quantile  40377.221385  "
      ]
     },
     "execution_count": 112,
     "metadata": {},
     "output_type": "execute_result"
    }
   ],
   "source": [
    "data_summary.T"
   ]
  },
  {
   "cell_type": "code",
   "execution_count": 102,
   "id": "c213d870-3f5b-4ae4-a82b-a5fb77c951a8",
   "metadata": {},
   "outputs": [],
   "source": [
    "data_summary.T.to_excel('13_Results/Table02_summaryTable.xlsx')"
   ]
  },
  {
   "cell_type": "code",
   "execution_count": null,
   "id": "9b443785-bbe4-41d0-bd2d-603e506dfb89",
   "metadata": {},
   "outputs": [],
   "source": []
  }
 ],
 "metadata": {
  "kernelspec": {
   "display_name": "Python 3 (ipykernel)",
   "language": "python",
   "name": "python3"
  },
  "language_info": {
   "codemirror_mode": {
    "name": "ipython",
    "version": 3
   },
   "file_extension": ".py",
   "mimetype": "text/x-python",
   "name": "python",
   "nbconvert_exporter": "python",
   "pygments_lexer": "ipython3",
   "version": "3.9.19"
  }
 },
 "nbformat": 4,
 "nbformat_minor": 5
}
