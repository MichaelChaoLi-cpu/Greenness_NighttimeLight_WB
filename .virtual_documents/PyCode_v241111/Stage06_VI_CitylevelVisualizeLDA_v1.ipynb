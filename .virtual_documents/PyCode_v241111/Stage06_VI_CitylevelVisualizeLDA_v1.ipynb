


%pwd


%cd ..








import geopandas as gpd
import glob
import matplotlib.colors
import matplotlib.patches as mpatches
import matplotlib.pyplot as plt
from mpl_toolkits.axes_grid1.inset_locator import zoomed_inset_axes, mark_inset
import numpy as np
import pandas as pd
from shapely.geometry import Point
from shapely.geometry import box
from shapely.ops import unary_union








count_list = []





result_df_ndvi = pd.read_excel('03_Results/PdpConnectionCoef/PdpConnection_NDVI.xlsx', index_col = 0)


result_df_ndvi.loc[result_df_ndvi['r2'] < 0.5, 'coeff'] = 0


result_df_ndvi['polar'] = result_df_ndvi['coeff'].apply(lambda x: -1 if x < 0 else (1 if x > 0 else 0))


result_df_ndvi['coeff'].mean()


individual_count = result_df_ndvi['polar'].groupby(result_df_ndvi['polar']).count()


individual_count


count_list.append(individual_count)


result_df_ndvi_loc = result_df_ndvi.groupby(['lon', 'lat']).mean().reset_index()


result_df_ndvi_loc.shape


result_df_ndvi_loc['coeff'].mean()


result_df_ndvi_loc['polar'] = result_df_ndvi_loc['polar'].apply(lambda x: -1 if x < 0 else (1 if x > 0 else 0))


individual_count = result_df_ndvi_loc['polar'].groupby(result_df_ndvi_loc['polar']).count()


individual_count


count_list.append(individual_count)








result_df_ndvi = pd.read_excel('03_Results/PdpConnectionCoef/PdpConnection_NTL.xlsx', index_col = 0)


result_df_ndvi.loc[result_df_ndvi['r2'] < 0.5, 'coeff'] = 0


result_df_ndvi['polar'] = result_df_ndvi['coeff'].apply(lambda x: -1 if x < 0 else (1 if x > 0 else 0))


result_df_ndvi['coeff'].mean()


individual_count = result_df_ndvi['polar'].groupby(result_df_ndvi['polar']).count()


individual_count


count_list.append(individual_count)


result_df_ndvi_loc = result_df_ndvi.groupby(['lon', 'lat']).mean().reset_index()


result_df_ndvi_loc.shape


result_df_ndvi_loc['coeff'].mean()


result_df_ndvi_loc['polar'] = result_df_ndvi_loc['polar'].apply(lambda x: -1 if x < 0 else (1 if x > 0 else 0))


individual_count = result_df_ndvi_loc['polar'].groupby(result_df_ndvi_loc['polar']).count()


individual_count


count_list.append(individual_count)








result_df_ndvi = pd.read_excel('03_Results/PdpConnectionCoef/PdpConnection_income_indiv.xlsx', index_col = 0)


result_df_ndvi.loc[result_df_ndvi['r2'] < 0.5, 'coeff'] = 0


result_df_ndvi['polar'] = result_df_ndvi['coeff'].apply(lambda x: -1 if x < 0 else (1 if x > 0 else 0))


result_df_ndvi['coeff'].mean()


individual_count = result_df_ndvi['polar'].groupby(result_df_ndvi['polar']).count()


individual_count


count_list.append(individual_count)


result_df_ndvi_loc = result_df_ndvi.groupby(['lon', 'lat']).mean().reset_index()


result_df_ndvi_loc.shape


result_df_ndvi_loc['polar'] = result_df_ndvi_loc['polar'].apply(lambda x: -1 if x < 0 else (1 if x > 0 else 0))


individual_count = result_df_ndvi_loc['polar'].groupby(result_df_ndvi_loc['polar']).count()


result_df_ndvi_loc['coeff'].mean()


individual_count


count_list.append(individual_count)


pd.concat(count_list, axis=1).T.to_excel('03_Results/LocalPDA_Summary.xlsx')


pd.concat(count_list, axis=1).T











result_df_ndvi = pd.read_excel('03_Results/PdpConnectionCoef/PdpConnection_NDVI.xlsx', index_col = 0)


result_df_ndvi.loc[result_df_ndvi['r2'] < 0.5, 'coeff'] = 0


result_df_ndvi_loc = result_df_ndvi.drop_duplicates()


result_df_ndvi_loc = result_df_ndvi_loc[['lat', 'lon', 'coeff']]


result_df_ndvi_loc.columns = ['lat', 'lon', 'coeff_ndvi']


result_df_ntl = pd.read_excel('03_Results/PdpConnectionCoef/PdpConnection_NTL.xlsx', index_col = 0)


result_df_ntl.loc[result_df_ntl['r2'] < 0.5, 'coeff'] = 0


result_df_ntl_loc = result_df_ntl.drop_duplicates()


result_df_ntl_loc = result_df_ntl_loc[['lat', 'lon', 'coeff']]


result_df_ntl_loc.columns = ['lat', 'lon', 'coeff_ntl']


result_df_income = pd.read_excel('03_Results/PdpConnectionCoef/PdpConnection_income_indiv.xlsx', index_col = 0)


result_df_income.loc[result_df_income['r2'] < 0.5, 'coeff'] = 0


result_df_income_loc = result_df_income.drop_duplicates()


result_df_income_loc = result_df_income_loc[['lat', 'lon', 'coeff']]


result_df_income_loc.columns = ['lat', 'lon', 'coeff_income']


merged_df = pd.merge(result_df_ndvi_loc, result_df_ntl_loc, on=['lat', 'lon'], how='left')
result_df_loc_merge = pd.merge(merged_df, result_df_income_loc, on=['lat', 'lon'], how='left')


result_df_loc_merge = result_df_loc_merge.groupby(['lat', 'lon']).mean()


result_df_loc_merge = result_df_loc_merge.reset_index()


def create_geometry(row):
    return Point(row['lon'], row['lat'])


result_df_loc_merge['geometry'] = result_df_loc_merge.apply(create_geometry, axis=1)


crs = "EPSG:4326"
result_gdf_loc = gpd.GeoDataFrame(result_df_loc_merge, geometry='geometry', crs=crs)


result_gdf_loc.describe()








shapefile_path = '01_Data/N03-20_200101.shp'
city_gdf = gpd.read_file(shapefile_path)


city_gdf = city_gdf[['N03_007', 'geometry']]
city_gdf = city_gdf.set_index('N03_007')
city_gdf = city_gdf.groupby(city_gdf.index).geometry.apply(unary_union)


city_gdf = gpd.GeoDataFrame(geometry=city_gdf)
city_gdf = city_gdf.reset_index()
city_gdf.columns = ['Code', 'geometry']
city_gdf.Code = city_gdf.Code.astype(int)


city_gdf.set_crs(epsg=4326, inplace=True)





X_list = glob.glob("01_Data/*_X_Happi*.csv")
DataX = pd.read_csv(X_list[0], index_col=0)


DataX = DataX[['lat', 'lon', 'NDVI', 'NTL', 'income_indiv']]


DataX = DataX.groupby(['lat', 'lon']).mean()


DataX = DataX.reset_index()


DataX


result_df_loc_merge


data_merge = pd.merge(DataX, result_df_loc_merge, on = ['lat','lon'])


data_merge


data_merge['coeff_ndvi'].corr(data_merge['NDVI'])











cmap = matplotlib.colors.LinearSegmentedColormap.from_list("", ["blue","green", "white", "yellow", "red"])


vmins = [-0.002, -0.003, -0.02]
vmaxs = [0.002, 0.003, 0.02]





# Define the population change columns and titles
columns = ["coeff_ndvi", "coeff_ntl", "coeff_income"]
titles = [
    "NDVI Coefficient", "NTL Coefficient",
    "Income Coefficient"
]

# Iterate through the variables and plot each separately
for aim_variable, title, vmin, vmax in zip(columns, titles, vmins, vmaxs):
    # Create a new figure
    fig, ax = plt.subplots(figsize=(16, 16), dpi=300)

    # Set the ocean color
    ax.set_facecolor(ocean_color)

    # Plot city boundaries
    city_gdf.plot(ax=ax, edgecolor='black', alpha=0.3, linewidth=0.2, facecolor='gray')
    collection = result_gdf_loc.plot(
        column=aim_variable, 
        ax=ax, 
        cmap=cmap, 
        vmin=vmin, 
        vmax=vmax, 
        alpha=0.8, 
        markersize=0.2, 
        legend=True
    )

    # Inset plots
    for name, extent in inset_extents.items():
        bbox = box(*extent)  # Create a bounding box
        clipped_city = city_gdf.clip(bbox)  # Clip the city boundaries
        clipped_result_gdf_loc = result_gdf_loc.clip(bbox)  # Clip the city boundaries

        # Create inset plot
        axins = zoomed_inset_axes(ax, zoom=4, bbox_to_anchor=bbox_to_anchor_dict[name], bbox_transform=ax.transAxes)
        axins.set_facecolor(ocean_color)

        # Plot clipped data
        clipped_city.plot(ax=axins, edgecolor='black', alpha=0.3, linewidth=0.2, facecolor='gray')
        clipped_result_gdf_loc.plot(
                column=aim_variable, 
                ax=axins, 
                cmap=cmap, 
                vmin=vmin, 
                vmax=vmax, 
                alpha=0.8, 
                markersize=0.2, 
                legend=False
            )

        # Set inset limits
        axins.set_xlim(extent[0], extent[2])
        axins.set_ylim(extent[1], extent[3])
        axins.grid(True)
        axins.tick_params(labelsize=5)

        # Mark the inset area on the main plot
        mark_inset(ax, axins, loc1=1, loc2=2, fc="none", ec="0.5")
    
    # Add annotation
    ax.annotate(
        title, 
        xy=(0.01, 0.99), 
        xycoords='axes fraction', 
        fontsize=12, 
        ha='left', 
        va='top', 
        color='black'
    )

    # Set grid and limits for the main plot
    ax.grid(True)
    ax.set_xlim(126, 150)
    ax.set_ylim(26, 47)

    # Save or show the plot
    # Uncomment to save
    fig.savefig(f'04_Figure/Fig_CityLevelMWTP_{aim_variable}_refine.jpg', format='jpg', dpi=300, bbox_inches='tight')

    # Show the plot
    plt.show()











result_df_ndvi = pd.read_excel('03_Results/PdpConnectionCoef/PdpConnection_NDVI.xlsx', index_col = 0)


result_df_ndvi.loc[result_df_ndvi['r2'] < 0.5, 'coeff'] = 0


result_df_ndvi_loc = result_df_ndvi.drop_duplicates()


result_df_ndvi_loc = result_df_ndvi_loc[['lat', 'lon', 'coeff']]


result_df_ndvi_loc.columns = ['lat', 'lon', 'coeff_ndvi']


result_df_ntl = pd.read_excel('03_Results/PdpConnectionCoef/PdpConnection_NTL.xlsx', index_col = 0)


result_df_ntl.loc[result_df_ntl['r2'] < 0.5, 'coeff'] = 0


result_df_ntl_loc = result_df_ntl.drop_duplicates()


result_df_ntl_loc = result_df_ntl_loc[['lat', 'lon', 'coeff']]


result_df_ntl_loc.columns = ['lat', 'lon', 'coeff_ntl']


result_df_income = pd.read_excel('03_Results/PdpConnectionCoef/PdpConnection_income_indiv.xlsx', index_col = 0)


result_df_income.loc[result_df_income['r2'] < 0.5, 'coeff'] = 0


result_df_income_loc = result_df_income.drop_duplicates()


result_df_income_loc = result_df_income_loc[['lat', 'lon', 'coeff']]


result_df_income_loc.columns = ['lat', 'lon', 'coeff_income']


merged_df = pd.merge(result_df_ndvi_loc, result_df_ntl_loc, on=['lat', 'lon'], how='left')
result_df_loc_merge = pd.merge(merged_df, result_df_income_loc, on=['lat', 'lon'], how='left')


result_df_loc_merge['MWPT_NDVI'] = result_df_loc_merge['coeff_ndvi'] / result_df_loc_merge['coeff_income'] / 120.96 * 1_000_000


result_df_loc_merge['MWPT_NTL'] = result_df_loc_merge['coeff_ntl'] / result_df_loc_merge['coeff_income'] / 120.96 * 1_000_000


result_df_loc_merge = result_df_loc_merge.groupby(['lat', 'lon']).mean()


result_df_loc_merge = result_df_loc_merge.reset_index()


result_df_loc_merge = result_df_loc_merge.replace([np.inf, -np.inf], 0)
result_df_loc_merge = result_df_loc_merge.fillna(0)


result_df_loc_merge


def create_geometry(row):
    return Point(row['lon'], row['lat'])


result_df_loc_merge['geometry'] = result_df_loc_merge.apply(create_geometry, axis=1)


crs = "EPSG:4326"
result_gdf_loc = gpd.GeoDataFrame(result_df_loc_merge, geometry='geometry', crs=crs)


result_gdf_loc.describe()


city_gdf['Code']


city_gdf.crs


result_gdf_loc


result_gdf_loc_with_code = gpd.sjoin(
    result_gdf_loc, 
    city_gdf[['Code', 'geometry']],  # Only keep 'Code' and geometry columns from city_gdf
    how="left",                     # Use 'left' join to keep all points
    predicate="within"              # Join points within polygons
)


result_gdf_loc_with_code.shape


result_gdf_loc_with_code = result_gdf_loc_with_code.dropna()


result_gdf_loc_with_code.columns


result_gdf_loc_with_code = result_gdf_loc_with_code[['MWPT_NDVI','MWPT_NTL','Code']]


result_gdf_loc_with_code['Code'] = result_gdf_loc_with_code['Code'].astype(int)


result_gdf_loc_with_code.groupby('Code').mean()


result_gdf_loc_with_code.describe()


bin_edges = np.linspace(-5000, 5000, 31)  # 30 bins => 31 edges

plt.figure(figsize=(8, 6))
plt.hist(result_gdf_loc_with_code['MWPT_NDVI'], bins=bin_edges, color='blue', edgecolor='black', alpha=0.7)

# Add labels and title
plt.title("Histogram of MWPT_NDVI", fontsize=14)
plt.xlabel("MWPT_NDVI", fontsize=12)
plt.ylabel("Frequency", fontsize=12)

# Show the plot
plt.grid(axis='y', linestyle='--', alpha=0.7)
plt.show()


bin_edges = np.linspace(-5000, 5000, 31)  # 30 bins => 31 edges

plt.figure(figsize=(8, 6))
plt.hist(result_gdf_loc_with_code['MWPT_NTL'], bins=bin_edges, color='blue', edgecolor='black', alpha=0.7)

# Add labels and title
plt.title("Histogram of MWPT_NDVI", fontsize=14)
plt.xlabel("MWPT_NDVI", fontsize=12)
plt.ylabel("Frequency", fontsize=12)

# Show the plot
plt.grid(axis='y', linestyle='--', alpha=0.7)
plt.show()


city_gdf = city_gdf.merge(result_gdf_loc_with_code, on = 'Code', how = 'left')


type(city_gdf)


city_gdf.columns





cmap = matplotlib.colors.LinearSegmentedColormap.from_list("", ["blue","green", 'white', "yellow", "red"])


vmins = [-5000, -5000]
vmaxs = [5000, 5000]


ocean_color = '#d0f0fd'


inset_extents = {
    "tokyo": [139.2, 35.0, 140.8, 36.0],
    "nagoya": [136.7, 35.0, 137.2, 35.4],
    "osaka": [135.3, 34.5, 135.8, 34.9],
    "fukuoka": [130.1, 33.3, 130.7, 33.7],
    "sendai": [140.6, 38.1, 141.1, 38.5],
    "sapporo": [141.1, 42.9, 141.6, 43.3]
}
bbox_to_anchor_dict = {
    "tokyo": (0.75, 0.1, 0.25, 0.25),
    "nagoya": (0.4, 0.06, 0.25, 0.25),
    "osaka": (0.25, 0.06, 0.25, 0.25),
    "fukuoka": (0.02, 0.5, 0.25, 0.25),
    "sendai": (0.72, 0.55, 0.25, 0.25),
    "sapporo": (0.26, 0.72, 0.25, 0.25)
}


# Define the population change columns and titles
columns = ["MWPT_NDVI", "MWPT_NTL"]
titles = [
    "NDVI MWTP", "NTL MWTP"
]

# Iterate through the variables and plot each separately
for aim_variable, title, vmin, vmax in zip(columns, titles, vmins, vmaxs):
    # Create a new figure
    fig, ax = plt.subplots(figsize=(16, 16), dpi=300)

    # Set the ocean color
    ax.set_facecolor(ocean_color)

    # Plot city boundaries
    #city_gdf.plot(ax=ax, edgecolor='black', alpha=0.3, linewidth=0.2, facecolor='gray')
    city_gdf.boundary.plot(ax=ax, edgecolor='black', alpha=0.3, linewidth=0.1)
    im = city_gdf.plot(column=aim_variable, ax=ax, cmap=cmap, vmin=vmin, vmax=vmax, alpha=0.8, 
                        legend=True,     missing_kwds={
        "color": "gray",        # Color for missing values
        "label": "No Data"      # Label for missing values in the legend
    })

    # Inset plots
    for name, extent in inset_extents.items():
        bbox = box(*extent)  # Create a bounding box
        clipped_city = city_gdf.clip(bbox)  # Clip the city boundaries

        # Create inset plot
        axins = zoomed_inset_axes(ax, zoom=4, bbox_to_anchor=bbox_to_anchor_dict[name], bbox_transform=ax.transAxes)
        axins.set_facecolor(ocean_color)

        # Plot clipped data
        clipped_city.boundary.plot(ax=axins, edgecolor='black', alpha=0.3, linewidth=0.1)
        clipped_city.plot(column=aim_variable, ax=axins, cmap=cmap, vmin=vmin, vmax=vmax, alpha=0.8, 
                                legend=False,     missing_kwds={
                "color": "gray",        # Color for missing values
                "label": "No Data"      # Label for missing values in the legend
            })

        # Set inset limits
        axins.set_xlim(extent[0], extent[2])
        axins.set_ylim(extent[1], extent[3])
        axins.grid(True)
        axins.tick_params(labelsize=5)

        # Mark the inset area on the main plot
        mark_inset(ax, axins, loc1=1, loc2=2, fc="none", ec="0.5")
    
    # Add annotation
    ax.annotate(
        title, 
        xy=(0.01, 0.99), 
        xycoords='axes fraction', 
        fontsize=12, 
        ha='left', 
        va='top', 
        color='black'
    )

    # Set grid and limits for the main plot
    ax.grid(True)
    ax.set_xlim(126, 150)
    ax.set_ylim(26, 47)

    # Save or show the plot
    # Uncomment to save
    fig.savefig(f'04_Figure/Fig_CityLevelMWTP_{aim_variable}.jpg', format='jpg', dpi=300, bbox_inches='tight')

    # Show the plot
    plt.show()


result_gdf_loc.describe()


result_gdf_loc.columns


mean_value = result_gdf_loc[['coeff_ndvi', 'coeff_ntl', 'coeff_income', 'MWPT_NDVI',
       'MWPT_NTL']].mean()


std_values = result_gdf_loc[['coeff_ndvi', 'coeff_ntl', 'coeff_income', 'MWPT_NDVI', 'MWPT_NTL']].std()
n_values = result_gdf_loc[['coeff_ndvi', 'coeff_ntl', 'coeff_income', 'MWPT_NDVI', 'MWPT_NTL']].count()
se_values = std_values / np.sqrt(n_values)


se_values


mean_value - 1.96 * se_values


mean_value + 1.96 * se_values


coeff_ci = pd.concat([mean_value, mean_value - 1.96 * se_values, mean_value + 1.96 * se_values], axis = 1)


coeff_ci.columns = ['Mean', '95% CI Lower Boundary', '95% CI Upper Boundary']


coeff_ci.index = ['Local Marginal Effect Coefficient of NDVI', 'Local Marginal Effect Coefficient NTL', 'Local Marginal Effect  Coefficient Income',
                 'MWTP of NDVI', 'MWTP of NTL']


coeff_ci


coeff_ci.to_excel('03_Results/Summary_MWTP.xlsx')



