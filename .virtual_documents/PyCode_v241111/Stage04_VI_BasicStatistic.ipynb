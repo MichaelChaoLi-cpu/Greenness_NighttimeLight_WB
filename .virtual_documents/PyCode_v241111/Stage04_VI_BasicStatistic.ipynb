


%pwd


%cd ..








from glob import glob
import matplotlib.pyplot as plt
import numpy as np
import pandas as pd








Oh_file_name = glob("01_Data/*_y_Happinessoverall*.csv")
Oh = pd.read_csv(Oh_file_name[0], index_col=0)


Oh


x_file_name = glob("01_Data/*_X_LSoverall*.csv")
df_x = pd.read_csv(x_file_name[0], index_col=0)


df_x.columns


df_x.shape


df_x[['year', 'lat']].groupby('year').count()


x_file_name = glob("01_Data/*_X_LSoverall*.csv")
df_x = pd.read_csv(x_file_name[0], index_col=0)
fig, axs = plt.subplots(nrows=2, ncols=2, figsize=(20, 16), dpi=300)
axs[0,0].hist(Oh, bins = [0.5, 1.5, 2.5, 3.5, 4.5, 5.5],  edgecolor='#D0D2D4', color='#9BC985')
axs[0,0].legend()
axs[0,0].text(0.01, 0.95, "N: 383,173\nMean Happiness: 3.61", 
              fontsize = 14, horizontalalignment = "left", transform=axs[0,0].transAxes,
              ha='left', va='top')
axs[0,0].text(0.01, 0.99, "a", 
              fontsize = 16, horizontalalignment = "left", transform=axs[0,0].transAxes,
              ha='left', va='top', fontweight='bold')
axs[0,0].grid(linestyle='dashed')
axs[0,0].set_xlabel("SWB Happiness", fontsize=15)
axs[0,0].set_ylabel("Frequency", fontsize=15)

axs[0,1].hist(df_x.NDVI, bins=50, color='#F7D58B', edgecolor='#D0D2D4')
axs[0,1].text(0.01, 0.95, "N: 383,173\nMean NDVI: 36.25", 
              fontsize = 14, horizontalalignment = "left", transform=axs[0,1].transAxes,
              ha='left', va='top')
axs[0,1].text(0.01, 0.99, "b", 
              fontsize = 16, horizontalalignment = "left", transform=axs[0,1].transAxes,
              ha='left', va='top', fontweight='bold')
axs[0,1].grid(linestyle='dashed')
axs[0,1].set_xlabel("NDVI (%)", fontsize=15)
axs[0,1].set_ylabel("Frequency", fontsize=15)

axs[1,0].hist(df_x.NTL, bins=50, color='#B595BF', edgecolor='#D0D2D4')
axs[1,0].text(0.70, 0.95, "N: 383,173\nMean NTL: 18.59", 
              fontsize = 14, horizontalalignment = "left", transform=axs[1,0].transAxes,
              ha='left', va='top')
axs[1,0].text(0.97, 0.99, "c", 
              fontsize = 16, horizontalalignment = "left", transform=axs[1,0].transAxes,
              ha='left', va='top', fontweight='bold')
axs[1,0].grid(linestyle='dashed')
axs[1,0].set_xlabel("NTL (nw/$cm^2$ sr)", fontsize=15)
axs[1,0].set_ylabel("Frequency", fontsize=15)

axs[1,1].hist(df_x.income_indiv, color='#797BB7', edgecolor='#D0D2D4', bins=28)
axs[1,1].text(0.70, 0.95, "N: 383,173\nMean Income: 4.69", 
              fontsize = 14, horizontalalignment = "left", transform=axs[1,1].transAxes,
              ha='left', va='top')
axs[1,1].text(0.97, 0.99, "d", 
              fontsize = 16, horizontalalignment = "left", transform=axs[1,1].transAxes,
              ha='left', va='top', fontweight='bold')
axs[1,1].grid(linestyle='dashed')
axs[1,1].set_xlabel("Income (Million)", fontsize=15)
axs[1,1].set_ylabel("Frequency", fontsize=15)

plt.show();
fig.savefig("11_Figure/FigXX_Distribution_output.jpg",
            dpi = 300, bbox_inches='tight')









