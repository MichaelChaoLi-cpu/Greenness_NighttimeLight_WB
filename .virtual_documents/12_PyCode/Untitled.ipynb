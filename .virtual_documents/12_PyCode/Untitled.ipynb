


%pwd


%cd ..








import numpy as np
import pandas as pd








result_df_ndvi = pd.read_excel('13_Results/PdpConnectionCoef/PdpConnection_NDVI.xlsx', index_col = 0)


result_df_ndvi.loc[result_df_ndvi['r2'] < 0.5, 'coeff'] = 0


result_df_ndvi_loc = result_df_ndvi.drop_duplicates()


result_df_ndvi_loc = result_df_ndvi_loc[['lat', 'lon', 'coeff']]


result_df_ndvi_loc.columns = ['lat', 'lon', 'coeff_ndvi']


result_df_ntl = pd.read_excel('13_Results/PdpConnectionCoef/PdpConnection_NTL.xlsx', index_col = 0)


result_df_ntl.loc[result_df_ntl['r2'] < 0.5, 'coeff'] = 0


result_df_ntl_loc = result_df_ntl.drop_duplicates()


result_df_ntl_loc = result_df_ntl_loc[['lat', 'lon', 'coeff']]


result_df_ntl_loc.columns = ['lat', 'lon', 'coeff_ntl']


result_df_income = pd.read_excel('13_Results/PdpConnectionCoef/PdpConnection_income_indiv.xlsx', index_col = 0)


result_df_income.loc[result_df_income['r2'] < 0.5, 'coeff'] = 0


result_df_income_loc = result_df_income.drop_duplicates()


result_df_income_loc = result_df_income_loc[['lat', 'lon', 'coeff']]


result_df_income_loc.columns = ['lat', 'lon', 'coeff_income']


merged_df = pd.merge(result_df_ndvi_loc, result_df_ntl_loc, on=['lat', 'lon'], how='left')
result_df_loc_merge = pd.merge(merged_df, result_df_income_loc, on=['lat', 'lon'], how='left')


result_df_loc_merge['MWPT_NDVI'] = result_df_loc_merge['coeff_ndvi'] / result_df_loc_merge['coeff_income'] / 120.96 * 1_000_000


result_df_loc_merge['MWPT_NTL'] = result_df_loc_merge['coeff_ntl'] / result_df_loc_merge['coeff_income'] / 120.96 * 1_000_000


result_df_loc_merge = result_df_loc_merge.groupby(['lat', 'lon']).mean()


result_df_loc_merge = result_df_loc_merge.reset_index()


result_df_loc_merge = result_df_loc_merge.replace([np.inf, -np.inf], 0)
result_df_loc_merge = result_df_loc_merge.fillna(0)


result_df_loc_merge.shape


result_df_loc_merge.describe()


np.quantile(result_df_loc_merge['MWPT_NDVI'], .99)


np.quantile(result_df_loc_merge['MWPT_NTL'], .99)


np.quantile(result_df_loc_merge['MWPT_NDVI'], .01)


np.quantile(result_df_loc_merge['MWPT_NTL'], .01)


lines = []
for name in result_df_loc_merge.columns[2:]:
    line = [np.mean(result_df_loc_merge[name]), np.quantile(result_df_loc_merge[name], .005),
            np.quantile(result_df_loc_merge[name], .025), np.quantile(result_df_loc_merge[name], .5),
            np.quantile(result_df_loc_merge[name], .25), np.quantile(result_df_loc_merge[name], .50), 
            np.quantile(result_df_loc_merge[name], .75), np.quantile(result_df_loc_merge[name], .95),
            np.quantile(result_df_loc_merge[name], .975), np.quantile(result_df_loc_merge[name], .995),]
    lines.append(line)


data_summary = pd.DataFrame(lines)


data_summary.columns = ['Mean', "0.5% Quantile", "2.5% Quantile", "5% Quantile",
                        "25% Quantile", "50% Quantile",
                        "75% Quantile", "95% Quantile", "97.5% Quantile", "99.5% Quantile",]


data_summary.index = ['Local Marginal Effect Coefficient of NDVI', 'Local Marginal Effect Coefficient NTL', 'Local Marginal Effect  Coefficient Income', 'MWTP of NDVI', 'MWTP of NTL']


data_summary


data_summary.to_excel('13_Results/Table02_summaryTable.xlsx')



