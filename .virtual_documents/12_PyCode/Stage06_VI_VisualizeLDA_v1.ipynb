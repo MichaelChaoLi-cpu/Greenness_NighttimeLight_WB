


%pwd


%cd ..








import geopandas as gpd
from glob import glob
import matplotlib.colors
import matplotlib.patches as mpatches
import matplotlib.pyplot as plt
from mpl_toolkits.axes_grid1.inset_locator import zoomed_inset_axes, mark_inset
import numpy as np
import pandas as pd
from shapely.geometry import Point
from shapely.geometry import box
from shapely.ops import unary_union








count_list = []





result_df_ndvi = pd.read_excel('03_Results/PdpConnectionCoef/PdpConnection_NDVI.xlsx', index_col = 0)


result_df_ndvi.loc[result_df_ndvi['r2'] < 0.5, 'coeff'] = 0


result_df_ndvi['polar'] = result_df_ndvi['coeff'].apply(lambda x: -1 if x < 0 else (1 if x > 0 else 0))


result_df_ndvi['coeff'].mean()


individual_count = result_df_ndvi['polar'].groupby(result_df_ndvi['polar']).count()


individual_count


count_list.append(individual_count)


result_df_ndvi_loc = result_df_ndvi.groupby(['lon', 'lat']).mean().reset_index()


result_df_ndvi_loc.shape


result_df_ndvi_loc['coeff'].mean()


result_df_ndvi_loc['polar'] = result_df_ndvi_loc['polar'].apply(lambda x: -1 if x < 0 else (1 if x > 0 else 0))


individual_count = result_df_ndvi_loc['polar'].groupby(result_df_ndvi_loc['polar']).count()


individual_count


count_list.append(individual_count)








result_df_ndvi = pd.read_excel('03_Results/PdpConnectionCoef/PdpConnection_NTL.xlsx', index_col = 0)


result_df_ndvi.loc[result_df_ndvi['r2'] < 0.5, 'coeff'] = 0


result_df_ndvi['polar'] = result_df_ndvi['coeff'].apply(lambda x: -1 if x < 0 else (1 if x > 0 else 0))


result_df_ndvi['coeff'].mean()


individual_count = result_df_ndvi['polar'].groupby(result_df_ndvi['polar']).count()


individual_count


count_list.append(individual_count)


result_df_ndvi_loc = result_df_ndvi.groupby(['lon', 'lat']).mean().reset_index()


result_df_ndvi_loc.shape


result_df_ndvi_loc['coeff'].mean()


result_df_ndvi_loc['polar'] = result_df_ndvi_loc['polar'].apply(lambda x: -1 if x < 0 else (1 if x > 0 else 0))


individual_count = result_df_ndvi_loc['polar'].groupby(result_df_ndvi_loc['polar']).count()


individual_count


count_list.append(individual_count)








result_df_ndvi = pd.read_excel('03_Results/PdpConnectionCoef/PdpConnection_income_indiv.xlsx', index_col = 0)


result_df_ndvi.loc[result_df_ndvi['r2'] < 0.5, 'coeff'] = 0


result_df_ndvi['polar'] = result_df_ndvi['coeff'].apply(lambda x: -1 if x < 0 else (1 if x > 0 else 0))


result_df_ndvi['coeff'].mean()


individual_count = result_df_ndvi['polar'].groupby(result_df_ndvi['polar']).count()


individual_count


count_list.append(individual_count)


result_df_ndvi_loc = result_df_ndvi.groupby(['lon', 'lat']).mean().reset_index()


result_df_ndvi_loc.shape


result_df_ndvi_loc['polar'] = result_df_ndvi_loc['polar'].apply(lambda x: -1 if x < 0 else (1 if x > 0 else 0))


individual_count = result_df_ndvi_loc['polar'].groupby(result_df_ndvi_loc['polar']).count()


result_df_ndvi_loc['coeff'].mean()


individual_count


count_list.append(individual_count)


pd.concat(count_list, axis=1).T.to_excel('03_Results/LocalPDA_Summary.xlsx')


pd.concat(count_list, axis=1).T











shapefile_path = '01_Data/N03-20_200101.shp'
city_gdf = gpd.read_file(shapefile_path)


perfecture_gdf = city_gdf.groupby(city_gdf.N03_001).geometry.apply(unary_union)


perfecture_gdf = gpd.GeoDataFrame(geometry=perfecture_gdf).reset_index()


perfecture_gdf.head(20)


perfecture_gdf['Name'] = [
    'Mie','Kyoto', 'Saga',
    'Hyogo', 'Hokkaido', 'Chiba',
    'Wakayama', 'Saitama',  'Oita',
    'Osaka', 'Nara', 'Miyagi',
    'Miyazaki',  'Toyama', 'Yamaguchi',
    'Yamagata', 'Yamanashi', 'Gifu',
    'Okayama',  'Iwate', 'Shimane',
    'Hiroshima',  'Tokushima', 'Ehime',
    'Aichi', 'Niigata', 'Tokyo',
    'Tochigi', 'Okinawa', 'Shiga',
    'Kumamoto', 'Ishikawa', 'Kanagawa',
    'Fukui', 'Fukuoka', 'Fukushima',
    'Akita',  'Gunma', 'Ibaraki',
    'Nagasaki', 'Nagano','Aomori',
    'Shizuoka','Kagawa', 'Kochi',
    'Tottori','Kagoshima'
]


japan_prefecture_rank = {
    1: 'Hokkaido',
    2: 'Aomori',
    3: 'Iwate',
    4: 'Miyagi',
    5: 'Akita',
    6: 'Yamagata',
    7: 'Fukushima',
    8: 'Ibaraki',
    9: 'Tochigi',
    10: 'Gunma',
    11: 'Saitama',
    12: 'Chiba',
    13: 'Tokyo',
    14: 'Kanagawa',
    15: 'Niigata',
    16: 'Toyama',
    17: 'Ishikawa',
    18: 'Fukui',
    19: 'Yamanashi',
    20: 'Nagano',
    21: 'Gifu',
    22: 'Shizuoka',
    23: 'Aichi',
    24: 'Mie',
    25: 'Shiga',
    26: 'Kyoto',
    27: 'Osaka',
    28: 'Hyogo',
    29: 'Nara',
    30: 'Wakayama',
    31: 'Tottori',
    32: 'Shimane',
    33: 'Okayama',
    34: 'Hiroshima',
    35: 'Yamaguchi',
    36: 'Tokushima',
    37: 'Kagawa',
    38: 'Ehime',
    39: 'Kochi',
    40: 'Fukuoka',
    41: 'Saga',
    42: 'Nagasaki',
    43: 'Kumamoto',
    44: 'Oita',
    45: 'Miyazaki',
    46: 'Kagoshima',
    47: 'Okinawa'
}



# Step 2: Reverse the dictionary to map names → JIS code
name_to_rank = {v: k for k, v in japan_prefecture_rank.items()}

# Step 3: Map the rank to the 'Name' column
perfecture_gdf['JIS_Code'] = perfecture_gdf['Name'].map(name_to_rank)


perfecture_gdf.head()








shapefile_path = '01_Data/N03-20_200101.shp'
city_gdf = gpd.read_file(shapefile_path)


city_gdf = city_gdf[['N03_007', 'geometry']]
city_gdf = city_gdf.set_index('N03_007')
city_gdf = city_gdf.groupby(city_gdf.index).geometry.apply(unary_union)


city_gdf = gpd.GeoDataFrame(geometry=city_gdf)
city_gdf = city_gdf.reset_index()
city_gdf.columns = ['Code', 'geometry']
city_gdf.Code = city_gdf.Code.astype(int)


city_gdf.set_crs(epsg=4326, inplace=True)














result_df_ndvi = pd.read_excel('03_Results/PdpConnectionCoef/PdpConnection_NDVI.xlsx', index_col = 0)


result_df_ndvi.loc[result_df_ndvi['r2'] < 0.5, 'coeff'] = 0


result_df_ndvi_loc = result_df_ndvi.drop_duplicates()


result_df_ndvi_loc = result_df_ndvi_loc[['lat', 'lon', 'coeff']]


result_df_ndvi_loc.columns = ['lat', 'lon', 'coeff_ndvi']


result_df_ntl = pd.read_excel('03_Results/PdpConnectionCoef/PdpConnection_NTL.xlsx', index_col = 0)


result_df_ntl.loc[result_df_ntl['r2'] < 0.5, 'coeff'] = 0


result_df_ntl_loc = result_df_ntl.drop_duplicates()


result_df_ntl_loc = result_df_ntl_loc[['lat', 'lon', 'coeff']]


result_df_ntl_loc.columns = ['lat', 'lon', 'coeff_ntl']


result_df_income = pd.read_excel('03_Results/PdpConnectionCoef/PdpConnection_income_indiv.xlsx', index_col = 0)


result_df_income.loc[result_df_income['r2'] < 0.5, 'coeff'] = 0


result_df_income_loc = result_df_income.drop_duplicates()


result_df_income_loc = result_df_income_loc[['lat', 'lon', 'coeff']]


result_df_income_loc.columns = ['lat', 'lon', 'coeff_income']


merged_df = pd.merge(result_df_ndvi_loc, result_df_ntl_loc, on=['lat', 'lon'], how='left')
result_df_loc_merge = pd.merge(merged_df, result_df_income_loc, on=['lat', 'lon'], how='left')


result_df_loc_merge = result_df_loc_merge.groupby(['lat', 'lon']).mean()


result_df_loc_merge = result_df_loc_merge.reset_index()


def create_geometry(row):
    return Point(row['lon'], row['lat'])


result_df_loc_merge['geometry'] = result_df_loc_merge.apply(create_geometry, axis=1)


crs = "EPSG:4326"
result_gdf_loc = gpd.GeoDataFrame(result_df_loc_merge, geometry='geometry', crs=crs)


result_gdf_loc.describe()








X_list = glob.glob("01_Data/*_X_Happi*.csv")
DataX = pd.read_csv(X_list[0], index_col=0)


DataX = DataX[['lat', 'lon', 'NDVI', 'NTL', 'income_indiv']]


DataX = DataX.groupby(['lat', 'lon']).mean()


DataX = DataX.reset_index()


DataX


result_df_loc_merge


data_merge = pd.merge(DataX, result_df_loc_merge, on = ['lat','lon'])


data_merge


data_merge['coeff_ndvi'].corr(data_merge['NDVI'])











cmap = matplotlib.colors.LinearSegmentedColormap.from_list("", ["blue","green", "white", "yellow", "red"])


vmins = [-0.002, -0.003, -0.02]
vmaxs = [0.002, 0.003, 0.02]





ocean_color = '#d0f0fd'



# Define the population change columns and titles
columns = ["coeff_ndvi", "coeff_ntl", "coeff_income"]
titles = [
    "NDVI Coefficient", "NTL Coefficient",
    "Income Coefficient"
]

# Iterate through the variables and plot each separately
for aim_variable, title, vmin, vmax in zip(columns, titles, vmins, vmaxs):
    # Create a new figure
    fig, ax = plt.subplots(figsize=(16, 16), dpi=300)

    # Set the ocean color
    ax.set_facecolor(ocean_color)

    # Plot city boundaries
    city_gdf.plot(ax=ax, edgecolor='black', alpha=0.3, linewidth=0.2, facecolor='gray')
    
    perfecture_gdf.boundary.plot(ax=ax, edgecolor='dimgray', linewidth=0.5)

    # Annotate each prefecture with its name
    for idx, row in perfecture_gdf.iterrows():
        if row.geometry.is_empty or row.geometry.centroid.is_empty:
            continue  # skip invalid geometries
    
        centroid = row.geometry.centroid
        ax.annotate(
            text=row['JIS_Code'],
            xy=(centroid.x, centroid.y),
            ha='center',
            va='center',
            fontsize=10,
            color='black'
        )
    
    collection = result_gdf_loc.plot(
        column=aim_variable, 
        ax=ax, 
        cmap=cmap, 
        vmin=vmin, 
        vmax=vmax, 
        alpha=0.8, 
        markersize=0.2, 
        legend=True
    )

    inset_params = {
        'Tokyo':     {'bbox': (139.2, 35, 140.8, 36),      'anchor': (0.75, 0.1, 0.25, 0.25)},
        'Nagoya':    {'bbox': (136.7, 35, 137.2, 35.4),    'anchor': (0.4, 0.06, 0.25, 0.25)},
        'Osaka':     {'bbox': (135.3, 34.5, 135.8, 34.9),  'anchor': (0.25, 0.06, 0.25, 0.25)},
        'Fukuoka':   {'bbox': (130.1, 33.3, 130.7, 33.7),  'anchor': (0.02, 0.35, 0.25, 0.25)},
        'Sendai':    {'bbox': (140.6, 38.1, 141.1, 38.5),  'anchor': (0.72, 0.55, 0.25, 0.25)},
        'Sapporo':   {'bbox': (141.1, 42.9, 141.6, 43.3),  'anchor': (0.26, 0.72, 0.25, 0.25)}
    }
    
    for name, config in inset_params.items():
        extent = config['bbox']
        anchor = config['anchor']
        
        # Create a bounding box geometry for clipping
        bbox = box(*extent)
        
        # Clip the GeoDataFrames to the bounding box
        clipped_city = city_gdf.clip(bbox)
        clipped_result_gdf_loc = result_gdf_loc.clip(bbox)
        clipped_perfecture_gdf = perfecture_gdf.clip(bbox)
    
        # Create the inset axis
        axins = zoomed_inset_axes(ax, zoom=4, bbox_to_anchor=anchor, bbox_transform=ax.transAxes)
        axins.set_facecolor(ocean_color)
    
        # Plot clipped city boundary and result points
        clipped_city.plot(ax=axins, edgecolor='black', alpha=0.3, linewidth=0.2, facecolor='gray')
        clipped_perfecture_gdf.boundary.plot(ax=axins, edgecolor='dimgray', linewidth=0.7)
        clipped_result_gdf_loc.plot(
            column=aim_variable, 
            ax=axins, 
            cmap=cmap, 
            vmin=vmin, 
            vmax=vmax, 
            alpha=0.8, 
            markersize=0.2, 
            legend=False
        )
    
        # Set inset extent and appearance
        axins.set_xlim(extent[0], extent[2])
        axins.set_ylim(extent[1], extent[3])
        axins.grid(True)
        axins.tick_params(labelsize=5)
    
        # Mark the zoomed area on the main map
        mark_inset(ax, axins, loc1=1, loc2=2, fc="none", ec="0.5")
    
    # Add annotation
    ax.annotate(
        title, 
        xy=(0.01, 0.99), 
        xycoords='axes fraction', 
        fontsize=12, 
        ha='left', 
        va='top', 
        color='black'
    )

    rows = perfecture_gdf[['JIS_Code', 'Name']]\
    .sort_values(by='JIS_Code')\
    .reset_index(drop=True)

    chunks = [rows.iloc[i::3] for i in range(3)]

    # Format each column
    col_texts = []
    for chunk in chunks:
        col_text = "\n".join(f"{row['JIS_Code']:>2}: {row['Name']}" for _, row in chunk.iterrows())
        col_texts.append(col_text)
    
    # Display each column with adjusted x-positions
    x_positions = [0.01, 0.15, 0.29]  # Adjust horizontal position per column
    y_position = 0.95  # Starting y-position
    
    for x, text in zip(x_positions, col_texts):
        ax.text(
            x, y_position,
            text,
            transform=ax.transAxes,
            fontsize=8,
            va='top',
            ha='left',
            linespacing=1.2,
            family='monospace'
        )


    # Set grid and limits for the main plot
    ax.grid(True)
    ax.set_xlim(126, 150)
    ax.set_ylim(26, 47)

    # Save or show the plot
    # Uncomment to save
    fig.savefig(f'04_Figure/Fig_CityLevelMWTP_{aim_variable}_refine_rev1.jpg', format='jpg', dpi=300, bbox_inches='tight')

    # Show the plot
    plt.show()












result_df_ndvi = pd.read_excel('03_Results/PdpConnectionCoef/PdpConnection_NDVI.xlsx', index_col = 0)


result_df_ndvi.loc[result_df_ndvi['r2'] < 0.5, 'coeff'] = 0


result_df_ndvi_loc = result_df_ndvi.drop_duplicates()


result_df_ndvi_loc = result_df_ndvi_loc[['lat', 'lon', 'coeff']]


result_df_ndvi_loc.columns = ['lat', 'lon', 'coeff_ndvi']


result_df_ntl = pd.read_excel('03_Results/PdpConnectionCoef/PdpConnection_NTL.xlsx', index_col = 0)


result_df_ntl.loc[result_df_ntl['r2'] < 0.5, 'coeff'] = 0


result_df_ntl_loc = result_df_ntl.drop_duplicates()


result_df_ntl_loc = result_df_ntl_loc[['lat', 'lon', 'coeff']]


result_df_ntl_loc.columns = ['lat', 'lon', 'coeff_ntl']


result_df_income = pd.read_excel('03_Results/PdpConnectionCoef/PdpConnection_income_indiv.xlsx', index_col = 0)


result_df_income.loc[result_df_income['r2'] < 0.5, 'coeff'] = 0


result_df_income_loc = result_df_income.drop_duplicates()


result_df_income_loc = result_df_income_loc[['lat', 'lon', 'coeff']]


result_df_income_loc.columns = ['lat', 'lon', 'coeff_income']


merged_df = pd.merge(result_df_ndvi_loc, result_df_ntl_loc, on=['lat', 'lon'], how='left')
result_df_loc_merge = pd.merge(merged_df, result_df_income_loc, on=['lat', 'lon'], how='left')


result_df_loc_merge['MWPT_NDVI'] = result_df_loc_merge['coeff_ndvi'] / result_df_loc_merge['coeff_income'] / 120.96 * 1_000_000


result_df_loc_merge['MWPT_NTL'] = result_df_loc_merge['coeff_ntl'] / result_df_loc_merge['coeff_income'] / 120.96 * 1_000_000


result_df_loc_merge = result_df_loc_merge.groupby(['lat', 'lon']).mean()


result_df_loc_merge = result_df_loc_merge.reset_index()


result_df_loc_merge = result_df_loc_merge.replace([np.inf, -np.inf], 0)
result_df_loc_merge = result_df_loc_merge.fillna(0)


result_df_loc_merge


def create_geometry(row):
    return Point(row['lon'], row['lat'])


result_df_loc_merge['geometry'] = result_df_loc_merge.apply(create_geometry, axis=1)


crs = "EPSG:4326"
result_gdf_loc = gpd.GeoDataFrame(result_df_loc_merge, geometry='geometry', crs=crs)


result_gdf_loc.describe()


city_gdf['Code']


city_gdf.crs


result_gdf_loc


result_gdf_loc_with_code = gpd.sjoin(
    result_gdf_loc, 
    city_gdf[['Code', 'geometry']],  # Only keep 'Code' and geometry columns from city_gdf
    how="left",                     # Use 'left' join to keep all points
    predicate="within"              # Join points within polygons
)


result_gdf_loc_with_code.shape


result_gdf_loc_with_code = result_gdf_loc_with_code.dropna()


result_gdf_loc_with_code.columns


result_gdf_loc_with_code = result_gdf_loc_with_code[['MWPT_NDVI','MWPT_NTL','Code']]


result_gdf_loc_with_code['Code'] = result_gdf_loc_with_code['Code'].astype(int)


result_gdf_loc_with_code.groupby('Code').mean()


result_gdf_loc_with_code.describe()


bin_edges = np.linspace(-5000, 5000, 31)  # 30 bins => 31 edges

plt.figure(figsize=(8, 6))
plt.hist(result_gdf_loc_with_code['MWPT_NDVI'], bins=bin_edges, color='blue', edgecolor='black', alpha=0.7)

# Add labels and title
plt.title("Histogram of MWPT_NDVI", fontsize=14)
plt.xlabel("MWPT_NDVI", fontsize=12)
plt.ylabel("Frequency", fontsize=12)

# Show the plot
plt.grid(axis='y', linestyle='--', alpha=0.7)
plt.show()


bin_edges = np.linspace(-5000, 5000, 31)  # 30 bins => 31 edges

plt.figure(figsize=(8, 6))
plt.hist(result_gdf_loc_with_code['MWPT_NTL'], bins=bin_edges, color='blue', edgecolor='black', alpha=0.7)

# Add labels and title
plt.title("Histogram of MWPT_NDVI", fontsize=14)
plt.xlabel("MWPT_NDVI", fontsize=12)
plt.ylabel("Frequency", fontsize=12)

# Show the plot
plt.grid(axis='y', linestyle='--', alpha=0.7)
plt.show()


city_gdf = city_gdf.merge(result_gdf_loc_with_code, on = 'Code', how = 'left')


type(city_gdf)


city_gdf.columns





shapefile_path = '01_Data/N03-20_200101.shp'
city_gdf = gpd.read_file(shapefile_path)


city_gdf = city_gdf[['N03_007', 'geometry']]
city_gdf = city_gdf.set_index('N03_007')
city_gdf = city_gdf.groupby(city_gdf.index).geometry.apply(unary_union)


city_gdf = gpd.GeoDataFrame(geometry=city_gdf)
city_gdf = city_gdf.reset_index()
city_gdf.columns = ['Code', 'geometry']
city_gdf.Code = city_gdf.Code.astype(int)


city_gdf.set_crs(epsg=4326, inplace=True)








cmap = matplotlib.colors.LinearSegmentedColormap.from_list("", ["blue","green", 'white', "yellow", "red"])


vmins = [-1000, -2000]
vmaxs = [1000, 2000]


ocean_color = '#d0f0fd'


inset_extents = {
    "tokyo": [139.2, 35.0, 140.8, 36.0],
    "nagoya": [136.7, 35.0, 137.2, 35.4],
    "osaka": [135.3, 34.5, 135.8, 34.9],
    "fukuoka": [130.1, 33.3, 130.7, 33.7],
    "sendai": [140.6, 38.1, 141.1, 38.5],
    "sapporo": [141.1, 42.9, 141.6, 43.3]
}
bbox_to_anchor_dict = {
    "tokyo": (0.75, 0.1, 0.25, 0.25),
    "nagoya": (0.4, 0.06, 0.25, 0.25),
    "osaka": (0.25, 0.06, 0.25, 0.25),
    "fukuoka": (0.02, 0.35, 0.25, 0.25),
    "sendai": (0.72, 0.55, 0.25, 0.25),
    "sapporo": (0.26, 0.72, 0.25, 0.25)
}


# Define the population change columns and titles
columns = ["MWPT_NDVI", "MWPT_NTL"]
titles = [
    "NDVI MWTP", "NTL MWTP"
]



result_gdf_loc_with_code.shape


result_gdf_loc_with_code.head()


city_gdf.head()


# Iterate through the variables and plot each separately
for aim_variable, title, vmin, vmax in zip(columns, titles, vmins, vmaxs):
    # Create a new figure
    fig, ax = plt.subplots(figsize=(16, 16), dpi=300)

    # Set the ocean color
    ax.set_facecolor(ocean_color)

    # Plot city boundaries
    city_gdf.plot(ax=ax, edgecolor='black', alpha=0.3, linewidth=0.2, facecolor='gray')
    
    perfecture_gdf.boundary.plot(ax=ax, edgecolor='dimgray', linewidth=0.5)

    # Annotate each prefecture with its name
    for idx, row in perfecture_gdf.iterrows():
        if row.geometry.is_empty or row.geometry.centroid.is_empty:
            continue  # skip invalid geometries
    
        centroid = row.geometry.centroid
        ax.annotate(
            text=row['JIS_Code'],
            xy=(centroid.x, centroid.y),
            ha='center',
            va='center',
            fontsize=10,
            color='black'
        )
    
    collection = result_gdf_loc.plot(
        column=aim_variable, 
        ax=ax, 
        cmap=cmap, 
        vmin=vmin, 
        vmax=vmax, 
        alpha=0.8, 
        markersize=0.2, 
        legend=True
    )

    inset_params = {
        'Tokyo':     {'bbox': (139.2, 35, 140.8, 36),      'anchor': (0.75, 0.1, 0.25, 0.25)},
        'Nagoya':    {'bbox': (136.7, 35, 137.2, 35.4),    'anchor': (0.4, 0.06, 0.25, 0.25)},
        'Osaka':     {'bbox': (135.3, 34.5, 135.8, 34.9),  'anchor': (0.25, 0.06, 0.25, 0.25)},
        'Fukuoka':   {'bbox': (130.1, 33.3, 130.7, 33.7),  'anchor': (0.02, 0.35, 0.25, 0.25)},
        'Sendai':    {'bbox': (140.6, 38.1, 141.1, 38.5),  'anchor': (0.72, 0.55, 0.25, 0.25)},
        'Sapporo':   {'bbox': (141.1, 42.9, 141.6, 43.3),  'anchor': (0.26, 0.72, 0.25, 0.25)}
    }
    
    for name, config in inset_params.items():
        extent = config['bbox']
        anchor = config['anchor']
        
        # Create a bounding box geometry for clipping
        bbox = box(*extent)
        
        # Clip the GeoDataFrames to the bounding box
        clipped_city = city_gdf.clip(bbox)
        clipped_result_gdf_loc = result_gdf_loc.clip(bbox)
        clipped_perfecture_gdf = perfecture_gdf.clip(bbox)
    
        # Create the inset axis
        axins = zoomed_inset_axes(ax, zoom=4, bbox_to_anchor=anchor, bbox_transform=ax.transAxes)
        axins.set_facecolor(ocean_color)
    
        # Plot clipped city boundary and result points
        clipped_city.plot(ax=axins, edgecolor='black', alpha=0.3, linewidth=0.2, facecolor='gray')
        clipped_perfecture_gdf.boundary.plot(ax=axins, edgecolor='dimgray', linewidth=0.7)
        clipped_result_gdf_loc.plot(
            column=aim_variable, 
            ax=axins, 
            cmap=cmap, 
            vmin=vmin, 
            vmax=vmax, 
            alpha=0.8, 
            markersize=0.2, 
            legend=False
        )
    
        # Set inset extent and appearance
        axins.set_xlim(extent[0], extent[2])
        axins.set_ylim(extent[1], extent[3])
        axins.grid(True)
        axins.tick_params(labelsize=5)
    
        # Mark the zoomed area on the main map
        mark_inset(ax, axins, loc1=1, loc2=2, fc="none", ec="0.5")
    
    # Add annotation
    ax.annotate(
        title, 
        xy=(0.01, 0.99), 
        xycoords='axes fraction', 
        fontsize=12, 
        ha='left', 
        va='top', 
        color='black'
    )

    rows = perfecture_gdf[['JIS_Code', 'Name']]\
    .sort_values(by='JIS_Code')\
    .reset_index(drop=True)

    chunks = [rows.iloc[i::3] for i in range(3)]

    # Format each column
    col_texts = []
    for chunk in chunks:
        col_text = "\n".join(f"{row['JIS_Code']:>2}: {row['Name']}" for _, row in chunk.iterrows())
        col_texts.append(col_text)
    
    # Display each column with adjusted x-positions
    x_positions = [0.01, 0.15, 0.29]  # Adjust horizontal position per column
    y_position = 0.95  # Starting y-position
    
    for x, text in zip(x_positions, col_texts):
        ax.text(
            x, y_position,
            text,
            transform=ax.transAxes,
            fontsize=8,
            va='top',
            ha='left',
            linespacing=1.2,
            family='monospace'
        )


    # Set grid and limits for the main plot
    ax.grid(True)
    ax.set_xlim(126, 150)
    ax.set_ylim(26, 47)

    # Save or show the plot
    # Uncomment to save
    fig.savefig(f'04_Figure/Fig_CityLevelMWTP_{aim_variable}_refine_rev1.jpg', format='jpg', dpi=300, bbox_inches='tight')

    # Show the plot
    plt.show()


result_gdf_loc.describe()


result_gdf_loc.columns








result_gdf_loc.shape


mean_value = result_gdf_loc[['coeff_ndvi', 'coeff_ntl', 'coeff_income', 'MWPT_NDVI',
       'MWPT_NTL']].mean()


std_values = result_gdf_loc[['coeff_ndvi', 'coeff_ntl', 'coeff_income', 'MWPT_NDVI', 'MWPT_NTL']].std()
n_values = result_gdf_loc[['coeff_ndvi', 'coeff_ntl', 'coeff_income', 'MWPT_NDVI', 'MWPT_NTL']].count()
se_values = std_values / np.sqrt(n_values)


se_values


mean_value - 1.96 * se_values


mean_value + 1.96 * se_values


coeff_ci = pd.concat([mean_value, mean_value - 1.96 * se_values, mean_value + 1.96 * se_values], axis = 1)


coeff_ci.columns = ['Mean', '95% CI Lower Boundary', '95% CI Upper Boundary']


coeff_ci.index = ['Local Marginal Effect Coefficient of NDVI', 'Local Marginal Effect Coefficient NTL', 'Local Marginal Effect  Coefficient Income',
                 'MWTP of NDVI', 'MWTP of NTL']


coeff_ci


coeff_ci.to_excel('03_Results/Summary_MWTP.xlsx')








import geopandas as gpd
import numpy as np
from shapely.geometry import box

# Parameters
block_size = 1.0  # degrees — adjust to control block scale

# Get bounds
xmin, ymin, xmax, ymax = result_gdf_loc.total_bounds

# Create grid blocks
x_coords = np.arange(xmin, xmax, block_size)
y_coords = np.arange(ymin, ymax, block_size)

blocks = []
for x in x_coords:
    for y in y_coords:
        b = box(x, y, x + block_size, y + block_size)
        blocks.append(b)

block_gdf = gpd.GeoDataFrame({'geometry': blocks}, crs=result_gdf_loc.crs)


# Spatial join: assign each point to a block
result_with_block = gpd.sjoin(result_gdf_loc, block_gdf.reset_index().rename(columns={'index': 'block_id'}), how='left')


from tqdm import tqdm

n_boot = 100000
boot_means = {col: [] for col in ['coeff_ndvi', 'coeff_ntl', 'coeff_income', 'MWPT_NDVI',
       'MWPT_NTL']}

block_ids = result_with_block['block_id'].dropna().unique()

for _ in tqdm(range(n_boot)):
    sampled_blocks = np.random.choice(block_ids, size=len(block_ids), replace=True)
    boot_sample = result_with_block[result_with_block['block_id'].isin(sampled_blocks)]
    
    for col in boot_means.keys():
        boot_means[col].append(boot_sample[col].mean())


se_bootstrap = {col: np.std(boot_means[col], ddof=1) for col in boot_means}
print("Spatially robust standard errors (block bootstrap):")
print(se_bootstrap)

















x_file_name = glob("01_Data/*_X_LSoverall*.csv")
df_x = pd.read_csv(x_file_name[0], index_col=0)


Oh_file_name = glob("01_Data/*_y_Happinessoverall*.csv")
Oh = pd.read_csv(Oh_file_name[0], index_col=0)


Oh.columns


df_x['overall_happiness'] = Oh['overall_happiness']


df_x.columns


df_x = df_x[['income_indiv', 'NDVI', 'NTL', 'overall_happiness', 'lat', 'lon']]


df_x_agg = df_x.groupby(['lat', 'lon']).mean().reset_index()


df_x_agg


result_gdf_loc = pd.merge(result_gdf_loc, df_x_agg, on=['lat', 'lon'], how='left')


result_gdf_loc.head()








bin_edges = np.linspace(1, 5, 31)  # 30 bins => 31 edges

plt.figure(figsize=(8, 6))
plt.hist(result_gdf_loc['overall_happiness'], bins=bin_edges, color='blue', edgecolor='black', alpha=0.7)


# Show the plot
plt.grid(axis='y', linestyle='--', alpha=0.7)
plt.show()


bin_edges = np.linspace(0, 90, 31)  # 30 bins => 31 edges

plt.figure(figsize=(8, 6))
plt.hist(result_gdf_loc['NDVI'], bins=bin_edges, color='blue', edgecolor='black', alpha=0.7)


# Show the plot
plt.grid(axis='y', linestyle='--', alpha=0.7)
plt.show()


bin_edges = np.linspace(0, 90, 31)  # 30 bins => 31 edges

plt.figure(figsize=(8, 6))
plt.hist(result_gdf_loc['NTL'], bins=bin_edges, color='blue', edgecolor='black', alpha=0.7)


# Show the plot
plt.grid(axis='y', linestyle='--', alpha=0.7)
plt.show()


bin_edges = np.linspace(0, 30, 31)  # 30 bins => 31 edges

plt.figure(figsize=(8, 6))
plt.hist(result_gdf_loc['income_indiv'], bins=bin_edges, color='blue', edgecolor='black', alpha=0.7)


# Show the plot
plt.grid(axis='y', linestyle='--', alpha=0.7)
plt.show()


vmins = [2, 10, 0, 1]
vmaxs = [4.5, 80, 50, 10]


# Define the population change columns and titles
columns = ["overall_happiness", "NDVI", "NTL", "income_indiv"]
titles = [
    "Zonal Average Happiness", "Zonal Average NDVI", "Zonal Average NTL", "Zonal Average Income"
]


# Iterate through the variables and plot each separately
for aim_variable, title, vmin, vmax in zip(columns, titles, vmins, vmaxs):
    # Create a new figure
    fig, ax = plt.subplots(figsize=(16, 16), dpi=300)

    # Set the ocean color
    ax.set_facecolor(ocean_color)

    # Plot city boundaries
    city_gdf.plot(ax=ax, edgecolor='black', alpha=0.3, linewidth=0.2, facecolor='gray')
    
    perfecture_gdf.boundary.plot(ax=ax, edgecolor='dimgray', linewidth=0.5)

    # Annotate each prefecture with its name
    for idx, row in perfecture_gdf.iterrows():
        if row.geometry.is_empty or row.geometry.centroid.is_empty:
            continue  # skip invalid geometries
    
        centroid = row.geometry.centroid
        ax.annotate(
            text=row['JIS_Code'],
            xy=(centroid.x, centroid.y),
            ha='center',
            va='center',
            fontsize=10,
            color='black'
        )
    
    collection = result_gdf_loc.plot(
        column=aim_variable, 
        ax=ax, 
        cmap=cmap, 
        vmin=vmin, 
        vmax=vmax, 
        alpha=0.8, 
        markersize=0.2, 
        legend=True
    )

    inset_params = {
        'Tokyo':     {'bbox': (139.2, 35, 140.8, 36),      'anchor': (0.75, 0.1, 0.25, 0.25)},
        'Nagoya':    {'bbox': (136.7, 35, 137.2, 35.4),    'anchor': (0.4, 0.06, 0.25, 0.25)},
        'Osaka':     {'bbox': (135.3, 34.5, 135.8, 34.9),  'anchor': (0.25, 0.06, 0.25, 0.25)},
        'Fukuoka':   {'bbox': (130.1, 33.3, 130.7, 33.7),  'anchor': (0.02, 0.35, 0.25, 0.25)},
        'Sendai':    {'bbox': (140.6, 38.1, 141.1, 38.5),  'anchor': (0.72, 0.55, 0.25, 0.25)},
        'Sapporo':   {'bbox': (141.1, 42.9, 141.6, 43.3),  'anchor': (0.26, 0.72, 0.25, 0.25)}
    }
    
    for name, config in inset_params.items():
        extent = config['bbox']
        anchor = config['anchor']
        
        # Create a bounding box geometry for clipping
        bbox = box(*extent)
        
        # Clip the GeoDataFrames to the bounding box
        clipped_city = city_gdf.clip(bbox)
        clipped_result_gdf_loc = result_gdf_loc.clip(bbox)
        clipped_perfecture_gdf = perfecture_gdf.clip(bbox)
    
        # Create the inset axis
        axins = zoomed_inset_axes(ax, zoom=4, bbox_to_anchor=anchor, bbox_transform=ax.transAxes)
        axins.set_facecolor(ocean_color)
    
        # Plot clipped city boundary and result points
        clipped_city.plot(ax=axins, edgecolor='black', alpha=0.3, linewidth=0.2, facecolor='gray')
        clipped_perfecture_gdf.boundary.plot(ax=axins, edgecolor='dimgray', linewidth=0.7)
        clipped_result_gdf_loc.plot(
            column=aim_variable, 
            ax=axins, 
            cmap=cmap, 
            vmin=vmin, 
            vmax=vmax, 
            alpha=0.8, 
            markersize=0.2, 
            legend=False
        )
    
        # Set inset extent and appearance
        axins.set_xlim(extent[0], extent[2])
        axins.set_ylim(extent[1], extent[3])
        axins.grid(True)
        axins.tick_params(labelsize=5)
    
        # Mark the zoomed area on the main map
        mark_inset(ax, axins, loc1=1, loc2=2, fc="none", ec="0.5")
    
    # Add annotation
    ax.annotate(
        title, 
        xy=(0.01, 0.99), 
        xycoords='axes fraction', 
        fontsize=12, 
        ha='left', 
        va='top', 
        color='black'
    )

    rows = perfecture_gdf[['JIS_Code', 'Name']]\
    .sort_values(by='JIS_Code')\
    .reset_index(drop=True)

    chunks = [rows.iloc[i::3] for i in range(3)]

    # Format each column
    col_texts = []
    for chunk in chunks:
        col_text = "\n".join(f"{row['JIS_Code']:>2}: {row['Name']}" for _, row in chunk.iterrows())
        col_texts.append(col_text)
    
    # Display each column with adjusted x-positions
    x_positions = [0.01, 0.15, 0.29]  # Adjust horizontal position per column
    y_position = 0.95  # Starting y-position
    
    for x, text in zip(x_positions, col_texts):
        ax.text(
            x, y_position,
            text,
            transform=ax.transAxes,
            fontsize=8,
            va='top',
            ha='left',
            linespacing=1.2,
            family='monospace'
        )


    # Set grid and limits for the main plot
    ax.grid(True)
    ax.set_xlim(126, 150)
    ax.set_ylim(26, 47)

    # Save or show the plot
    # Uncomment to save
    fig.savefig(f'04_Figure/Fig_CityLevelVariable_{aim_variable}_refine_rev1.jpg', format='jpg', dpi=300, bbox_inches='tight')

    # Show the plot
    plt.show()






